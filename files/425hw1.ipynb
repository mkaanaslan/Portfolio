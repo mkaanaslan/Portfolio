{
 "cells": [
  {
   "cell_type": "markdown",
   "id": "068097fd",
   "metadata": {},
   "source": [
    "## Homework1"
   ]
  },
  {
   "cell_type": "code",
   "execution_count": 20,
   "id": "53888dae",
   "metadata": {
    "scrolled": true
   },
   "outputs": [],
   "source": [
    "library(tree)\n",
    "library(rpart)\n",
    "library(caTools)\n",
    "library(rpart.plot)\n",
    "library(kernlab)"
   ]
  },
  {
   "cell_type": "markdown",
   "id": "cd84d0bc",
   "metadata": {},
   "source": [
    "### \"Spam\" Data Set\n",
    "\n",
    "After loading the spam data set, the aim is build a tree model to learn and predict whether a mail is spam or not. The data set consists of 4601 observations. The output variable is the \"type\" column. \"type\" is a categorical variable with two levels \"spam\" and \"nonspam\". So, the model will be a classifaction tree."
   ]
  },
  {
   "cell_type": "code",
   "execution_count": 2,
   "id": "ee265af2",
   "metadata": {},
   "outputs": [
    {
     "data": {
      "text/html": [
       "4601"
      ],
      "text/latex": [
       "4601"
      ],
      "text/markdown": [
       "4601"
      ],
      "text/plain": [
       "[1] 4601"
      ]
     },
     "metadata": {},
     "output_type": "display_data"
    },
    {
     "data": {
      "text/html": [
       "'factor'"
      ],
      "text/latex": [
       "'factor'"
      ],
      "text/markdown": [
       "'factor'"
      ],
      "text/plain": [
       "[1] \"factor\""
      ]
     },
     "metadata": {},
     "output_type": "display_data"
    },
    {
     "data": {
      "text/html": [
       "<ol class=list-inline>\n",
       "\t<li>'nonspam'</li>\n",
       "\t<li>'spam'</li>\n",
       "</ol>\n"
      ],
      "text/latex": [
       "\\begin{enumerate*}\n",
       "\\item 'nonspam'\n",
       "\\item 'spam'\n",
       "\\end{enumerate*}\n"
      ],
      "text/markdown": [
       "1. 'nonspam'\n",
       "2. 'spam'\n",
       "\n",
       "\n"
      ],
      "text/plain": [
       "[1] \"nonspam\" \"spam\"   "
      ]
     },
     "metadata": {},
     "output_type": "display_data"
    }
   ],
   "source": [
    "data(\"spam\", package = \"kernlab\")\n",
    "nrow(spam)\n",
    "class(spam$type)\n",
    "levels(spam$type)"
   ]
  },
  {
   "cell_type": "markdown",
   "id": "fcad92c8",
   "metadata": {},
   "source": [
    "### a) Train and Test Data Sets"
   ]
  },
  {
   "cell_type": "code",
   "execution_count": 3,
   "id": "b591c3b2",
   "metadata": {},
   "outputs": [
    {
     "data": {
      "text/html": [
       "0.394044772875462"
      ],
      "text/latex": [
       "0.394044772875462"
      ],
      "text/markdown": [
       "0.394044772875462"
      ],
      "text/plain": [
       "[1] 0.3940448"
      ]
     },
     "metadata": {},
     "output_type": "display_data"
    }
   ],
   "source": [
    "nrow(spam[spam$type==\"spam\",])/nrow(spam)"
   ]
  },
  {
   "cell_type": "markdown",
   "id": "4007dfe4",
   "metadata": {},
   "source": [
    "- Positive class is \"spam\" since the model tries to filter the spam mails. The proportion of the spam mails is 0.394, thus there is enough observations to the model to learn, oversampling is not needed. However, the proportion of the positive class should stay constant while splitting into train and test sets. \"sample.split\" function from the \"caTools\" library can split the data set while preserving the proportion of the classes."
   ]
  },
  {
   "cell_type": "code",
   "execution_count": 4,
   "id": "3da3cfa9",
   "metadata": {},
   "outputs": [
    {
     "name": "stdout",
     "output_type": "stream",
     "text": [
      "[1] \"Number of observations in the training set\"\n"
     ]
    },
    {
     "data": {
      "text/html": [
       "3221"
      ],
      "text/latex": [
       "3221"
      ],
      "text/markdown": [
       "3221"
      ],
      "text/plain": [
       "[1] 3221"
      ]
     },
     "metadata": {},
     "output_type": "display_data"
    },
    {
     "name": "stdout",
     "output_type": "stream",
     "text": [
      "[1] \"Number of observations in the test set\"\n"
     ]
    },
    {
     "data": {
      "text/html": [
       "1380"
      ],
      "text/latex": [
       "1380"
      ],
      "text/markdown": [
       "1380"
      ],
      "text/plain": [
       "[1] 1380"
      ]
     },
     "metadata": {},
     "output_type": "display_data"
    },
    {
     "name": "stdout",
     "output_type": "stream",
     "text": [
      "[1] \"Proportions\"\n",
      "[1] \"Train\"\n"
     ]
    },
    {
     "data": {
      "text/html": [
       "0.393977025768395"
      ],
      "text/latex": [
       "0.393977025768395"
      ],
      "text/markdown": [
       "0.393977025768395"
      ],
      "text/plain": [
       "[1] 0.393977"
      ]
     },
     "metadata": {},
     "output_type": "display_data"
    },
    {
     "name": "stdout",
     "output_type": "stream",
     "text": [
      "[1] \"Test\"\n"
     ]
    },
    {
     "data": {
      "text/html": [
       "0.394202898550725"
      ],
      "text/latex": [
       "0.394202898550725"
      ],
      "text/markdown": [
       "0.394202898550725"
      ],
      "text/plain": [
       "[1] 0.3942029"
      ]
     },
     "metadata": {},
     "output_type": "display_data"
    }
   ],
   "source": [
    "set.seed(1000)\n",
    "train <- sample.split(spam$type,0.7)\n",
    "spam_train <- spam[train,]\n",
    "spam_test <- spam[!train,]\n",
    "print(\"Number of observations in the training set\")\n",
    "nrow(spam_train)\n",
    "print(\"Number of observations in the test set\")\n",
    "nrow(spam_test)\n",
    "print(\"Proportions\")\n",
    "print(\"Train\")\n",
    "nrow(spam_train[spam_train$type==\"spam\",])/nrow(spam_train)\n",
    "print(\"Test\")\n",
    "nrow(spam_test[spam_test$type==\"spam\",])/nrow(spam_test)"
   ]
  },
  {
   "cell_type": "markdown",
   "id": "37db5dde",
   "metadata": {},
   "source": [
    "### b) Large tree with \"rpart\""
   ]
  },
  {
   "cell_type": "code",
   "execution_count": 5,
   "id": "df1c7e9b",
   "metadata": {
    "scrolled": true
   },
   "outputs": [
    {
     "data": {
      "text/html": [
       "<table>\n",
       "<thead><tr><th></th><th scope=col>CP</th><th scope=col>nsplit</th><th scope=col>rel.error</th><th scope=col>xerror</th><th scope=col>xstd</th></tr></thead>\n",
       "<tbody>\n",
       "\t<tr><th scope=row>23</th><td>0.0004728132</td><td>131         </td><td>0.0338849488</td><td>0.2277384   </td><td>0.01278127  </td></tr>\n",
       "\t<tr><th scope=row>24</th><td>0.0004377900</td><td>136         </td><td>0.0315208826</td><td>0.2293144   </td><td>0.01282104  </td></tr>\n",
       "\t<tr><th scope=row>25</th><td>0.0003940110</td><td>152         </td><td>0.0244286840</td><td>0.2505910   </td><td>0.01334075  </td></tr>\n",
       "\t<tr><th scope=row>26</th><td>0.0003581918</td><td>188         </td><td>0.0102442868</td><td>0.2505910   </td><td>0.01334075  </td></tr>\n",
       "\t<tr><th scope=row>27</th><td>0.0003377237</td><td>207         </td><td>0.0031520883</td><td>0.2529551   </td><td>0.01339660  </td></tr>\n",
       "\t<tr><th scope=row>28</th><td>0.0001000000</td><td>214         </td><td>0.0007880221</td><td>0.2521671   </td><td>0.01337802  </td></tr>\n",
       "</tbody>\n",
       "</table>\n"
      ],
      "text/latex": [
       "\\begin{tabular}{r|lllll}\n",
       "  & CP & nsplit & rel.error & xerror & xstd\\\\\n",
       "\\hline\n",
       "\t23 & 0.0004728132 & 131          & 0.0338849488 & 0.2277384    & 0.01278127  \\\\\n",
       "\t24 & 0.0004377900 & 136          & 0.0315208826 & 0.2293144    & 0.01282104  \\\\\n",
       "\t25 & 0.0003940110 & 152          & 0.0244286840 & 0.2505910    & 0.01334075  \\\\\n",
       "\t26 & 0.0003581918 & 188          & 0.0102442868 & 0.2505910    & 0.01334075  \\\\\n",
       "\t27 & 0.0003377237 & 207          & 0.0031520883 & 0.2529551    & 0.01339660  \\\\\n",
       "\t28 & 0.0001000000 & 214          & 0.0007880221 & 0.2521671    & 0.01337802  \\\\\n",
       "\\end{tabular}\n"
      ],
      "text/markdown": [
       "\n",
       "| <!--/--> | CP | nsplit | rel.error | xerror | xstd |\n",
       "|---|---|---|---|---|---|\n",
       "| 23 | 0.0004728132 | 131          | 0.0338849488 | 0.2277384    | 0.01278127   |\n",
       "| 24 | 0.0004377900 | 136          | 0.0315208826 | 0.2293144    | 0.01282104   |\n",
       "| 25 | 0.0003940110 | 152          | 0.0244286840 | 0.2505910    | 0.01334075   |\n",
       "| 26 | 0.0003581918 | 188          | 0.0102442868 | 0.2505910    | 0.01334075   |\n",
       "| 27 | 0.0003377237 | 207          | 0.0031520883 | 0.2529551    | 0.01339660   |\n",
       "| 28 | 0.0001000000 | 214          | 0.0007880221 | 0.2521671    | 0.01337802   |\n",
       "\n"
      ],
      "text/plain": [
       "   CP           nsplit rel.error    xerror    xstd      \n",
       "23 0.0004728132 131    0.0338849488 0.2277384 0.01278127\n",
       "24 0.0004377900 136    0.0315208826 0.2293144 0.01282104\n",
       "25 0.0003940110 152    0.0244286840 0.2505910 0.01334075\n",
       "26 0.0003581918 188    0.0102442868 0.2505910 0.01334075\n",
       "27 0.0003377237 207    0.0031520883 0.2529551 0.01339660\n",
       "28 0.0001000000 214    0.0007880221 0.2521671 0.01337802"
      ]
     },
     "metadata": {},
     "output_type": "display_data"
    }
   ],
   "source": [
    "spam_rpart <- rpart(type~.,method=\"class\",data=spam_train,minbucket=1,minsplit=2, cp=0.0001)\n",
    "cp_df <- data.frame(spam_rpart$cptable)\n",
    "tail(cp_df)"
   ]
  },
  {
   "cell_type": "markdown",
   "id": "51147350",
   "metadata": {},
   "source": [
    "- Using the parameters \"minbucket=1\", \"minsplit=2\" and \"cp=0.0001\", the largest tree is obtained with the \"rpart()\" function. There is 214 splits, so the tree consists of 215 leaf nodes."
   ]
  },
  {
   "cell_type": "markdown",
   "id": "276958a9",
   "metadata": {},
   "source": [
    "### c) Predictions with large tree"
   ]
  },
  {
   "cell_type": "code",
   "execution_count": 6,
   "id": "1a048d25",
   "metadata": {
    "scrolled": false
   },
   "outputs": [
    {
     "data": {
      "text/plain": [
       "         pred_spam\n",
       "          nonspam spam\n",
       "  nonspam     761   75\n",
       "  spam         58  486"
      ]
     },
     "metadata": {},
     "output_type": "display_data"
    }
   ],
   "source": [
    "pred_spam <- predict(spam_rpart,newdata=spam_test,type=\"class\")\n",
    "table(spam_test$type,pred_spam)"
   ]
  },
  {
   "cell_type": "markdown",
   "id": "8148d2cd",
   "metadata": {},
   "source": [
    "- False positive rate = 75/836 = 0.0897\n",
    "- False negative rate = 58/544 = 0.1066\n",
    "- Error rate          = 133/1380 = 0.0963"
   ]
  },
  {
   "cell_type": "markdown",
   "id": "5e0fa83d",
   "metadata": {},
   "source": [
    "### d) Cross-validation and pruning"
   ]
  },
  {
   "cell_type": "code",
   "execution_count": 7,
   "id": "fc2794d6",
   "metadata": {},
   "outputs": [
    {
     "data": {
      "text/html": [
       "<strong>20:</strong> 20"
      ],
      "text/latex": [
       "\\textbf{20:} 20"
      ],
      "text/markdown": [
       "**20:** 20"
      ],
      "text/plain": [
       "20 \n",
       "20 "
      ]
     },
     "metadata": {},
     "output_type": "display_data"
    },
    {
     "data": {
      "text/html": [
       "0.226777547446007"
      ],
      "text/latex": [
       "0.226777547446007"
      ],
      "text/markdown": [
       "0.226777547446007"
      ],
      "text/plain": [
       "[1] 0.2267775"
      ]
     },
     "metadata": {},
     "output_type": "display_data"
    }
   ],
   "source": [
    "index <- which.min(spam_rpart$cptable[,\"xerror\"])\n",
    "index\n",
    "min_cv <- spam_rpart$cptable[index,\"xerror\"] + spam_rpart$cptable[index,\"xstd\"]\n",
    "min_cv"
   ]
  },
  {
   "cell_type": "markdown",
   "id": "4aabc3f8",
   "metadata": {},
   "source": [
    "- Summation of the minimum cross-validation error and its standart deviation is 0.226."
   ]
  },
  {
   "cell_type": "code",
   "execution_count": 8,
   "id": "b5378dc5",
   "metadata": {},
   "outputs": [
    {
     "data": {
      "text/html": [
       "<table>\n",
       "<thead><tr><th></th><th scope=col>CP</th><th scope=col>nsplit</th><th scope=col>rel.error</th><th scope=col>xerror</th><th scope=col>xstd</th></tr></thead>\n",
       "<tbody>\n",
       "\t<tr><th scope=row>15</th><td>0.002364066</td><td>27         </td><td>0.144208   </td><td>0.2301024  </td><td>0.01284086 </td></tr>\n",
       "</tbody>\n",
       "</table>\n"
      ],
      "text/latex": [
       "\\begin{tabular}{r|lllll}\n",
       "  & CP & nsplit & rel.error & xerror & xstd\\\\\n",
       "\\hline\n",
       "\t15 & 0.002364066 & 27          & 0.144208    & 0.2301024   & 0.01284086 \\\\\n",
       "\\end{tabular}\n"
      ],
      "text/markdown": [
       "\n",
       "| <!--/--> | CP | nsplit | rel.error | xerror | xstd |\n",
       "|---|---|---|---|---|---|\n",
       "| 15 | 0.002364066 | 27          | 0.144208    | 0.2301024   | 0.01284086  |\n",
       "\n"
      ],
      "text/plain": [
       "   CP          nsplit rel.error xerror    xstd      \n",
       "15 0.002364066 27     0.144208  0.2301024 0.01284086"
      ]
     },
     "metadata": {},
     "output_type": "display_data"
    },
    {
     "data": {
      "text/html": [
       "<table>\n",
       "<thead><tr><th></th><th scope=col>CP</th><th scope=col>nsplit</th><th scope=col>rel.error</th><th scope=col>xerror</th><th scope=col>xstd</th></tr></thead>\n",
       "<tbody>\n",
       "\t<tr><th scope=row>16</th><td>0.0021013922</td><td> 31         </td><td>0.13475177  </td><td>0.2253743   </td><td>0.01272126  </td></tr>\n",
       "\t<tr><th scope=row>17</th><td>0.0015760441</td><td> 34         </td><td>0.12844760  </td><td>0.2253743   </td><td>0.01272126  </td></tr>\n",
       "\t<tr><th scope=row>18</th><td>0.0011820331</td><td> 48         </td><td>0.10638298  </td><td>0.2159180   </td><td>0.01247695  </td></tr>\n",
       "\t<tr><th scope=row>19</th><td>0.0010244287</td><td> 54         </td><td>0.09929078  </td><td>0.2167061   </td><td>0.01249757  </td></tr>\n",
       "\t<tr><th scope=row>20</th><td>0.0009193591</td><td> 64         </td><td>0.08904649  </td><td>0.2143420   </td><td>0.01243555  </td></tr>\n",
       "\t<tr><th scope=row>21</th><td>0.0007880221</td><td> 70         </td><td>0.08353034  </td><td>0.2206462   </td><td>0.01259997  </td></tr>\n",
       "\t<tr><th scope=row>22</th><td>0.0005253480</td><td>127         </td><td>0.03624901  </td><td>0.2206462   </td><td>0.01259997  </td></tr>\n",
       "</tbody>\n",
       "</table>\n"
      ],
      "text/latex": [
       "\\begin{tabular}{r|lllll}\n",
       "  & CP & nsplit & rel.error & xerror & xstd\\\\\n",
       "\\hline\n",
       "\t16 & 0.0021013922 &  31          & 0.13475177   & 0.2253743    & 0.01272126  \\\\\n",
       "\t17 & 0.0015760441 &  34          & 0.12844760   & 0.2253743    & 0.01272126  \\\\\n",
       "\t18 & 0.0011820331 &  48          & 0.10638298   & 0.2159180    & 0.01247695  \\\\\n",
       "\t19 & 0.0010244287 &  54          & 0.09929078   & 0.2167061    & 0.01249757  \\\\\n",
       "\t20 & 0.0009193591 &  64          & 0.08904649   & 0.2143420    & 0.01243555  \\\\\n",
       "\t21 & 0.0007880221 &  70          & 0.08353034   & 0.2206462    & 0.01259997  \\\\\n",
       "\t22 & 0.0005253480 & 127          & 0.03624901   & 0.2206462    & 0.01259997  \\\\\n",
       "\\end{tabular}\n"
      ],
      "text/markdown": [
       "\n",
       "| <!--/--> | CP | nsplit | rel.error | xerror | xstd |\n",
       "|---|---|---|---|---|---|\n",
       "| 16 | 0.0021013922 |  31          | 0.13475177   | 0.2253743    | 0.01272126   |\n",
       "| 17 | 0.0015760441 |  34          | 0.12844760   | 0.2253743    | 0.01272126   |\n",
       "| 18 | 0.0011820331 |  48          | 0.10638298   | 0.2159180    | 0.01247695   |\n",
       "| 19 | 0.0010244287 |  54          | 0.09929078   | 0.2167061    | 0.01249757   |\n",
       "| 20 | 0.0009193591 |  64          | 0.08904649   | 0.2143420    | 0.01243555   |\n",
       "| 21 | 0.0007880221 |  70          | 0.08353034   | 0.2206462    | 0.01259997   |\n",
       "| 22 | 0.0005253480 | 127          | 0.03624901   | 0.2206462    | 0.01259997   |\n",
       "\n"
      ],
      "text/plain": [
       "   CP           nsplit rel.error  xerror    xstd      \n",
       "16 0.0021013922  31    0.13475177 0.2253743 0.01272126\n",
       "17 0.0015760441  34    0.12844760 0.2253743 0.01272126\n",
       "18 0.0011820331  48    0.10638298 0.2159180 0.01247695\n",
       "19 0.0010244287  54    0.09929078 0.2167061 0.01249757\n",
       "20 0.0009193591  64    0.08904649 0.2143420 0.01243555\n",
       "21 0.0007880221  70    0.08353034 0.2206462 0.01259997\n",
       "22 0.0005253480 127    0.03624901 0.2206462 0.01259997"
      ]
     },
     "metadata": {},
     "output_type": "display_data"
    }
   ],
   "source": [
    "cp_df[15,]\n",
    "cp_df[cp_df$xerror <= min_cv,]"
   ]
  },
  {
   "cell_type": "markdown",
   "id": "e3d57671",
   "metadata": {},
   "source": [
    "- At the 16th row of the cp table, cv error is smaller than 0.237, so best cp value could be taken as 0.0022"
   ]
  },
  {
   "cell_type": "code",
   "execution_count": 9,
   "id": "f5d70f66",
   "metadata": {},
   "outputs": [
    {
     "data": {
      "text/html": [
       "<table>\n",
       "<thead><tr><th></th><th scope=col>CP</th><th scope=col>nsplit</th><th scope=col>rel error</th><th scope=col>xerror</th><th scope=col>xstd</th></tr></thead>\n",
       "<tbody>\n",
       "\t<tr><th scope=row>11</th><td>0.004728132</td><td>13         </td><td>0.1962175  </td><td>0.2427108  </td><td>0.01315190 </td></tr>\n",
       "\t<tr><th scope=row>12</th><td>0.003940110</td><td>15         </td><td>0.1867612  </td><td>0.2371946  </td><td>0.01301720 </td></tr>\n",
       "\t<tr><th scope=row>13</th><td>0.003546099</td><td>17         </td><td>0.1788810  </td><td>0.2316785  </td><td>0.01288036 </td></tr>\n",
       "\t<tr><th scope=row>14</th><td>0.003152088</td><td>19         </td><td>0.1717888  </td><td>0.2308905  </td><td>0.01286063 </td></tr>\n",
       "\t<tr><th scope=row>15</th><td>0.002364066</td><td>27         </td><td>0.1442080  </td><td>0.2301024  </td><td>0.01284086 </td></tr>\n",
       "\t<tr><th scope=row>16</th><td>0.002200000</td><td>31         </td><td>0.1347518  </td><td>0.2253743  </td><td>0.01272126 </td></tr>\n",
       "</tbody>\n",
       "</table>\n"
      ],
      "text/latex": [
       "\\begin{tabular}{r|lllll}\n",
       "  & CP & nsplit & rel error & xerror & xstd\\\\\n",
       "\\hline\n",
       "\t11 & 0.004728132 & 13          & 0.1962175   & 0.2427108   & 0.01315190 \\\\\n",
       "\t12 & 0.003940110 & 15          & 0.1867612   & 0.2371946   & 0.01301720 \\\\\n",
       "\t13 & 0.003546099 & 17          & 0.1788810   & 0.2316785   & 0.01288036 \\\\\n",
       "\t14 & 0.003152088 & 19          & 0.1717888   & 0.2308905   & 0.01286063 \\\\\n",
       "\t15 & 0.002364066 & 27          & 0.1442080   & 0.2301024   & 0.01284086 \\\\\n",
       "\t16 & 0.002200000 & 31          & 0.1347518   & 0.2253743   & 0.01272126 \\\\\n",
       "\\end{tabular}\n"
      ],
      "text/markdown": [
       "\n",
       "| <!--/--> | CP | nsplit | rel error | xerror | xstd |\n",
       "|---|---|---|---|---|---|\n",
       "| 11 | 0.004728132 | 13          | 0.1962175   | 0.2427108   | 0.01315190  |\n",
       "| 12 | 0.003940110 | 15          | 0.1867612   | 0.2371946   | 0.01301720  |\n",
       "| 13 | 0.003546099 | 17          | 0.1788810   | 0.2316785   | 0.01288036  |\n",
       "| 14 | 0.003152088 | 19          | 0.1717888   | 0.2308905   | 0.01286063  |\n",
       "| 15 | 0.002364066 | 27          | 0.1442080   | 0.2301024   | 0.01284086  |\n",
       "| 16 | 0.002200000 | 31          | 0.1347518   | 0.2253743   | 0.01272126  |\n",
       "\n"
      ],
      "text/plain": [
       "   CP          nsplit rel error xerror    xstd      \n",
       "11 0.004728132 13     0.1962175 0.2427108 0.01315190\n",
       "12 0.003940110 15     0.1867612 0.2371946 0.01301720\n",
       "13 0.003546099 17     0.1788810 0.2316785 0.01288036\n",
       "14 0.003152088 19     0.1717888 0.2308905 0.01286063\n",
       "15 0.002364066 27     0.1442080 0.2301024 0.01284086\n",
       "16 0.002200000 31     0.1347518 0.2253743 0.01272126"
      ]
     },
     "metadata": {},
     "output_type": "display_data"
    }
   ],
   "source": [
    "opttree <- prune(spam_rpart,cp=0.0022)\n",
    "tail(opttree$cptable)"
   ]
  },
  {
   "cell_type": "markdown",
   "id": "aef9f3c1",
   "metadata": {},
   "source": [
    "- After the pruning, the optimum tree has 32 leaf nodes."
   ]
  },
  {
   "cell_type": "markdown",
   "id": "7ff36389",
   "metadata": {},
   "source": [
    "### e) Predicting with the \"opttree\"\n"
   ]
  },
  {
   "cell_type": "code",
   "execution_count": 10,
   "id": "017a40e3",
   "metadata": {
    "scrolled": false
   },
   "outputs": [
    {
     "data": {
      "text/plain": [
       "         opt_pred\n",
       "          nonspam spam\n",
       "  nonspam     786   50\n",
       "  spam         57  487"
      ]
     },
     "metadata": {},
     "output_type": "display_data"
    }
   ],
   "source": [
    "opt_pred <- predict(opttree,newdata=spam_test,type=\"class\")\n",
    "table(spam_test$type,opt_pred)"
   ]
  },
  {
   "cell_type": "markdown",
   "id": "b0adaf44",
   "metadata": {},
   "source": [
    "- False positive rate = 50/836 = 0.0598\n",
    "- False negative rate = 57/544 = 0.1047 \n",
    "- Error rate = 107/1380 = 0.0775"
   ]
  },
  {
   "cell_type": "markdown",
   "id": "5a1a6443",
   "metadata": {},
   "source": [
    "- After the pruning, error rate, false positive rate and false negative rate are decreased. However, the highest decrease is in the false positive rate. Worst scenario is labeling an important mail to a spam mail. So, low false positive rate is preferred."
   ]
  },
  {
   "cell_type": "markdown",
   "id": "3b8d46e2",
   "metadata": {},
   "source": [
    "### b2) Large tree with \"tree\"\n"
   ]
  },
  {
   "cell_type": "code",
   "execution_count": 11,
   "id": "2e0cd2d2",
   "metadata": {},
   "outputs": [
    {
     "data": {
      "text/plain": [
       "\n",
       "Classification tree:\n",
       "tree(formula = type ~ ., data = spam_train, minsize = 2, mincut = 1, \n",
       "    mindev = 1e-04)\n",
       "Variables actually used in tree construction:\n",
       " [1] \"charExclamation\"  \"remove\"           \"money\"            \"george\"          \n",
       " [5] \"hp\"               \"capitalLong\"      \"free\"             \"your\"            \n",
       " [9] \"email\"            \"credit\"           \"will\"             \"capitalTotal\"    \n",
       "[13] \"mail\"             \"direct\"           \"capitalAve\"       \"you\"             \n",
       "[17] \"charSemicolon\"    \"all\"              \"internet\"         \"make\"            \n",
       "[21] \"address\"          \"over\"             \"our\"              \"num1999\"         \n",
       "[25] \"charDollar\"       \"re\"               \"technology\"       \"business\"        \n",
       "[29] \"charRoundbracket\" \"data\"             \"edu\"              \"receive\"         \n",
       "[33] \"hpl\"              \"num3d\"            \"report\"           \"num85\"           \n",
       "[37] \"project\"          \"order\"           \n",
       "Number of terminal nodes:  187 \n",
       "Residual mean deviance:  0.0009138 = 2.773 / 3034 \n",
       "Misclassification error rate: 0.0003105 = 1 / 3221 "
      ]
     },
     "metadata": {},
     "output_type": "display_data"
    }
   ],
   "source": [
    "spam_tree <- tree(type~.,spam_train,minsize=2,mincut=1,mindev=0.0001)\n",
    "summary(spam_tree)"
   ]
  },
  {
   "cell_type": "markdown",
   "id": "83ad1ff7",
   "metadata": {},
   "source": [
    "- With \"tree()\" function, the largest tree has 187 leaf nodes."
   ]
  },
  {
   "cell_type": "markdown",
   "id": "0f66e257",
   "metadata": {},
   "source": [
    "### c2) Prediction with large tree"
   ]
  },
  {
   "cell_type": "code",
   "execution_count": 12,
   "id": "90ecf6e8",
   "metadata": {},
   "outputs": [
    {
     "data": {
      "text/plain": [
       "         pred_spam_tree\n",
       "          nonspam spam\n",
       "  nonspam     775   61\n",
       "  spam         46  498"
      ]
     },
     "metadata": {},
     "output_type": "display_data"
    }
   ],
   "source": [
    "pred_spam_tree <- predict(spam_tree,newdata=spam_test,type=\"class\")\n",
    "table(spam_test$type,pred_spam_tree)"
   ]
  },
  {
   "cell_type": "markdown",
   "id": "dac93e1c",
   "metadata": {},
   "source": [
    "- False positive rate = 61/836 = 0.0729 \n",
    "- False negative rate = 46/544 = 0.0845\n",
    "- Error rate = 107/1380 = 0.0775"
   ]
  },
  {
   "cell_type": "markdown",
   "id": "ca6b49eb",
   "metadata": {},
   "source": [
    "### d2) Cross-validation and pruning"
   ]
  },
  {
   "cell_type": "code",
   "execution_count": 13,
   "id": "4cb4b822",
   "metadata": {},
   "outputs": [
    {
     "data": {
      "text/html": [
       "<table>\n",
       "<thead><tr><th></th><th scope=col>cv_spam.size</th><th scope=col>cv_spam.dev</th><th scope=col>cv_spam.k</th></tr></thead>\n",
       "<tbody>\n",
       "\t<tr><th scope=row>10</th><td>65        </td><td> 320      </td><td>  1.750000</td></tr>\n",
       "\t<tr><th scope=row>11</th><td>48        </td><td> 320      </td><td>  2.000000</td></tr>\n",
       "\t<tr><th scope=row>12</th><td>42        </td><td> 320      </td><td>  2.500000</td></tr>\n",
       "\t<tr><th scope=row>13</th><td>32        </td><td> 316      </td><td>  3.000000</td></tr>\n",
       "\t<tr><th scope=row>14</th><td>28        </td><td> 327      </td><td>  4.000000</td></tr>\n",
       "\t<tr><th scope=row>15</th><td>26        </td><td> 329      </td><td>  4.500000</td></tr>\n",
       "\t<tr><th scope=row>16</th><td>22        </td><td> 332      </td><td>  5.000000</td></tr>\n",
       "\t<tr><th scope=row>17</th><td>16        </td><td> 332      </td><td>  5.666667</td></tr>\n",
       "\t<tr><th scope=row>18</th><td>13        </td><td> 333      </td><td>  6.333333</td></tr>\n",
       "\t<tr><th scope=row>19</th><td>12        </td><td> 341      </td><td>  9.000000</td></tr>\n",
       "\t<tr><th scope=row>20</th><td>10        </td><td> 341      </td><td>  9.500000</td></tr>\n",
       "\t<tr><th scope=row>21</th><td> 8        </td><td> 354      </td><td> 11.000000</td></tr>\n",
       "\t<tr><th scope=row>22</th><td> 7        </td><td> 353      </td><td> 13.000000</td></tr>\n",
       "\t<tr><th scope=row>23</th><td> 6        </td><td> 372      </td><td> 20.000000</td></tr>\n",
       "\t<tr><th scope=row>24</th><td> 3        </td><td> 624      </td><td> 72.666667</td></tr>\n",
       "\t<tr><th scope=row>25</th><td> 2        </td><td> 654      </td><td> 87.000000</td></tr>\n",
       "\t<tr><th scope=row>26</th><td> 1        </td><td>1269      </td><td>595.000000</td></tr>\n",
       "</tbody>\n",
       "</table>\n"
      ],
      "text/latex": [
       "\\begin{tabular}{r|lll}\n",
       "  & cv\\_spam.size & cv\\_spam.dev & cv\\_spam.k\\\\\n",
       "\\hline\n",
       "\t10 & 65         &  320       &   1.750000\\\\\n",
       "\t11 & 48         &  320       &   2.000000\\\\\n",
       "\t12 & 42         &  320       &   2.500000\\\\\n",
       "\t13 & 32         &  316       &   3.000000\\\\\n",
       "\t14 & 28         &  327       &   4.000000\\\\\n",
       "\t15 & 26         &  329       &   4.500000\\\\\n",
       "\t16 & 22         &  332       &   5.000000\\\\\n",
       "\t17 & 16         &  332       &   5.666667\\\\\n",
       "\t18 & 13         &  333       &   6.333333\\\\\n",
       "\t19 & 12         &  341       &   9.000000\\\\\n",
       "\t20 & 10         &  341       &   9.500000\\\\\n",
       "\t21 &  8         &  354       &  11.000000\\\\\n",
       "\t22 &  7         &  353       &  13.000000\\\\\n",
       "\t23 &  6         &  372       &  20.000000\\\\\n",
       "\t24 &  3         &  624       &  72.666667\\\\\n",
       "\t25 &  2         &  654       &  87.000000\\\\\n",
       "\t26 &  1         & 1269       & 595.000000\\\\\n",
       "\\end{tabular}\n"
      ],
      "text/markdown": [
       "\n",
       "| <!--/--> | cv_spam.size | cv_spam.dev | cv_spam.k |\n",
       "|---|---|---|---|\n",
       "| 10 | 65         |  320       |   1.750000 |\n",
       "| 11 | 48         |  320       |   2.000000 |\n",
       "| 12 | 42         |  320       |   2.500000 |\n",
       "| 13 | 32         |  316       |   3.000000 |\n",
       "| 14 | 28         |  327       |   4.000000 |\n",
       "| 15 | 26         |  329       |   4.500000 |\n",
       "| 16 | 22         |  332       |   5.000000 |\n",
       "| 17 | 16         |  332       |   5.666667 |\n",
       "| 18 | 13         |  333       |   6.333333 |\n",
       "| 19 | 12         |  341       |   9.000000 |\n",
       "| 20 | 10         |  341       |   9.500000 |\n",
       "| 21 |  8         |  354       |  11.000000 |\n",
       "| 22 |  7         |  353       |  13.000000 |\n",
       "| 23 |  6         |  372       |  20.000000 |\n",
       "| 24 |  3         |  624       |  72.666667 |\n",
       "| 25 |  2         |  654       |  87.000000 |\n",
       "| 26 |  1         | 1269       | 595.000000 |\n",
       "\n"
      ],
      "text/plain": [
       "   cv_spam.size cv_spam.dev cv_spam.k \n",
       "10 65            320          1.750000\n",
       "11 48            320          2.000000\n",
       "12 42            320          2.500000\n",
       "13 32            316          3.000000\n",
       "14 28            327          4.000000\n",
       "15 26            329          4.500000\n",
       "16 22            332          5.000000\n",
       "17 16            332          5.666667\n",
       "18 13            333          6.333333\n",
       "19 12            341          9.000000\n",
       "20 10            341          9.500000\n",
       "21  8            354         11.000000\n",
       "22  7            353         13.000000\n",
       "23  6            372         20.000000\n",
       "24  3            624         72.666667\n",
       "25  2            654         87.000000\n",
       "26  1           1269        595.000000"
      ]
     },
     "metadata": {},
     "output_type": "display_data"
    },
    {
     "name": "stdout",
     "output_type": "stream",
     "text": [
      "[1] \"Best size\"\n"
     ]
    },
    {
     "data": {
      "text/html": [
       "32"
      ],
      "text/latex": [
       "32"
      ],
      "text/markdown": [
       "32"
      ],
      "text/plain": [
       "[1] 32"
      ]
     },
     "metadata": {},
     "output_type": "display_data"
    },
    {
     "data": {
      "image/png": "[encoded data removed]",
      "text/plain": [
       "plot without title"
      ]
     },
     "metadata": {},
     "output_type": "display_data"
    }
   ],
   "source": [
    "cv_spam <- cv.tree(spam_tree, K=10, FUN=prune.misclass)\n",
    "options(repr.plot.width = 4, repr.plot.height = 4)\n",
    "plot(cv_spam, type=\"b\")\n",
    "data.frame(cv_spam$size,cv_spam$dev,cv_spam$k)[10:26,]\n",
    "bestsize <- cv_spam$size[which.min(cv_spam$dev)]\n",
    "print(\"Best size\")\n",
    "bestsize"
   ]
  },
  {
   "cell_type": "markdown",
   "id": "09dcec02",
   "metadata": {},
   "source": [
    "- In order to obtain better results, the model should use the classification error rate in the cross-validation and pruning process. \"FUN = prune.misclass\" parameter indicates to use classification error rate instead of the default parameter deviance. So, minimum classification error is 316 and the best tree size is 32."
   ]
  },
  {
   "cell_type": "code",
   "execution_count": 14,
   "id": "49e35166",
   "metadata": {
    "scrolled": true
   },
   "outputs": [
    {
     "data": {
      "text/plain": [
       "\n",
       "Classification tree:\n",
       "snip.tree(tree = spam_tree, nodes = c(27L, 99L, 28L, 129L, 101L, \n",
       "521L, 256L, 21L, 261L, 776L, 389L, 18L, 98L, 19L, 257L, 20L, \n",
       "58L, 15L, 1040L, 51L, 100L, 96L, 33L))\n",
       "Variables actually used in tree construction:\n",
       " [1] \"charExclamation\" \"remove\"          \"money\"           \"george\"         \n",
       " [5] \"hp\"              \"capitalLong\"     \"free\"            \"your\"           \n",
       " [9] \"our\"             \"num1999\"         \"charDollar\"      \"re\"             \n",
       "[13] \"capitalAve\"      \"you\"             \"business\"        \"edu\"            \n",
       "[17] \"project\"        \n",
       "Number of terminal nodes:  32 \n",
       "Residual mean deviance:  0.35 = 1116 / 3189 \n",
       "Misclassification error rate: 0.0652 = 210 / 3221 "
      ]
     },
     "metadata": {},
     "output_type": "display_data"
    }
   ],
   "source": [
    "opttree2 <- prune.tree(spam_tree,best=32)\n",
    "summary(opttree2)"
   ]
  },
  {
   "cell_type": "markdown",
   "id": "7927ca04",
   "metadata": {},
   "source": [
    "### e2) Predicting with new \"opttree\""
   ]
  },
  {
   "cell_type": "code",
   "execution_count": 15,
   "id": "45a2ddba",
   "metadata": {},
   "outputs": [
    {
     "data": {
      "text/plain": [
       "         opt_pred2\n",
       "          nonspam spam\n",
       "  nonspam     791   45\n",
       "  spam         79  465"
      ]
     },
     "metadata": {},
     "output_type": "display_data"
    }
   ],
   "source": [
    "opt_pred2 <- predict(opttree2,newdata=spam_test,type=\"class\")\n",
    "table(spam_test$type,opt_pred2)"
   ]
  },
  {
   "cell_type": "markdown",
   "id": "1ba1372d",
   "metadata": {},
   "source": [
    "- False positive rate = 45/836 = 0.0538\n",
    "- False negative rate = 79/544 = 0.1452 \n",
    "- Error rate = 124/1380 = 0.0898"
   ]
  },
  {
   "cell_type": "markdown",
   "id": "f0937459",
   "metadata": {},
   "source": [
    "- While the false negative rate increases, error rate and the false positive rate is decreased. Again, the highest decrease is in the false positive rate. Spam filter shouldn't sent an importaint mail to spam box. Thus, with the lowest false positive rate 0.0538, this is the best model to use."
   ]
  },
  {
   "cell_type": "markdown",
   "id": "29583173",
   "metadata": {},
   "source": [
    "PS: In the compiling of cross-validation steps, a new random number is generated. Overall result isn't changing but deviance measures could have small changes in different compilings. Measurements are taken from first and same ordered compilations."
   ]
  }
 ],
 "metadata": {
  "kernelspec": {
   "display_name": "R",
   "language": "R",
   "name": "ir"
  },
  "language_info": {
   "codemirror_mode": "r",
   "file_extension": ".r",
   "mimetype": "text/x-r-source",
   "name": "R",
   "pygments_lexer": "r",
   "version": "4.1.2"
  }
 },
 "nbformat": 4,
 "nbformat_minor": 5
}
