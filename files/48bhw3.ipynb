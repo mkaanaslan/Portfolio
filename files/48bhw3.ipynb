{
 "cells": [
  {
   "cell_type": "code",
   "execution_count": 2,
   "id": "0f98f1cf",
   "metadata": {},
   "outputs": [],
   "source": [
    "library(data.table)\n",
    "library(lubridate)\n",
    "library(rpart)\n",
    "library(partykit)\n",
    "library(ggplot2)\n",
    "library(Metrics)\n",
    "library(TSrepr)\n",
    "library(TunePareto)\n",
    "library(caret)\n",
    "library(forecast)\n",
    "library(tidyr)\n",
    "library(rattle)\n",
    "options(repr.plot.width=10, repr.plot.height=10)"
   ]
  },
  {
   "cell_type": "code",
   "execution_count": 3,
   "id": "97da5deb",
   "metadata": {},
   "outputs": [],
   "source": [
    "accu=function(actual,forecast){\n",
    "  n=length(actual)\n",
    "  error=actual-forecast\n",
    "  mean=mean(actual)\n",
    "  sd=sd(actual)\n",
    "  CV=sd/mean\n",
    "  FBias=sum(error)/sum(actual)\n",
    "  MAPE=sum(abs(error/actual+0.0000001))/n\n",
    "  RMSE=sqrt(sum(error^2)/n)\n",
    "  MAD=sum(abs(error))/n\n",
    "  MADP=sum(abs(error))/sum(abs(actual))\n",
    "  WMAPE=MAD/mean\n",
    "  l=data.frame(n,mean,sd,CV,FBias,MAPE,RMSE,MAD,MADP,WMAPE)\n",
    "  return(l)\n",
    "}"
   ]
  },
  {
   "cell_type": "markdown",
   "id": "da602719",
   "metadata": {},
   "source": [
    "## Summary"
   ]
  },
  {
   "cell_type": "markdown",
   "id": "ef9f593a",
   "metadata": {},
   "source": [
    "The aim of this assignment is forecasting hourly total solar power plant production values for multiple small solar power plants from the given data. The data consist of hourly production values and 175 features which are temperature, radiation flux, humidty, total cloud cover (4 different layers) information of 25 different locations. Scenaria is forecasting the day after (d+1) with the available yesterday values (d-1). Explainable Boosted Liner Regression (EBLR) is used to forecast production values. Before constructing the models, missing values are handled. Then, a base model which is simpe linear regression is constructed. Finally, regression model is improved with decision trees which are learning from the errors form the previous models. In conclusion, forecasts are made according to forecasting scenario and compared with a naive forecast approach which is applying last available data for future values."
   ]
  },
  {
   "cell_type": "markdown",
   "id": "fd8d4bb2",
   "metadata": {},
   "source": [
    "## Approach"
   ]
  },
  {
   "cell_type": "markdown",
   "id": "6d9ba628",
   "metadata": {},
   "source": [
    "### Handling Missing Values"
   ]
  },
  {
   "cell_type": "code",
   "execution_count": 32,
   "id": "f69b4c47",
   "metadata": {},
   "outputs": [],
   "source": [
    "dt <- fread(\"C:/Users/kaan9/OneDrive/Masaüstü/production_with_weather_data.csv\")"
   ]
  },
  {
   "cell_type": "code",
   "execution_count": 33,
   "id": "4c9f4752",
   "metadata": {
    "scrolled": false
   },
   "outputs": [
    {
     "data": {
      "text/html": [
       "<table class=\"dataframe\">\n",
       "<caption>A data.table: 7 × 178</caption>\n",
       "<thead>\n",
       "\t<tr><th scope=col>date</th><th scope=col>hour</th><th scope=col>production</th><th scope=col>DSWRF_surface_38_35</th><th scope=col>DSWRF_surface_38_35.25</th><th scope=col>DSWRF_surface_38_35.5</th><th scope=col>DSWRF_surface_38_35.75</th><th scope=col>DSWRF_surface_38_36</th><th scope=col>DSWRF_surface_38.25_35</th><th scope=col>DSWRF_surface_38.25_35.25</th><th scope=col>⋯</th><th scope=col>TMP_2.m.above.ground_38.75_35</th><th scope=col>TMP_2.m.above.ground_38.75_35.25</th><th scope=col>TMP_2.m.above.ground_38.75_35.5</th><th scope=col>TMP_2.m.above.ground_38.75_35.75</th><th scope=col>TMP_2.m.above.ground_38.75_36</th><th scope=col>TMP_2.m.above.ground_39_35</th><th scope=col>TMP_2.m.above.ground_39_35.25</th><th scope=col>TMP_2.m.above.ground_39_35.5</th><th scope=col>TMP_2.m.above.ground_39_35.75</th><th scope=col>TMP_2.m.above.ground_39_36</th></tr>\n",
       "\t<tr><th scope=col>&lt;date&gt;</th><th scope=col>&lt;int&gt;</th><th scope=col>&lt;dbl&gt;</th><th scope=col>&lt;dbl&gt;</th><th scope=col>&lt;dbl&gt;</th><th scope=col>&lt;dbl&gt;</th><th scope=col>&lt;dbl&gt;</th><th scope=col>&lt;dbl&gt;</th><th scope=col>&lt;dbl&gt;</th><th scope=col>&lt;dbl&gt;</th><th scope=col>⋯</th><th scope=col>&lt;dbl&gt;</th><th scope=col>&lt;dbl&gt;</th><th scope=col>&lt;dbl&gt;</th><th scope=col>&lt;dbl&gt;</th><th scope=col>&lt;dbl&gt;</th><th scope=col>&lt;dbl&gt;</th><th scope=col>&lt;dbl&gt;</th><th scope=col>&lt;dbl&gt;</th><th scope=col>&lt;dbl&gt;</th><th scope=col>&lt;dbl&gt;</th></tr>\n",
       "</thead>\n",
       "<tbody>\n",
       "\t<tr><td>2021-06-09</td><td>19</td><td>  7.901200</td><td>    NA</td><td>    NA</td><td>    NA</td><td>    NA</td><td>   NA</td><td>    NA</td><td>    NA</td><td>⋯</td><td>     NA</td><td>     NA</td><td>     NA</td><td>     NA</td><td>     NA</td><td>     NA</td><td>     NA</td><td>     NA</td><td>     NA</td><td>     NA</td></tr>\n",
       "\t<tr><td>2021-11-26</td><td>14</td><td>189.840300</td><td>    NA</td><td>    NA</td><td>    NA</td><td>    NA</td><td>   NA</td><td>    NA</td><td>    NA</td><td>⋯</td><td>284.835</td><td>284.405</td><td>283.225</td><td>282.735</td><td>282.425</td><td>283.215</td><td>283.015</td><td>282.375</td><td>282.495</td><td>282.715</td></tr>\n",
       "\t<tr><td>2021-11-26</td><td>16</td><td> 35.422200</td><td>272.98</td><td>269.88</td><td>235.88</td><td>183.32</td><td>79.18</td><td>260.46</td><td>251.68</td><td>⋯</td><td>285.017</td><td>284.447</td><td>283.517</td><td>282.757</td><td>282.217</td><td>283.637</td><td>283.197</td><td>282.347</td><td>282.457</td><td>282.957</td></tr>\n",
       "\t<tr><td>2021-12-01</td><td> 7</td><td>  0.260118</td><td>  0.00</td><td>  0.00</td><td>  0.00</td><td>  0.00</td><td> 0.00</td><td>  0.00</td><td>  0.00</td><td>⋯</td><td>     NA</td><td>     NA</td><td>     NA</td><td>     NA</td><td>     NA</td><td>     NA</td><td>     NA</td><td>     NA</td><td>     NA</td><td>     NA</td></tr>\n",
       "\t<tr><td>2021-12-13</td><td> 0</td><td>  0.000000</td><td>  0.00</td><td>  0.00</td><td>  0.00</td><td>  0.00</td><td> 0.00</td><td>  0.00</td><td>  0.00</td><td>⋯</td><td>     NA</td><td>     NA</td><td>     NA</td><td>     NA</td><td>     NA</td><td>     NA</td><td>     NA</td><td>     NA</td><td>     NA</td><td>     NA</td></tr>\n",
       "\t<tr><td>2021-12-22</td><td>18</td><td>  0.000000</td><td>    NA</td><td>    NA</td><td>    NA</td><td>    NA</td><td>   NA</td><td>    NA</td><td>    NA</td><td>⋯</td><td>269.097</td><td>269.567</td><td>268.067</td><td>263.837</td><td>264.207</td><td>268.907</td><td>269.037</td><td>268.077</td><td>267.567</td><td>267.297</td></tr>\n",
       "\t<tr><td>2021-12-25</td><td>16</td><td> 46.846580</td><td>    NA</td><td>    NA</td><td>    NA</td><td>    NA</td><td>   NA</td><td>    NA</td><td>    NA</td><td>⋯</td><td>275.997</td><td>275.377</td><td>275.497</td><td>271.187</td><td>269.877</td><td>274.217</td><td>274.307</td><td>273.747</td><td>273.017</td><td>273.247</td></tr>\n",
       "</tbody>\n",
       "</table>\n"
      ],
      "text/latex": [
       "A data.table: 7 × 178\n",
       "\\begin{tabular}{lllllllllllllllllllll}\n",
       " date & hour & production & DSWRF\\_surface\\_38\\_35 & DSWRF\\_surface\\_38\\_35.25 & DSWRF\\_surface\\_38\\_35.5 & DSWRF\\_surface\\_38\\_35.75 & DSWRF\\_surface\\_38\\_36 & DSWRF\\_surface\\_38.25\\_35 & DSWRF\\_surface\\_38.25\\_35.25 & ⋯ & TMP\\_2.m.above.ground\\_38.75\\_35 & TMP\\_2.m.above.ground\\_38.75\\_35.25 & TMP\\_2.m.above.ground\\_38.75\\_35.5 & TMP\\_2.m.above.ground\\_38.75\\_35.75 & TMP\\_2.m.above.ground\\_38.75\\_36 & TMP\\_2.m.above.ground\\_39\\_35 & TMP\\_2.m.above.ground\\_39\\_35.25 & TMP\\_2.m.above.ground\\_39\\_35.5 & TMP\\_2.m.above.ground\\_39\\_35.75 & TMP\\_2.m.above.ground\\_39\\_36\\\\\n",
       " <date> & <int> & <dbl> & <dbl> & <dbl> & <dbl> & <dbl> & <dbl> & <dbl> & <dbl> & ⋯ & <dbl> & <dbl> & <dbl> & <dbl> & <dbl> & <dbl> & <dbl> & <dbl> & <dbl> & <dbl>\\\\\n",
       "\\hline\n",
       "\t 2021-06-09 & 19 &   7.901200 &     NA &     NA &     NA &     NA &    NA &     NA &     NA & ⋯ &      NA &      NA &      NA &      NA &      NA &      NA &      NA &      NA &      NA &      NA\\\\\n",
       "\t 2021-11-26 & 14 & 189.840300 &     NA &     NA &     NA &     NA &    NA &     NA &     NA & ⋯ & 284.835 & 284.405 & 283.225 & 282.735 & 282.425 & 283.215 & 283.015 & 282.375 & 282.495 & 282.715\\\\\n",
       "\t 2021-11-26 & 16 &  35.422200 & 272.98 & 269.88 & 235.88 & 183.32 & 79.18 & 260.46 & 251.68 & ⋯ & 285.017 & 284.447 & 283.517 & 282.757 & 282.217 & 283.637 & 283.197 & 282.347 & 282.457 & 282.957\\\\\n",
       "\t 2021-12-01 &  7 &   0.260118 &   0.00 &   0.00 &   0.00 &   0.00 &  0.00 &   0.00 &   0.00 & ⋯ &      NA &      NA &      NA &      NA &      NA &      NA &      NA &      NA &      NA &      NA\\\\\n",
       "\t 2021-12-13 &  0 &   0.000000 &   0.00 &   0.00 &   0.00 &   0.00 &  0.00 &   0.00 &   0.00 & ⋯ &      NA &      NA &      NA &      NA &      NA &      NA &      NA &      NA &      NA &      NA\\\\\n",
       "\t 2021-12-22 & 18 &   0.000000 &     NA &     NA &     NA &     NA &    NA &     NA &     NA & ⋯ & 269.097 & 269.567 & 268.067 & 263.837 & 264.207 & 268.907 & 269.037 & 268.077 & 267.567 & 267.297\\\\\n",
       "\t 2021-12-25 & 16 &  46.846580 &     NA &     NA &     NA &     NA &    NA &     NA &     NA & ⋯ & 275.997 & 275.377 & 275.497 & 271.187 & 269.877 & 274.217 & 274.307 & 273.747 & 273.017 & 273.247\\\\\n",
       "\\end{tabular}\n"
      ],
      "text/markdown": [
       "\n",
       "A data.table: 7 × 178\n",
       "\n",
       "| date &lt;date&gt; | hour &lt;int&gt; | production &lt;dbl&gt; | DSWRF_surface_38_35 &lt;dbl&gt; | DSWRF_surface_38_35.25 &lt;dbl&gt; | DSWRF_surface_38_35.5 &lt;dbl&gt; | DSWRF_surface_38_35.75 &lt;dbl&gt; | DSWRF_surface_38_36 &lt;dbl&gt; | DSWRF_surface_38.25_35 &lt;dbl&gt; | DSWRF_surface_38.25_35.25 &lt;dbl&gt; | ⋯ ⋯ | TMP_2.m.above.ground_38.75_35 &lt;dbl&gt; | TMP_2.m.above.ground_38.75_35.25 &lt;dbl&gt; | TMP_2.m.above.ground_38.75_35.5 &lt;dbl&gt; | TMP_2.m.above.ground_38.75_35.75 &lt;dbl&gt; | TMP_2.m.above.ground_38.75_36 &lt;dbl&gt; | TMP_2.m.above.ground_39_35 &lt;dbl&gt; | TMP_2.m.above.ground_39_35.25 &lt;dbl&gt; | TMP_2.m.above.ground_39_35.5 &lt;dbl&gt; | TMP_2.m.above.ground_39_35.75 &lt;dbl&gt; | TMP_2.m.above.ground_39_36 &lt;dbl&gt; |\n",
       "|---|---|---|---|---|---|---|---|---|---|---|---|---|---|---|---|---|---|---|---|---|\n",
       "| 2021-06-09 | 19 |   7.901200 |     NA |     NA |     NA |     NA |    NA |     NA |     NA | ⋯ |      NA |      NA |      NA |      NA |      NA |      NA |      NA |      NA |      NA |      NA |\n",
       "| 2021-11-26 | 14 | 189.840300 |     NA |     NA |     NA |     NA |    NA |     NA |     NA | ⋯ | 284.835 | 284.405 | 283.225 | 282.735 | 282.425 | 283.215 | 283.015 | 282.375 | 282.495 | 282.715 |\n",
       "| 2021-11-26 | 16 |  35.422200 | 272.98 | 269.88 | 235.88 | 183.32 | 79.18 | 260.46 | 251.68 | ⋯ | 285.017 | 284.447 | 283.517 | 282.757 | 282.217 | 283.637 | 283.197 | 282.347 | 282.457 | 282.957 |\n",
       "| 2021-12-01 |  7 |   0.260118 |   0.00 |   0.00 |   0.00 |   0.00 |  0.00 |   0.00 |   0.00 | ⋯ |      NA |      NA |      NA |      NA |      NA |      NA |      NA |      NA |      NA |      NA |\n",
       "| 2021-12-13 |  0 |   0.000000 |   0.00 |   0.00 |   0.00 |   0.00 |  0.00 |   0.00 |   0.00 | ⋯ |      NA |      NA |      NA |      NA |      NA |      NA |      NA |      NA |      NA |      NA |\n",
       "| 2021-12-22 | 18 |   0.000000 |     NA |     NA |     NA |     NA |    NA |     NA |     NA | ⋯ | 269.097 | 269.567 | 268.067 | 263.837 | 264.207 | 268.907 | 269.037 | 268.077 | 267.567 | 267.297 |\n",
       "| 2021-12-25 | 16 |  46.846580 |     NA |     NA |     NA |     NA |    NA |     NA |     NA | ⋯ | 275.997 | 275.377 | 275.497 | 271.187 | 269.877 | 274.217 | 274.307 | 273.747 | 273.017 | 273.247 |\n",
       "\n"
      ],
      "text/plain": [
       "  date       hour production DSWRF_surface_38_35 DSWRF_surface_38_35.25\n",
       "1 2021-06-09 19     7.901200     NA                  NA                \n",
       "2 2021-11-26 14   189.840300     NA                  NA                \n",
       "3 2021-11-26 16    35.422200 272.98              269.88                \n",
       "4 2021-12-01  7     0.260118   0.00                0.00                \n",
       "5 2021-12-13  0     0.000000   0.00                0.00                \n",
       "6 2021-12-22 18     0.000000     NA                  NA                \n",
       "7 2021-12-25 16    46.846580     NA                  NA                \n",
       "  DSWRF_surface_38_35.5 DSWRF_surface_38_35.75 DSWRF_surface_38_36\n",
       "1     NA                    NA                    NA              \n",
       "2     NA                    NA                    NA              \n",
       "3 235.88                183.32                 79.18              \n",
       "4   0.00                  0.00                  0.00              \n",
       "5   0.00                  0.00                  0.00              \n",
       "6     NA                    NA                    NA              \n",
       "7     NA                    NA                    NA              \n",
       "  DSWRF_surface_38.25_35 DSWRF_surface_38.25_35.25 <U+22EF>       \n",
       "1     NA                     NA                    <U+22EF>\n",
       "2     NA                     NA                    <U+22EF>\n",
       "3 260.46                 251.68                    <U+22EF>\n",
       "4   0.00                   0.00                    <U+22EF>\n",
       "5   0.00                   0.00                    <U+22EF>\n",
       "6     NA                     NA                    <U+22EF>\n",
       "7     NA                     NA                    <U+22EF>\n",
       "  TMP_2.m.above.ground_38.75_35 TMP_2.m.above.ground_38.75_35.25\n",
       "1      NA                            NA                         \n",
       "2 284.835                       284.405                         \n",
       "3 285.017                       284.447                         \n",
       "4      NA                            NA                         \n",
       "5      NA                            NA                         \n",
       "6 269.097                       269.567                         \n",
       "7 275.997                       275.377                         \n",
       "  TMP_2.m.above.ground_38.75_35.5 TMP_2.m.above.ground_38.75_35.75\n",
       "1      NA                              NA                         \n",
       "2 283.225                         282.735                         \n",
       "3 283.517                         282.757                         \n",
       "4      NA                              NA                         \n",
       "5      NA                              NA                         \n",
       "6 268.067                         263.837                         \n",
       "7 275.497                         271.187                         \n",
       "  TMP_2.m.above.ground_38.75_36 TMP_2.m.above.ground_39_35\n",
       "1      NA                            NA                   \n",
       "2 282.425                       283.215                   \n",
       "3 282.217                       283.637                   \n",
       "4      NA                            NA                   \n",
       "5      NA                            NA                   \n",
       "6 264.207                       268.907                   \n",
       "7 269.877                       274.217                   \n",
       "  TMP_2.m.above.ground_39_35.25 TMP_2.m.above.ground_39_35.5\n",
       "1      NA                            NA                     \n",
       "2 283.015                       282.375                     \n",
       "3 283.197                       282.347                     \n",
       "4      NA                            NA                     \n",
       "5      NA                            NA                     \n",
       "6 269.037                       268.077                     \n",
       "7 274.307                       273.747                     \n",
       "  TMP_2.m.above.ground_39_35.75 TMP_2.m.above.ground_39_36\n",
       "1      NA                            NA                   \n",
       "2 282.495                       282.715                   \n",
       "3 282.457                       282.957                   \n",
       "4      NA                            NA                   \n",
       "5      NA                            NA                   \n",
       "6 267.567                       267.297                   \n",
       "7 273.017                       273.247                   "
      ]
     },
     "metadata": {},
     "output_type": "display_data"
    }
   ],
   "source": [
    "na_rows <- which(rowSums(is.na(dt))>0)\n",
    "dt[na_rows,]"
   ]
  },
  {
   "cell_type": "markdown",
   "id": "77f06191",
   "metadata": {},
   "source": [
    "After reading the data, there are only 7 rows with missing observations. The null values are filled with the values from 1 hour before since there are not many missing values to influence the model."
   ]
  },
  {
   "cell_type": "code",
   "execution_count": 34,
   "id": "c8712bed",
   "metadata": {},
   "outputs": [],
   "source": [
    "for(i in 4:length(dt)){\n",
    "    col <- dt[,..i]\n",
    "    col[which(is.na(col))] <- col[which(is.na(col))-1]\n",
    "    dt[,colnames(dt)[i]:=col]\n",
    "}"
   ]
  },
  {
   "cell_type": "code",
   "execution_count": 35,
   "id": "011b0eee",
   "metadata": {
    "scrolled": false
   },
   "outputs": [
    {
     "data": {
      "text/html": [
       "<table class=\"dataframe\">\n",
       "<caption>A data.table: 7 × 178</caption>\n",
       "<thead>\n",
       "\t<tr><th scope=col>date</th><th scope=col>hour</th><th scope=col>production</th><th scope=col>DSWRF_surface_38_35</th><th scope=col>DSWRF_surface_38_35.25</th><th scope=col>DSWRF_surface_38_35.5</th><th scope=col>DSWRF_surface_38_35.75</th><th scope=col>DSWRF_surface_38_36</th><th scope=col>DSWRF_surface_38.25_35</th><th scope=col>DSWRF_surface_38.25_35.25</th><th scope=col>⋯</th><th scope=col>TMP_2.m.above.ground_38.75_35</th><th scope=col>TMP_2.m.above.ground_38.75_35.25</th><th scope=col>TMP_2.m.above.ground_38.75_35.5</th><th scope=col>TMP_2.m.above.ground_38.75_35.75</th><th scope=col>TMP_2.m.above.ground_38.75_36</th><th scope=col>TMP_2.m.above.ground_39_35</th><th scope=col>TMP_2.m.above.ground_39_35.25</th><th scope=col>TMP_2.m.above.ground_39_35.5</th><th scope=col>TMP_2.m.above.ground_39_35.75</th><th scope=col>TMP_2.m.above.ground_39_36</th></tr>\n",
       "\t<tr><th scope=col>&lt;date&gt;</th><th scope=col>&lt;int&gt;</th><th scope=col>&lt;dbl&gt;</th><th scope=col>&lt;dbl&gt;</th><th scope=col>&lt;dbl&gt;</th><th scope=col>&lt;dbl&gt;</th><th scope=col>&lt;dbl&gt;</th><th scope=col>&lt;dbl&gt;</th><th scope=col>&lt;dbl&gt;</th><th scope=col>&lt;dbl&gt;</th><th scope=col>⋯</th><th scope=col>&lt;dbl&gt;</th><th scope=col>&lt;dbl&gt;</th><th scope=col>&lt;dbl&gt;</th><th scope=col>&lt;dbl&gt;</th><th scope=col>&lt;dbl&gt;</th><th scope=col>&lt;dbl&gt;</th><th scope=col>&lt;dbl&gt;</th><th scope=col>&lt;dbl&gt;</th><th scope=col>&lt;dbl&gt;</th><th scope=col>&lt;dbl&gt;</th></tr>\n",
       "</thead>\n",
       "<tbody>\n",
       "\t<tr><td>2021-06-09</td><td>19</td><td>  7.901200</td><td>550.78</td><td>440.38</td><td>489.32</td><td>577.92</td><td>525.26</td><td>373.30</td><td>358.16</td><td>⋯</td><td>295.043</td><td>294.743</td><td>294.043</td><td>291.543</td><td>290.143</td><td>294.543</td><td>293.943</td><td>291.843</td><td>291.843</td><td>290.943</td></tr>\n",
       "\t<tr><td>2021-11-26</td><td>14</td><td>189.840300</td><td>438.98</td><td>444.28</td><td>392.40</td><td>387.82</td><td>404.92</td><td>421.96</td><td>417.02</td><td>⋯</td><td>284.835</td><td>284.405</td><td>283.225</td><td>282.735</td><td>282.425</td><td>283.215</td><td>283.015</td><td>282.375</td><td>282.495</td><td>282.715</td></tr>\n",
       "\t<tr><td>2021-11-26</td><td>16</td><td> 35.422200</td><td>272.98</td><td>269.88</td><td>235.88</td><td>183.32</td><td> 79.18</td><td>260.46</td><td>251.68</td><td>⋯</td><td>285.017</td><td>284.447</td><td>283.517</td><td>282.757</td><td>282.217</td><td>283.637</td><td>283.197</td><td>282.347</td><td>282.457</td><td>282.957</td></tr>\n",
       "\t<tr><td>2021-12-01</td><td> 7</td><td>  0.260118</td><td>  0.00</td><td>  0.00</td><td>  0.00</td><td>  0.00</td><td>  0.00</td><td>  0.00</td><td>  0.00</td><td>⋯</td><td>276.780</td><td>276.520</td><td>275.380</td><td>273.560</td><td>273.620</td><td>276.910</td><td>277.120</td><td>275.110</td><td>274.430</td><td>274.480</td></tr>\n",
       "\t<tr><td>2021-12-13</td><td> 0</td><td>  0.000000</td><td>  0.00</td><td>  0.00</td><td>  0.00</td><td>  0.00</td><td>  0.00</td><td>  0.00</td><td>  0.00</td><td>⋯</td><td>278.374</td><td>277.674</td><td>279.054</td><td>277.584</td><td>275.714</td><td>279.184</td><td>278.534</td><td>278.054</td><td>277.234</td><td>277.384</td></tr>\n",
       "\t<tr><td>2021-12-22</td><td>18</td><td>  0.000000</td><td>193.00</td><td>194.44</td><td>184.04</td><td>183.86</td><td>178.42</td><td>181.98</td><td>177.16</td><td>⋯</td><td>269.097</td><td>269.567</td><td>268.067</td><td>263.837</td><td>264.207</td><td>268.907</td><td>269.037</td><td>268.077</td><td>267.567</td><td>267.297</td></tr>\n",
       "\t<tr><td>2021-12-25</td><td>16</td><td> 46.846580</td><td>412.68</td><td>417.42</td><td>412.18</td><td>408.10</td><td>401.86</td><td>395.74</td><td>391.78</td><td>⋯</td><td>275.997</td><td>275.377</td><td>275.497</td><td>271.187</td><td>269.877</td><td>274.217</td><td>274.307</td><td>273.747</td><td>273.017</td><td>273.247</td></tr>\n",
       "</tbody>\n",
       "</table>\n"
      ],
      "text/latex": [
       "A data.table: 7 × 178\n",
       "\\begin{tabular}{lllllllllllllllllllll}\n",
       " date & hour & production & DSWRF\\_surface\\_38\\_35 & DSWRF\\_surface\\_38\\_35.25 & DSWRF\\_surface\\_38\\_35.5 & DSWRF\\_surface\\_38\\_35.75 & DSWRF\\_surface\\_38\\_36 & DSWRF\\_surface\\_38.25\\_35 & DSWRF\\_surface\\_38.25\\_35.25 & ⋯ & TMP\\_2.m.above.ground\\_38.75\\_35 & TMP\\_2.m.above.ground\\_38.75\\_35.25 & TMP\\_2.m.above.ground\\_38.75\\_35.5 & TMP\\_2.m.above.ground\\_38.75\\_35.75 & TMP\\_2.m.above.ground\\_38.75\\_36 & TMP\\_2.m.above.ground\\_39\\_35 & TMP\\_2.m.above.ground\\_39\\_35.25 & TMP\\_2.m.above.ground\\_39\\_35.5 & TMP\\_2.m.above.ground\\_39\\_35.75 & TMP\\_2.m.above.ground\\_39\\_36\\\\\n",
       " <date> & <int> & <dbl> & <dbl> & <dbl> & <dbl> & <dbl> & <dbl> & <dbl> & <dbl> & ⋯ & <dbl> & <dbl> & <dbl> & <dbl> & <dbl> & <dbl> & <dbl> & <dbl> & <dbl> & <dbl>\\\\\n",
       "\\hline\n",
       "\t 2021-06-09 & 19 &   7.901200 & 550.78 & 440.38 & 489.32 & 577.92 & 525.26 & 373.30 & 358.16 & ⋯ & 295.043 & 294.743 & 294.043 & 291.543 & 290.143 & 294.543 & 293.943 & 291.843 & 291.843 & 290.943\\\\\n",
       "\t 2021-11-26 & 14 & 189.840300 & 438.98 & 444.28 & 392.40 & 387.82 & 404.92 & 421.96 & 417.02 & ⋯ & 284.835 & 284.405 & 283.225 & 282.735 & 282.425 & 283.215 & 283.015 & 282.375 & 282.495 & 282.715\\\\\n",
       "\t 2021-11-26 & 16 &  35.422200 & 272.98 & 269.88 & 235.88 & 183.32 &  79.18 & 260.46 & 251.68 & ⋯ & 285.017 & 284.447 & 283.517 & 282.757 & 282.217 & 283.637 & 283.197 & 282.347 & 282.457 & 282.957\\\\\n",
       "\t 2021-12-01 &  7 &   0.260118 &   0.00 &   0.00 &   0.00 &   0.00 &   0.00 &   0.00 &   0.00 & ⋯ & 276.780 & 276.520 & 275.380 & 273.560 & 273.620 & 276.910 & 277.120 & 275.110 & 274.430 & 274.480\\\\\n",
       "\t 2021-12-13 &  0 &   0.000000 &   0.00 &   0.00 &   0.00 &   0.00 &   0.00 &   0.00 &   0.00 & ⋯ & 278.374 & 277.674 & 279.054 & 277.584 & 275.714 & 279.184 & 278.534 & 278.054 & 277.234 & 277.384\\\\\n",
       "\t 2021-12-22 & 18 &   0.000000 & 193.00 & 194.44 & 184.04 & 183.86 & 178.42 & 181.98 & 177.16 & ⋯ & 269.097 & 269.567 & 268.067 & 263.837 & 264.207 & 268.907 & 269.037 & 268.077 & 267.567 & 267.297\\\\\n",
       "\t 2021-12-25 & 16 &  46.846580 & 412.68 & 417.42 & 412.18 & 408.10 & 401.86 & 395.74 & 391.78 & ⋯ & 275.997 & 275.377 & 275.497 & 271.187 & 269.877 & 274.217 & 274.307 & 273.747 & 273.017 & 273.247\\\\\n",
       "\\end{tabular}\n"
      ],
      "text/markdown": [
       "\n",
       "A data.table: 7 × 178\n",
       "\n",
       "| date &lt;date&gt; | hour &lt;int&gt; | production &lt;dbl&gt; | DSWRF_surface_38_35 &lt;dbl&gt; | DSWRF_surface_38_35.25 &lt;dbl&gt; | DSWRF_surface_38_35.5 &lt;dbl&gt; | DSWRF_surface_38_35.75 &lt;dbl&gt; | DSWRF_surface_38_36 &lt;dbl&gt; | DSWRF_surface_38.25_35 &lt;dbl&gt; | DSWRF_surface_38.25_35.25 &lt;dbl&gt; | ⋯ ⋯ | TMP_2.m.above.ground_38.75_35 &lt;dbl&gt; | TMP_2.m.above.ground_38.75_35.25 &lt;dbl&gt; | TMP_2.m.above.ground_38.75_35.5 &lt;dbl&gt; | TMP_2.m.above.ground_38.75_35.75 &lt;dbl&gt; | TMP_2.m.above.ground_38.75_36 &lt;dbl&gt; | TMP_2.m.above.ground_39_35 &lt;dbl&gt; | TMP_2.m.above.ground_39_35.25 &lt;dbl&gt; | TMP_2.m.above.ground_39_35.5 &lt;dbl&gt; | TMP_2.m.above.ground_39_35.75 &lt;dbl&gt; | TMP_2.m.above.ground_39_36 &lt;dbl&gt; |\n",
       "|---|---|---|---|---|---|---|---|---|---|---|---|---|---|---|---|---|---|---|---|---|\n",
       "| 2021-06-09 | 19 |   7.901200 | 550.78 | 440.38 | 489.32 | 577.92 | 525.26 | 373.30 | 358.16 | ⋯ | 295.043 | 294.743 | 294.043 | 291.543 | 290.143 | 294.543 | 293.943 | 291.843 | 291.843 | 290.943 |\n",
       "| 2021-11-26 | 14 | 189.840300 | 438.98 | 444.28 | 392.40 | 387.82 | 404.92 | 421.96 | 417.02 | ⋯ | 284.835 | 284.405 | 283.225 | 282.735 | 282.425 | 283.215 | 283.015 | 282.375 | 282.495 | 282.715 |\n",
       "| 2021-11-26 | 16 |  35.422200 | 272.98 | 269.88 | 235.88 | 183.32 |  79.18 | 260.46 | 251.68 | ⋯ | 285.017 | 284.447 | 283.517 | 282.757 | 282.217 | 283.637 | 283.197 | 282.347 | 282.457 | 282.957 |\n",
       "| 2021-12-01 |  7 |   0.260118 |   0.00 |   0.00 |   0.00 |   0.00 |   0.00 |   0.00 |   0.00 | ⋯ | 276.780 | 276.520 | 275.380 | 273.560 | 273.620 | 276.910 | 277.120 | 275.110 | 274.430 | 274.480 |\n",
       "| 2021-12-13 |  0 |   0.000000 |   0.00 |   0.00 |   0.00 |   0.00 |   0.00 |   0.00 |   0.00 | ⋯ | 278.374 | 277.674 | 279.054 | 277.584 | 275.714 | 279.184 | 278.534 | 278.054 | 277.234 | 277.384 |\n",
       "| 2021-12-22 | 18 |   0.000000 | 193.00 | 194.44 | 184.04 | 183.86 | 178.42 | 181.98 | 177.16 | ⋯ | 269.097 | 269.567 | 268.067 | 263.837 | 264.207 | 268.907 | 269.037 | 268.077 | 267.567 | 267.297 |\n",
       "| 2021-12-25 | 16 |  46.846580 | 412.68 | 417.42 | 412.18 | 408.10 | 401.86 | 395.74 | 391.78 | ⋯ | 275.997 | 275.377 | 275.497 | 271.187 | 269.877 | 274.217 | 274.307 | 273.747 | 273.017 | 273.247 |\n",
       "\n"
      ],
      "text/plain": [
       "  date       hour production DSWRF_surface_38_35 DSWRF_surface_38_35.25\n",
       "1 2021-06-09 19     7.901200 550.78              440.38                \n",
       "2 2021-11-26 14   189.840300 438.98              444.28                \n",
       "3 2021-11-26 16    35.422200 272.98              269.88                \n",
       "4 2021-12-01  7     0.260118   0.00                0.00                \n",
       "5 2021-12-13  0     0.000000   0.00                0.00                \n",
       "6 2021-12-22 18     0.000000 193.00              194.44                \n",
       "7 2021-12-25 16    46.846580 412.68              417.42                \n",
       "  DSWRF_surface_38_35.5 DSWRF_surface_38_35.75 DSWRF_surface_38_36\n",
       "1 489.32                577.92                 525.26             \n",
       "2 392.40                387.82                 404.92             \n",
       "3 235.88                183.32                  79.18             \n",
       "4   0.00                  0.00                   0.00             \n",
       "5   0.00                  0.00                   0.00             \n",
       "6 184.04                183.86                 178.42             \n",
       "7 412.18                408.10                 401.86             \n",
       "  DSWRF_surface_38.25_35 DSWRF_surface_38.25_35.25 <U+22EF>       \n",
       "1 373.30                 358.16                    <U+22EF>\n",
       "2 421.96                 417.02                    <U+22EF>\n",
       "3 260.46                 251.68                    <U+22EF>\n",
       "4   0.00                   0.00                    <U+22EF>\n",
       "5   0.00                   0.00                    <U+22EF>\n",
       "6 181.98                 177.16                    <U+22EF>\n",
       "7 395.74                 391.78                    <U+22EF>\n",
       "  TMP_2.m.above.ground_38.75_35 TMP_2.m.above.ground_38.75_35.25\n",
       "1 295.043                       294.743                         \n",
       "2 284.835                       284.405                         \n",
       "3 285.017                       284.447                         \n",
       "4 276.780                       276.520                         \n",
       "5 278.374                       277.674                         \n",
       "6 269.097                       269.567                         \n",
       "7 275.997                       275.377                         \n",
       "  TMP_2.m.above.ground_38.75_35.5 TMP_2.m.above.ground_38.75_35.75\n",
       "1 294.043                         291.543                         \n",
       "2 283.225                         282.735                         \n",
       "3 283.517                         282.757                         \n",
       "4 275.380                         273.560                         \n",
       "5 279.054                         277.584                         \n",
       "6 268.067                         263.837                         \n",
       "7 275.497                         271.187                         \n",
       "  TMP_2.m.above.ground_38.75_36 TMP_2.m.above.ground_39_35\n",
       "1 290.143                       294.543                   \n",
       "2 282.425                       283.215                   \n",
       "3 282.217                       283.637                   \n",
       "4 273.620                       276.910                   \n",
       "5 275.714                       279.184                   \n",
       "6 264.207                       268.907                   \n",
       "7 269.877                       274.217                   \n",
       "  TMP_2.m.above.ground_39_35.25 TMP_2.m.above.ground_39_35.5\n",
       "1 293.943                       291.843                     \n",
       "2 283.015                       282.375                     \n",
       "3 283.197                       282.347                     \n",
       "4 277.120                       275.110                     \n",
       "5 278.534                       278.054                     \n",
       "6 269.037                       268.077                     \n",
       "7 274.307                       273.747                     \n",
       "  TMP_2.m.above.ground_39_35.75 TMP_2.m.above.ground_39_36\n",
       "1 291.843                       290.943                   \n",
       "2 282.495                       282.715                   \n",
       "3 282.457                       282.957                   \n",
       "4 274.430                       274.480                   \n",
       "5 277.234                       277.384                   \n",
       "6 267.567                       267.297                   \n",
       "7 273.017                       273.247                   "
      ]
     },
     "metadata": {},
     "output_type": "display_data"
    }
   ],
   "source": [
    "dt[na_rows,]"
   ]
  },
  {
   "cell_type": "code",
   "execution_count": 36,
   "id": "a5c4b909",
   "metadata": {},
   "outputs": [],
   "source": [
    "dt[,w_day:=as.character(wday(date,label=T))]\n",
    "dt[,mon:=as.character(month(date,label=T))]\n",
    "dt[,trnd:=1:.N]\n",
    "dt$production <- log(dt$production+1)\n",
    "dt$lag_48 <- shift(dt$production,48)\n",
    "dt <- dt[date>\"2019-09-02\"]"
   ]
  },
  {
   "cell_type": "markdown",
   "id": "9e13854e",
   "metadata": {},
   "source": [
    "Trend, day of the week and month features added to the data. Since production is a non-negative variable, natural log transformation is applied to the output variable to prevent linear regreassion to predict negative values. "
   ]
  },
  {
   "cell_type": "code",
   "execution_count": 37,
   "id": "315cda3f",
   "metadata": {},
   "outputs": [],
   "source": [
    "train_dt <- dt[date<=\"2021-10-28\",]\n",
    "test_dt <- dt[date==\"2021-10-30\",]"
   ]
  },
  {
   "cell_type": "markdown",
   "id": "a8ed798b",
   "metadata": {},
   "source": [
    "Since the aim is predicting the other day's values (d+1), data until \"2021-10-28\" is used as training data. The last day before the forecast period \"2021-10-30\" is used as the test data."
   ]
  },
  {
   "cell_type": "markdown",
   "id": "3371ff9e",
   "metadata": {},
   "source": [
    "### EBLR Model"
   ]
  },
  {
   "cell_type": "markdown",
   "id": "2c1fed0a",
   "metadata": {},
   "source": [
    "To construct a base learner model, simple linear regression is used with the trend, day and month information as regressors."
   ]
  },
  {
   "cell_type": "code",
   "execution_count": 38,
   "id": "203cb1c8",
   "metadata": {
    "scrolled": true
   },
   "outputs": [
    {
     "data": {
      "text/plain": [
       "\n",
       "Call:\n",
       "lm(formula = production ~ trnd + w_day + mon + as.factor(hour), \n",
       "    data = train_dt)\n",
       "\n",
       "Residuals:\n",
       "    Min      1Q  Median      3Q     Max \n",
       "-3.5866 -0.3699  0.0397  0.3903  1.6995 \n",
       "\n",
       "Coefficients:\n",
       "                    Estimate Std. Error t value Pr(>|t|)    \n",
       "(Intercept)        2.909e-01  3.187e-02   9.129  < 2e-16 ***\n",
       "trnd               5.393e-06  8.992e-07   5.998 2.04e-09 ***\n",
       "w_dayCum          -1.131e-02  1.726e-02  -0.655  0.51228    \n",
       "w_dayÇar           6.066e-03  1.722e-02   0.352  0.72468    \n",
       "w_dayPaz           4.162e-02  1.726e-02   2.412  0.01587 *  \n",
       "w_dayPer           9.350e-03  1.726e-02   0.542  0.58804    \n",
       "w_dayPzt           1.090e-02  1.726e-02   0.631  0.52784    \n",
       "w_daySal           2.809e-02  1.723e-02   1.631  0.10295    \n",
       "monAra            -1.060e+00  2.378e-02 -44.562  < 2e-16 ***\n",
       "monEki            -3.998e-01  2.157e-02 -18.534  < 2e-16 ***\n",
       "monEyl            -1.912e-01  2.164e-02  -8.839  < 2e-16 ***\n",
       "monHaz             1.706e-01  2.342e-02   7.285 3.34e-13 ***\n",
       "monKas            -7.001e-01  2.412e-02 -29.026  < 2e-16 ***\n",
       "monMar            -4.633e-01  2.342e-02 -19.779  < 2e-16 ***\n",
       "monMay             6.890e-02  2.327e-02   2.960  0.00308 ** \n",
       "monNis            -2.129e-01  2.354e-02  -9.046  < 2e-16 ***\n",
       "monOca            -9.613e-01  2.365e-02 -40.656  < 2e-16 ***\n",
       "monŞub            -6.648e-01  2.403e-02 -27.663  < 2e-16 ***\n",
       "monTem             1.792e-01  2.321e-02   7.719 1.23e-14 ***\n",
       "as.factor(hour)1  -1.065e-03  3.190e-02  -0.033  0.97337    \n",
       "as.factor(hour)2  -1.198e-03  3.190e-02  -0.038  0.97005    \n",
       "as.factor(hour)3   1.107e-03  3.190e-02   0.035  0.97231    \n",
       "as.factor(hour)4   1.712e-02  3.190e-02   0.537  0.59157    \n",
       "as.factor(hour)5   3.367e-01  3.190e-02  10.554  < 2e-16 ***\n",
       "as.factor(hour)6   1.481e+00  3.190e-02  46.415  < 2e-16 ***\n",
       "as.factor(hour)7   3.040e+00  3.190e-02  95.291  < 2e-16 ***\n",
       "as.factor(hour)8   4.247e+00  3.190e-02 133.136  < 2e-16 ***\n",
       "as.factor(hour)9   4.853e+00  3.190e-02 152.122  < 2e-16 ***\n",
       "as.factor(hour)10  5.153e+00  3.190e-02 161.523  < 2e-16 ***\n",
       "as.factor(hour)11  5.290e+00  3.190e-02 165.809  < 2e-16 ***\n",
       "as.factor(hour)12  5.320e+00  3.190e-02 166.760  < 2e-16 ***\n",
       "as.factor(hour)13  5.269e+00  3.190e-02 165.154  < 2e-16 ***\n",
       "as.factor(hour)14  5.130e+00  3.190e-02 160.797  < 2e-16 ***\n",
       "as.factor(hour)15  4.836e+00  3.190e-02 151.583  < 2e-16 ***\n",
       "as.factor(hour)16  4.271e+00  3.190e-02 133.891  < 2e-16 ***\n",
       "as.factor(hour)17  3.021e+00  3.190e-02  94.702  < 2e-16 ***\n",
       "as.factor(hour)18  1.548e+00  3.190e-02  48.511  < 2e-16 ***\n",
       "as.factor(hour)19  4.362e-01  3.190e-02  13.674  < 2e-16 ***\n",
       "as.factor(hour)20  1.490e-02  3.190e-02   0.467  0.64057    \n",
       "as.factor(hour)21  7.357e-03  3.190e-02   0.231  0.81763    \n",
       "as.factor(hour)22 -3.579e-03  3.190e-02  -0.112  0.91067    \n",
       "as.factor(hour)23 -2.884e-03  3.190e-02  -0.090  0.92797    \n",
       "---\n",
       "Signif. codes:  0 '***' 0.001 '**' 0.01 '*' 0.05 '.' 0.1 ' ' 1\n",
       "\n",
       "Residual standard error: 0.6324 on 18822 degrees of freedom\n",
       "Multiple R-squared:  0.9287,\tAdjusted R-squared:  0.9285 \n",
       "F-statistic:  5976 on 41 and 18822 DF,  p-value: < 2.2e-16\n"
      ]
     },
     "metadata": {},
     "output_type": "display_data"
    }
   ],
   "source": [
    "lm_model <- lm(production~trnd+w_day+mon+as.factor(hour),train_dt)\n",
    "summary(lm_model)"
   ]
  },
  {
   "cell_type": "code",
   "execution_count": 39,
   "id": "585746bb",
   "metadata": {},
   "outputs": [
    {
     "data": {
      "text/html": [
       "<table class=\"dataframe\">\n",
       "<caption>A data.frame: 1 × 10</caption>\n",
       "<thead>\n",
       "\t<tr><th scope=col>n</th><th scope=col>mean</th><th scope=col>sd</th><th scope=col>CV</th><th scope=col>FBias</th><th scope=col>MAPE</th><th scope=col>RMSE</th><th scope=col>MAD</th><th scope=col>MADP</th><th scope=col>WMAPE</th></tr>\n",
       "\t<tr><th scope=col>&lt;int&gt;</th><th scope=col>&lt;dbl&gt;</th><th scope=col>&lt;dbl&gt;</th><th scope=col>&lt;dbl&gt;</th><th scope=col>&lt;dbl&gt;</th><th scope=col>&lt;dbl&gt;</th><th scope=col>&lt;dbl&gt;</th><th scope=col>&lt;dbl&gt;</th><th scope=col>&lt;dbl&gt;</th><th scope=col>&lt;dbl&gt;</th></tr>\n",
       "</thead>\n",
       "<tbody>\n",
       "\t<tr><td>24</td><td>2.124579</td><td>2.475094</td><td>1.164981</td><td>-0.06105456</td><td>Inf</td><td>0.5319069</td><td>0.3046095</td><td>0.1433741</td><td>0.1433741</td></tr>\n",
       "</tbody>\n",
       "</table>\n"
      ],
      "text/latex": [
       "A data.frame: 1 × 10\n",
       "\\begin{tabular}{llllllllll}\n",
       " n & mean & sd & CV & FBias & MAPE & RMSE & MAD & MADP & WMAPE\\\\\n",
       " <int> & <dbl> & <dbl> & <dbl> & <dbl> & <dbl> & <dbl> & <dbl> & <dbl> & <dbl>\\\\\n",
       "\\hline\n",
       "\t 24 & 2.124579 & 2.475094 & 1.164981 & -0.06105456 & Inf & 0.5319069 & 0.3046095 & 0.1433741 & 0.1433741\\\\\n",
       "\\end{tabular}\n"
      ],
      "text/markdown": [
       "\n",
       "A data.frame: 1 × 10\n",
       "\n",
       "| n &lt;int&gt; | mean &lt;dbl&gt; | sd &lt;dbl&gt; | CV &lt;dbl&gt; | FBias &lt;dbl&gt; | MAPE &lt;dbl&gt; | RMSE &lt;dbl&gt; | MAD &lt;dbl&gt; | MADP &lt;dbl&gt; | WMAPE &lt;dbl&gt; |\n",
       "|---|---|---|---|---|---|---|---|---|---|\n",
       "| 24 | 2.124579 | 2.475094 | 1.164981 | -0.06105456 | Inf | 0.5319069 | 0.3046095 | 0.1433741 | 0.1433741 |\n",
       "\n"
      ],
      "text/plain": [
       "  n  mean     sd       CV       FBias       MAPE RMSE      MAD       MADP     \n",
       "1 24 2.124579 2.475094 1.164981 -0.06105456 Inf  0.5319069 0.3046095 0.1433741\n",
       "  WMAPE    \n",
       "1 0.1433741"
      ]
     },
     "metadata": {},
     "output_type": "display_data"
    }
   ],
   "source": [
    "test_pred1 <- predict(lm_model,test_dt)\n",
    "accu(test_dt$production,test_pred1)"
   ]
  },
  {
   "cell_type": "markdown",
   "id": "2d94292a",
   "metadata": {},
   "source": [
    "The first model has a R-squared value of 0.9285 which is good for a base learner. The base model has WMAPE value of 0.1433 on the test data. To improve the model, a decision tree will be construct on residuals to find the highest residual nodes."
   ]
  },
  {
   "cell_type": "code",
   "execution_count": 40,
   "id": "6b1f6799",
   "metadata": {},
   "outputs": [
    {
     "name": "stdout",
     "output_type": "stream",
     "text": [
      "\n",
      " node number: 31 \n",
      "   root\n",
      "   lag_48>=2.238\n",
      "   TCDC_entire.atmosphere_39_35.5< 84.35\n",
      "   hour>=16.5\n",
      "   mon=Ağu,Haz,Mar,May,Nis,Tem\n"
     ]
    }
   ],
   "source": [
    "f_count <- 1\n",
    "residuals <- lm_model$residuals\n",
    "tree_learner <- rpart(residuals~.-date-production,\n",
    "                       data=train_dt,\n",
    "                       control=rpart.control(cp=0,maxdepth=4))\n",
    "best_node <- as.numeric(rownames(tree_learner$frame[which.max(abs(tree_learner[[1]]$yval)),]))\n",
    "b <- path.rpart(tree_learner,best_node)\n",
    "depth <- length(b[[1]])\n",
    "for(i in 2:depth){\n",
    "    if(startsWith(b[[1]][i],\"mon\") | startsWith(b[[1]][i],\"w_day\")){\n",
    "        f_count <- f_count+1\n",
    "        next\n",
    "    }\n",
    "    train_dt[,paste(\"fltr\",as.character(f_count),sep=\"\"):=as.numeric(eval(parse(text = b[[1]][i])))]\n",
    "    test_dt[,paste(\"fltr\",as.character(f_count),sep=\"\"):=as.numeric(eval(parse(text = b[[1]][i])))]\n",
    "    dt[,paste(\"fltr\",as.character(f_count),sep=\"\"):=as.numeric(eval(parse(text = b[[1]][i])))]\n",
    "    f_count <- f_count+1\n",
    "}"
   ]
  },
  {
   "cell_type": "markdown",
   "id": "fdf8bba9",
   "metadata": {},
   "source": [
    "The 31th node is has the highest residual value, so its split information added to the data's feature space. The code above is fitting a tree and adding the split information as variables to the data automatically. However, for splits on month or weekday information, feature generation is handled manually as seen below."
   ]
  },
  {
   "cell_type": "code",
   "execution_count": 41,
   "id": "1ffe22b2",
   "metadata": {},
   "outputs": [],
   "source": [
    "train_dt[,fltr4:=as.numeric(mon %in% c(\"Ağu\",\"Haz\",\"Mar\",\"May\",\"Nis\",\"Tem\"))]\n",
    "test_dt[,fltr4:=as.numeric(mon %in% c(\"Ağu\",\"Haz\",\"Mar\",\"May\",\"Nis\",\"Tem\"))]\n",
    "dt[,fltr4:=as.numeric(mon %in% c(\"Ağu\",\"Haz\",\"Mar\",\"May\",\"Nis\",\"Tem\"))]"
   ]
  },
  {
   "cell_type": "code",
   "execution_count": 42,
   "id": "518e62c7",
   "metadata": {
    "scrolled": true
   },
   "outputs": [
    {
     "data": {
      "text/plain": [
       "\n",
       "Call:\n",
       "lm(formula = production ~ trnd + w_day + mon + as.factor(hour) + \n",
       "    fltr1:fltr2:fltr3:fltr4, data = train_dt)\n",
       "\n",
       "Residuals:\n",
       "    Min      1Q  Median      3Q     Max \n",
       "-3.6298 -0.3134  0.0242  0.3427  2.2397 \n",
       "\n",
       "Coefficients:\n",
       "                          Estimate Std. Error t value Pr(>|t|)    \n",
       "(Intercept)              1.991e-01  2.965e-02   6.715 1.94e-11 ***\n",
       "trnd                     5.713e-06  8.353e-07   6.839 8.19e-12 ***\n",
       "w_dayCum                -9.653e-03  1.603e-02  -0.602  0.54702    \n",
       "w_dayÇar                 6.123e-03  1.600e-02   0.383  0.70188    \n",
       "w_dayPaz                 4.046e-02  1.603e-02   2.524  0.01160 *  \n",
       "w_dayPer                 6.560e-03  1.603e-02   0.409  0.68243    \n",
       "w_dayPzt                 1.413e-02  1.603e-02   0.881  0.37814    \n",
       "w_daySal                 2.559e-02  1.600e-02   1.599  0.10984    \n",
       "monAra                  -9.225e-01  2.223e-02 -41.501  < 2e-16 ***\n",
       "monEki                  -2.636e-01  2.019e-02 -13.052  < 2e-16 ***\n",
       "monEyl                  -5.492e-02  2.025e-02  -2.712  0.00669 ** \n",
       "monHaz                   1.841e-01  2.176e-02   8.462  < 2e-16 ***\n",
       "monKas                  -5.629e-01  2.254e-02 -24.969  < 2e-16 ***\n",
       "monMar                  -3.583e-01  2.184e-02 -16.406  < 2e-16 ***\n",
       "monMay                   9.493e-02  2.162e-02   4.390 1.14e-05 ***\n",
       "monNis                  -1.366e-01  2.191e-02  -6.236 4.60e-10 ***\n",
       "monOca                  -8.245e-01  2.211e-02 -37.300  < 2e-16 ***\n",
       "monŞub                  -5.282e-01  2.246e-02 -23.515  < 2e-16 ***\n",
       "monTem                   1.686e-01  2.156e-02   7.820 5.54e-15 ***\n",
       "as.factor(hour)1        -1.065e-03  2.963e-02  -0.036  0.97133    \n",
       "as.factor(hour)2        -1.198e-03  2.963e-02  -0.040  0.96774    \n",
       "as.factor(hour)3         1.106e-03  2.963e-02   0.037  0.97022    \n",
       "as.factor(hour)4         1.712e-02  2.963e-02   0.578  0.56352    \n",
       "as.factor(hour)5         3.367e-01  2.963e-02  11.362  < 2e-16 ***\n",
       "as.factor(hour)6         1.481e+00  2.963e-02  49.969  < 2e-16 ***\n",
       "as.factor(hour)7         3.040e+00  2.963e-02 102.589  < 2e-16 ***\n",
       "as.factor(hour)8         4.247e+00  2.963e-02 143.332  < 2e-16 ***\n",
       "as.factor(hour)9         4.853e+00  2.963e-02 163.772  < 2e-16 ***\n",
       "as.factor(hour)10        5.153e+00  2.963e-02 173.893  < 2e-16 ***\n",
       "as.factor(hour)11        5.290e+00  2.963e-02 178.507  < 2e-16 ***\n",
       "as.factor(hour)12        5.320e+00  2.963e-02 179.531  < 2e-16 ***\n",
       "as.factor(hour)13        5.269e+00  2.963e-02 177.802  < 2e-16 ***\n",
       "as.factor(hour)14        5.130e+00  2.963e-02 173.111  < 2e-16 ***\n",
       "as.factor(hour)15        4.836e+00  2.963e-02 163.192  < 2e-16 ***\n",
       "as.factor(hour)16        4.271e+00  2.963e-02 144.144  < 2e-16 ***\n",
       "as.factor(hour)17        2.423e+00  3.159e-02  76.704  < 2e-16 ***\n",
       "as.factor(hour)18        1.018e+00  3.118e-02  32.645  < 2e-16 ***\n",
       "as.factor(hour)19        4.317e-01  2.963e-02  14.567  < 2e-16 ***\n",
       "as.factor(hour)20        1.489e-02  2.963e-02   0.502  0.61536    \n",
       "as.factor(hour)21        7.350e-03  2.963e-02   0.248  0.80412    \n",
       "as.factor(hour)22       -3.586e-03  2.963e-02  -0.121  0.90368    \n",
       "as.factor(hour)23       -2.891e-03  2.963e-02  -0.098  0.92228    \n",
       "fltr1:fltr2:fltr3:fltr4  1.795e+00  3.281e-02  54.720  < 2e-16 ***\n",
       "---\n",
       "Signif. codes:  0 '***' 0.001 '**' 0.01 '*' 0.05 '.' 0.1 ' ' 1\n",
       "\n",
       "Residual standard error: 0.5875 on 18821 degrees of freedom\n",
       "Multiple R-squared:  0.9385,\tAdjusted R-squared:  0.9383 \n",
       "F-statistic:  6833 on 42 and 18821 DF,  p-value: < 2.2e-16\n"
      ]
     },
     "metadata": {},
     "output_type": "display_data"
    }
   ],
   "source": [
    "lm_model2 <- lm(production~trnd+w_day+mon+as.factor(hour)+\n",
    "                fltr1:fltr2:fltr3:fltr4\n",
    "                ,train_dt)\n",
    "summary(lm_model2)"
   ]
  },
  {
   "cell_type": "code",
   "execution_count": 43,
   "id": "16ea9e95",
   "metadata": {},
   "outputs": [
    {
     "data": {
      "text/html": [
       "<table class=\"dataframe\">\n",
       "<caption>A data.frame: 1 × 10</caption>\n",
       "<thead>\n",
       "\t<tr><th scope=col>n</th><th scope=col>mean</th><th scope=col>sd</th><th scope=col>CV</th><th scope=col>FBias</th><th scope=col>MAPE</th><th scope=col>RMSE</th><th scope=col>MAD</th><th scope=col>MADP</th><th scope=col>WMAPE</th></tr>\n",
       "\t<tr><th scope=col>&lt;int&gt;</th><th scope=col>&lt;dbl&gt;</th><th scope=col>&lt;dbl&gt;</th><th scope=col>&lt;dbl&gt;</th><th scope=col>&lt;dbl&gt;</th><th scope=col>&lt;dbl&gt;</th><th scope=col>&lt;dbl&gt;</th><th scope=col>&lt;dbl&gt;</th><th scope=col>&lt;dbl&gt;</th><th scope=col>&lt;dbl&gt;</th></tr>\n",
       "</thead>\n",
       "<tbody>\n",
       "\t<tr><td>24</td><td>2.124579</td><td>2.475094</td><td>1.164981</td><td>-0.06259739</td><td>Inf</td><td>0.4194979</td><td>0.2744418</td><td>0.1291747</td><td>0.1291747</td></tr>\n",
       "</tbody>\n",
       "</table>\n"
      ],
      "text/latex": [
       "A data.frame: 1 × 10\n",
       "\\begin{tabular}{llllllllll}\n",
       " n & mean & sd & CV & FBias & MAPE & RMSE & MAD & MADP & WMAPE\\\\\n",
       " <int> & <dbl> & <dbl> & <dbl> & <dbl> & <dbl> & <dbl> & <dbl> & <dbl> & <dbl>\\\\\n",
       "\\hline\n",
       "\t 24 & 2.124579 & 2.475094 & 1.164981 & -0.06259739 & Inf & 0.4194979 & 0.2744418 & 0.1291747 & 0.1291747\\\\\n",
       "\\end{tabular}\n"
      ],
      "text/markdown": [
       "\n",
       "A data.frame: 1 × 10\n",
       "\n",
       "| n &lt;int&gt; | mean &lt;dbl&gt; | sd &lt;dbl&gt; | CV &lt;dbl&gt; | FBias &lt;dbl&gt; | MAPE &lt;dbl&gt; | RMSE &lt;dbl&gt; | MAD &lt;dbl&gt; | MADP &lt;dbl&gt; | WMAPE &lt;dbl&gt; |\n",
       "|---|---|---|---|---|---|---|---|---|---|\n",
       "| 24 | 2.124579 | 2.475094 | 1.164981 | -0.06259739 | Inf | 0.4194979 | 0.2744418 | 0.1291747 | 0.1291747 |\n",
       "\n"
      ],
      "text/plain": [
       "  n  mean     sd       CV       FBias       MAPE RMSE      MAD       MADP     \n",
       "1 24 2.124579 2.475094 1.164981 -0.06259739 Inf  0.4194979 0.2744418 0.1291747\n",
       "  WMAPE    \n",
       "1 0.1291747"
      ]
     },
     "metadata": {},
     "output_type": "display_data"
    }
   ],
   "source": [
    "test_pred2 <- predict(lm_model2,test_dt)\n",
    "accu(test_dt$production,test_pred2)"
   ]
  },
  {
   "cell_type": "markdown",
   "id": "360900c8",
   "metadata": {},
   "source": [
    "After adding these 4 filters to the data, new linear model's R-squared value is increased to 0.9383 and the new model has WMAPE value of 0.1291. To improve more, another decisions tree will be constructed to learn from the residuals."
   ]
  },
  {
   "cell_type": "code",
   "execution_count": 44,
   "id": "b5392238",
   "metadata": {},
   "outputs": [
    {
     "name": "stdout",
     "output_type": "stream",
     "text": [
      "\n",
      " node number: 31 \n",
      "   root\n",
      "   lag_48>=1.229\n",
      "   TCDC_low.cloud.layer_38.5_35.5< 39.3\n",
      "   hour< 7.5\n",
      "   mon=Ağu,Haz,May,Nis,Tem\n"
     ]
    }
   ],
   "source": [
    "residuals <- lm_model2$residuals\n",
    "tree_learner <- rpart(residuals~.-date-production,\n",
    "                       data=train_dt,\n",
    "                       control=rpart.control(cp=0,maxdepth=4))\n",
    "best_node <- as.numeric(rownames(tree_learner$frame[which.max(abs(tree_learner[[1]]$yval)),]))\n",
    "b <- path.rpart(tree_learner,best_node)\n",
    "depth <- length(b[[1]])\n",
    "for(i in 2:depth){\n",
    "    if(startsWith(b[[1]][i],\"mon\") | startsWith(b[[1]][i],\"w_day\")){\n",
    "        f_count <- f_count+1\n",
    "        next\n",
    "    }\n",
    "    train_dt[,paste(\"fltr\",as.character(f_count),sep=\"\"):=as.numeric(eval(parse(text = b[[1]][i])))]\n",
    "    test_dt[,paste(\"fltr\",as.character(f_count),sep=\"\"):=as.numeric(eval(parse(text = b[[1]][i])))]\n",
    "    dt[,paste(\"fltr\",as.character(f_count),sep=\"\"):=as.numeric(eval(parse(text = b[[1]][i])))]\n",
    "    f_count <- f_count+1\n",
    "}"
   ]
  },
  {
   "cell_type": "markdown",
   "id": "9c2c2533",
   "metadata": {},
   "source": [
    "Again, the node with highest value is 31th node. Split information is added to data as new features."
   ]
  },
  {
   "cell_type": "code",
   "execution_count": 45,
   "id": "817b62a0",
   "metadata": {},
   "outputs": [],
   "source": [
    "train_dt[,fltr8:=as.numeric(mon %in% c(\"Ağu\",\"Haz\",\"May\",\"Nis\",\"Tem\"))]\n",
    "test_dt[,fltr8:=as.numeric(mon %in% c(\"Ağu\",\"Haz\",\"May\",\"Nis\",\"Tem\"))]\n",
    "dt[,fltr8:=as.numeric(mon %in% c(\"Ağu\",\"Haz\",\"May\",\"Nis\",\"Tem\"))]"
   ]
  },
  {
   "cell_type": "code",
   "execution_count": 46,
   "id": "aeb446de",
   "metadata": {
    "scrolled": true
   },
   "outputs": [
    {
     "data": {
      "text/plain": [
       "\n",
       "Call:\n",
       "lm(formula = production ~ trnd + w_day + mon + as.factor(hour) + \n",
       "    fltr1:fltr2:fltr3:fltr4 + fltr5:fltr6:fltr7:fltr8, data = train_dt)\n",
       "\n",
       "Residuals:\n",
       "    Min      1Q  Median      3Q     Max \n",
       "-3.6840 -0.2745  0.0144  0.2980  2.3572 \n",
       "\n",
       "Coefficients:\n",
       "                          Estimate Std. Error t value Pr(>|t|)    \n",
       "(Intercept)              1.259e-01  2.743e-02   4.591 4.44e-06 ***\n",
       "trnd                     5.582e-06  7.719e-07   7.231 4.96e-13 ***\n",
       "w_dayCum                -8.985e-03  1.481e-02  -0.607  0.54414    \n",
       "w_dayÇar                 3.156e-03  1.478e-02   0.213  0.83096    \n",
       "w_dayPaz                 3.962e-02  1.481e-02   2.675  0.00748 ** \n",
       "w_dayPer                 3.828e-03  1.482e-02   0.258  0.79612    \n",
       "w_dayPzt                 1.478e-02  1.482e-02   0.998  0.31850    \n",
       "w_daySal                 2.364e-02  1.479e-02   1.598  0.10998    \n",
       "monAra                  -7.921e-01  2.067e-02 -38.316  < 2e-16 ***\n",
       "monEki                  -1.328e-01  1.880e-02  -7.063 1.68e-12 ***\n",
       "monEyl                   7.586e-02  1.886e-02   4.022 5.78e-05 ***\n",
       "monHaz                   1.184e-01  2.014e-02   5.878 4.22e-09 ***\n",
       "monKas                  -4.326e-01  2.096e-02 -20.642  < 2e-16 ***\n",
       "monMar                  -2.298e-01  2.031e-02 -11.313  < 2e-16 ***\n",
       "monMay                   9.842e-02  1.998e-02   4.925 8.53e-07 ***\n",
       "monNis                  -1.068e-01  2.026e-02  -5.271 1.37e-07 ***\n",
       "monOca                  -6.940e-01  2.056e-02 -33.760  < 2e-16 ***\n",
       "monŞub                  -3.976e-01  2.089e-02 -19.038  < 2e-16 ***\n",
       "monTem                   1.470e-01  1.993e-02   7.377 1.69e-13 ***\n",
       "as.factor(hour)1        -1.065e-03  2.739e-02  -0.039  0.96898    \n",
       "as.factor(hour)2        -1.198e-03  2.739e-02  -0.044  0.96511    \n",
       "as.factor(hour)3         1.107e-03  2.739e-02   0.040  0.96776    \n",
       "as.factor(hour)4         1.712e-02  2.739e-02   0.625  0.53196    \n",
       "as.factor(hour)5         1.710e-01  2.754e-02   6.208 5.46e-10 ***\n",
       "as.factor(hour)6         9.383e-01  2.901e-02  32.345  < 2e-16 ***\n",
       "as.factor(hour)7         2.498e+00  2.901e-02  86.096  < 2e-16 ***\n",
       "as.factor(hour)8         4.247e+00  2.739e-02 155.091  < 2e-16 ***\n",
       "as.factor(hour)9         4.853e+00  2.739e-02 177.208  < 2e-16 ***\n",
       "as.factor(hour)10        5.153e+00  2.739e-02 188.160  < 2e-16 ***\n",
       "as.factor(hour)11        5.290e+00  2.739e-02 193.152  < 2e-16 ***\n",
       "as.factor(hour)12        5.320e+00  2.739e-02 194.260  < 2e-16 ***\n",
       "as.factor(hour)13        5.269e+00  2.739e-02 192.389  < 2e-16 ***\n",
       "as.factor(hour)14        5.130e+00  2.739e-02 187.313  < 2e-16 ***\n",
       "as.factor(hour)15        4.836e+00  2.739e-02 176.580  < 2e-16 ***\n",
       "as.factor(hour)16        4.271e+00  2.739e-02 155.970  < 2e-16 ***\n",
       "as.factor(hour)17        2.382e+00  2.920e-02  81.579  < 2e-16 ***\n",
       "as.factor(hour)18        9.817e-01  2.882e-02  34.065  < 2e-16 ***\n",
       "as.factor(hour)19        4.314e-01  2.739e-02  15.751  < 2e-16 ***\n",
       "as.factor(hour)20        1.489e-02  2.739e-02   0.544  0.58661    \n",
       "as.factor(hour)21        7.353e-03  2.739e-02   0.268  0.78834    \n",
       "as.factor(hour)22       -3.583e-03  2.739e-02  -0.131  0.89590    \n",
       "as.factor(hour)23       -2.888e-03  2.739e-02  -0.105  0.91601    \n",
       "fltr1:fltr2:fltr3:fltr4  1.917e+00  3.040e-02  63.074  < 2e-16 ***\n",
       "fltr5:fltr6:fltr7:fltr8  1.550e+00  2.734e-02  56.709  < 2e-16 ***\n",
       "---\n",
       "Signif. codes:  0 '***' 0.001 '**' 0.01 '*' 0.05 '.' 0.1 ' ' 1\n",
       "\n",
       "Residual standard error: 0.5429 on 18820 degrees of freedom\n",
       "Multiple R-squared:  0.9474,\tAdjusted R-squared:  0.9473 \n",
       "F-statistic:  7889 on 43 and 18820 DF,  p-value: < 2.2e-16\n"
      ]
     },
     "metadata": {},
     "output_type": "display_data"
    }
   ],
   "source": [
    "lm_model3 <- lm(production~trnd+w_day+mon+as.factor(hour)+\n",
    "                fltr1:fltr2:fltr3:fltr4+\n",
    "                fltr5:fltr6:fltr7:fltr8\n",
    "                ,train_dt)\n",
    "summary(lm_model3)"
   ]
  },
  {
   "cell_type": "code",
   "execution_count": 47,
   "id": "2d6fdade",
   "metadata": {},
   "outputs": [
    {
     "data": {
      "text/html": [
       "<table class=\"dataframe\">\n",
       "<caption>A data.frame: 1 × 10</caption>\n",
       "<thead>\n",
       "\t<tr><th scope=col>n</th><th scope=col>mean</th><th scope=col>sd</th><th scope=col>CV</th><th scope=col>FBias</th><th scope=col>MAPE</th><th scope=col>RMSE</th><th scope=col>MAD</th><th scope=col>MADP</th><th scope=col>WMAPE</th></tr>\n",
       "\t<tr><th scope=col>&lt;int&gt;</th><th scope=col>&lt;dbl&gt;</th><th scope=col>&lt;dbl&gt;</th><th scope=col>&lt;dbl&gt;</th><th scope=col>&lt;dbl&gt;</th><th scope=col>&lt;dbl&gt;</th><th scope=col>&lt;dbl&gt;</th><th scope=col>&lt;dbl&gt;</th><th scope=col>&lt;dbl&gt;</th><th scope=col>&lt;dbl&gt;</th></tr>\n",
       "</thead>\n",
       "<tbody>\n",
       "\t<tr><td>24</td><td>2.124579</td><td>2.475094</td><td>1.164981</td><td>-0.0625062</td><td>Inf</td><td>0.3884094</td><td>0.2774711</td><td>0.1306005</td><td>0.1306005</td></tr>\n",
       "</tbody>\n",
       "</table>\n"
      ],
      "text/latex": [
       "A data.frame: 1 × 10\n",
       "\\begin{tabular}{llllllllll}\n",
       " n & mean & sd & CV & FBias & MAPE & RMSE & MAD & MADP & WMAPE\\\\\n",
       " <int> & <dbl> & <dbl> & <dbl> & <dbl> & <dbl> & <dbl> & <dbl> & <dbl> & <dbl>\\\\\n",
       "\\hline\n",
       "\t 24 & 2.124579 & 2.475094 & 1.164981 & -0.0625062 & Inf & 0.3884094 & 0.2774711 & 0.1306005 & 0.1306005\\\\\n",
       "\\end{tabular}\n"
      ],
      "text/markdown": [
       "\n",
       "A data.frame: 1 × 10\n",
       "\n",
       "| n &lt;int&gt; | mean &lt;dbl&gt; | sd &lt;dbl&gt; | CV &lt;dbl&gt; | FBias &lt;dbl&gt; | MAPE &lt;dbl&gt; | RMSE &lt;dbl&gt; | MAD &lt;dbl&gt; | MADP &lt;dbl&gt; | WMAPE &lt;dbl&gt; |\n",
       "|---|---|---|---|---|---|---|---|---|---|\n",
       "| 24 | 2.124579 | 2.475094 | 1.164981 | -0.0625062 | Inf | 0.3884094 | 0.2774711 | 0.1306005 | 0.1306005 |\n",
       "\n"
      ],
      "text/plain": [
       "  n  mean     sd       CV       FBias      MAPE RMSE      MAD       MADP     \n",
       "1 24 2.124579 2.475094 1.164981 -0.0625062 Inf  0.3884094 0.2774711 0.1306005\n",
       "  WMAPE    \n",
       "1 0.1306005"
      ]
     },
     "metadata": {},
     "output_type": "display_data"
    }
   ],
   "source": [
    "test_pred3 <- predict(lm_model3,test_dt)\n",
    "accu(test_dt$production,test_pred3)"
   ]
  },
  {
   "cell_type": "markdown",
   "id": "e36bd205",
   "metadata": {},
   "source": [
    "After the filter variables, model has a R-squared value of 0.9473 but WMAPE value is slighlty increased. Since the R-squared is also increased, another decision tree could be constructed."
   ]
  },
  {
   "cell_type": "code",
   "execution_count": 48,
   "id": "21f4f48d",
   "metadata": {},
   "outputs": [
    {
     "name": "stdout",
     "output_type": "stream",
     "text": [
      "\n",
      " node number: 16 \n",
      "   root\n",
      "   TCDC_entire.atmosphere_38.5_35>=96.85\n",
      "   lag_48>=0.02411\n",
      "   RH_2.m.above.ground_38.5_35.5>=88.35\n",
      "   mon=Ara,Kas,Oca,Şub\n"
     ]
    }
   ],
   "source": [
    "residuals <- lm_model3$residuals\n",
    "tree_learner <- rpart(residuals~.-date-production,\n",
    "                       data=train_dt,\n",
    "                       control=rpart.control(cp=0,maxdepth=4))\n",
    "best_node <- as.numeric(rownames(tree_learner$frame[which.max(abs(tree_learner[[1]]$yval)),]))\n",
    "b <- path.rpart(tree_learner,best_node)\n",
    "depth <- length(b[[1]])\n",
    "for(i in 2:depth){\n",
    "    if(startsWith(b[[1]][i],\"mon\") | startsWith(b[[1]][i],\"w_day\")){\n",
    "        f_count <- f_count+1\n",
    "        next\n",
    "    }\n",
    "    train_dt[,paste(\"fltr\",as.character(f_count),sep=\"\"):=as.numeric(eval(parse(text = b[[1]][i])))]\n",
    "    test_dt[,paste(\"fltr\",as.character(f_count),sep=\"\"):=as.numeric(eval(parse(text = b[[1]][i])))]\n",
    "    dt[,paste(\"fltr\",as.character(f_count),sep=\"\"):=as.numeric(eval(parse(text = b[[1]][i])))]\n",
    "    f_count <- f_count+1\n",
    "}"
   ]
  },
  {
   "cell_type": "markdown",
   "id": "8603e8db",
   "metadata": {},
   "source": [
    "The 16th node has the highest residual, thus its split information added to the data as filter variables, again."
   ]
  },
  {
   "cell_type": "code",
   "execution_count": 49,
   "id": "b6503374",
   "metadata": {},
   "outputs": [],
   "source": [
    "train_dt[,fltr12:=as.numeric(mon %in% c(\"Ara\",\"Kas\",\"Oca\",\"Şub\"))]\n",
    "test_dt[,fltr12:=as.numeric(mon %in% c(\"Ara\",\"Kas\",\"Oca\",\"Şub\"))]\n",
    "dt[,fltr12:=as.numeric(mon %in% c(\"Ara\",\"Kas\",\"Oca\",\"Şub\"))]"
   ]
  },
  {
   "cell_type": "code",
   "execution_count": 50,
   "id": "ac999a9d",
   "metadata": {
    "scrolled": true
   },
   "outputs": [
    {
     "data": {
      "text/plain": [
       "\n",
       "Call:\n",
       "lm(formula = production ~ trnd + w_day + mon + as.factor(hour) + \n",
       "    fltr1:fltr2:fltr3:fltr4 + fltr5:fltr6:fltr7:fltr8 + fltr9:fltr10:fltr11:fltr12, \n",
       "    data = train_dt)\n",
       "\n",
       "Residuals:\n",
       "     Min       1Q   Median       3Q      Max \n",
       "-2.81390 -0.25146  0.01316  0.27873  2.37327 \n",
       "\n",
       "Coefficients:\n",
       "                             Estimate Std. Error t value Pr(>|t|)    \n",
       "(Intercept)                 1.213e-01  2.551e-02   4.754 2.00e-06 ***\n",
       "trnd                        3.733e-06  7.187e-07   5.194 2.08e-07 ***\n",
       "w_dayCum                   -1.333e-03  1.378e-02  -0.097 0.922931    \n",
       "w_dayÇar                    4.690e-03  1.375e-02   0.341 0.733018    \n",
       "w_dayPaz                    2.514e-02  1.378e-02   1.825 0.068090 .  \n",
       "w_dayPer                    8.748e-04  1.378e-02   0.063 0.949381    \n",
       "w_dayPzt                   -6.324e-03  1.378e-02  -0.459 0.646368    \n",
       "w_daySal                    2.494e-02  1.375e-02   1.813 0.069784 .  \n",
       "monAra                     -6.511e-01  1.940e-02 -33.562  < 2e-16 ***\n",
       "monEki                     -1.427e-01  1.749e-02  -8.161 3.54e-16 ***\n",
       "monEyl                      6.585e-02  1.754e-02   3.755 0.000174 ***\n",
       "monHaz                      1.162e-01  1.873e-02   6.202 5.69e-10 ***\n",
       "monKas                     -4.141e-01  1.949e-02 -21.244  < 2e-16 ***\n",
       "monMar                     -2.395e-01  1.889e-02 -12.676  < 2e-16 ***\n",
       "monMay                      9.378e-02  1.859e-02   5.046 4.56e-07 ***\n",
       "monNis                     -1.139e-01  1.884e-02  -6.048 1.49e-09 ***\n",
       "monOca                     -5.664e-01  1.926e-02 -29.403  < 2e-16 ***\n",
       "monŞub                     -2.899e-01  1.952e-02 -14.846  < 2e-16 ***\n",
       "monTem                      1.448e-01  1.853e-02   7.810 5.99e-15 ***\n",
       "as.factor(hour)1           -1.063e-03  2.547e-02  -0.042 0.966704    \n",
       "as.factor(hour)2           -1.194e-03  2.547e-02  -0.047 0.962599    \n",
       "as.factor(hour)3            1.112e-03  2.547e-02   0.044 0.965163    \n",
       "as.factor(hour)4            1.880e-02  2.547e-02   0.738 0.460382    \n",
       "as.factor(hour)5            1.842e-01  2.562e-02   7.192 6.61e-13 ***\n",
       "as.factor(hour)6            9.889e-01  2.699e-02  36.634  < 2e-16 ***\n",
       "as.factor(hour)7            2.587e+00  2.703e-02  95.706  < 2e-16 ***\n",
       "as.factor(hour)8            4.331e+00  2.552e-02 169.747  < 2e-16 ***\n",
       "as.factor(hour)9            4.929e+00  2.551e-02 193.224  < 2e-16 ***\n",
       "as.factor(hour)10           5.234e+00  2.551e-02 205.138  < 2e-16 ***\n",
       "as.factor(hour)11           5.362e+00  2.550e-02 210.238  < 2e-16 ***\n",
       "as.factor(hour)12           5.384e+00  2.550e-02 211.162  < 2e-16 ***\n",
       "as.factor(hour)13           5.326e+00  2.549e-02 208.934  < 2e-16 ***\n",
       "as.factor(hour)14           5.187e+00  2.549e-02 203.480  < 2e-16 ***\n",
       "as.factor(hour)15           4.895e+00  2.549e-02 192.005  < 2e-16 ***\n",
       "as.factor(hour)16           4.340e+00  2.550e-02 170.202  < 2e-16 ***\n",
       "as.factor(hour)17           2.443e+00  2.718e-02  89.867  < 2e-16 ***\n",
       "as.factor(hour)18           9.932e-01  2.680e-02  37.058  < 2e-16 ***\n",
       "as.factor(hour)19           4.348e-01  2.547e-02  17.070  < 2e-16 ***\n",
       "as.factor(hour)20           1.661e-02  2.547e-02   0.652 0.514402    \n",
       "as.factor(hour)21           1.075e-02  2.547e-02   0.422 0.673086    \n",
       "as.factor(hour)22          -1.879e-04  2.547e-02  -0.007 0.994113    \n",
       "as.factor(hour)23          -1.168e-03  2.547e-02  -0.046 0.963410    \n",
       "fltr1:fltr2:fltr3:fltr4     1.912e+00  2.827e-02  67.652  < 2e-16 ***\n",
       "fltr5:fltr6:fltr7:fltr8     1.521e+00  2.543e-02  59.800  < 2e-16 ***\n",
       "fltr9:fltr10:fltr11:fltr12 -1.318e+00  2.431e-02 -54.232  < 2e-16 ***\n",
       "---\n",
       "Signif. codes:  0 '***' 0.001 '**' 0.01 '*' 0.05 '.' 0.1 ' ' 1\n",
       "\n",
       "Residual standard error: 0.5049 on 18819 degrees of freedom\n",
       "Multiple R-squared:  0.9545,\tAdjusted R-squared:  0.9544 \n",
       "F-statistic:  8981 on 44 and 18819 DF,  p-value: < 2.2e-16\n"
      ]
     },
     "metadata": {},
     "output_type": "display_data"
    }
   ],
   "source": [
    "lm_model4 <- lm(production~trnd+w_day+mon+as.factor(hour)+\n",
    "                fltr1:fltr2:fltr3:fltr4+\n",
    "                fltr5:fltr6:fltr7:fltr8+\n",
    "                fltr9:fltr10:fltr11:fltr12\n",
    "                ,train_dt)\n",
    "summary(lm_model4)"
   ]
  },
  {
   "cell_type": "code",
   "execution_count": 51,
   "id": "6167ceac",
   "metadata": {},
   "outputs": [
    {
     "data": {
      "text/html": [
       "<table class=\"dataframe\">\n",
       "<caption>A data.frame: 1 × 10</caption>\n",
       "<thead>\n",
       "\t<tr><th scope=col>n</th><th scope=col>mean</th><th scope=col>sd</th><th scope=col>CV</th><th scope=col>FBias</th><th scope=col>MAPE</th><th scope=col>RMSE</th><th scope=col>MAD</th><th scope=col>MADP</th><th scope=col>WMAPE</th></tr>\n",
       "\t<tr><th scope=col>&lt;int&gt;</th><th scope=col>&lt;dbl&gt;</th><th scope=col>&lt;dbl&gt;</th><th scope=col>&lt;dbl&gt;</th><th scope=col>&lt;dbl&gt;</th><th scope=col>&lt;dbl&gt;</th><th scope=col>&lt;dbl&gt;</th><th scope=col>&lt;dbl&gt;</th><th scope=col>&lt;dbl&gt;</th><th scope=col>&lt;dbl&gt;</th></tr>\n",
       "</thead>\n",
       "<tbody>\n",
       "\t<tr><td>24</td><td>2.124579</td><td>2.475094</td><td>1.164981</td><td>-0.05598848</td><td>Inf</td><td>0.373917</td><td>0.24904</td><td>0.1172185</td><td>0.1172185</td></tr>\n",
       "</tbody>\n",
       "</table>\n"
      ],
      "text/latex": [
       "A data.frame: 1 × 10\n",
       "\\begin{tabular}{llllllllll}\n",
       " n & mean & sd & CV & FBias & MAPE & RMSE & MAD & MADP & WMAPE\\\\\n",
       " <int> & <dbl> & <dbl> & <dbl> & <dbl> & <dbl> & <dbl> & <dbl> & <dbl> & <dbl>\\\\\n",
       "\\hline\n",
       "\t 24 & 2.124579 & 2.475094 & 1.164981 & -0.05598848 & Inf & 0.373917 & 0.24904 & 0.1172185 & 0.1172185\\\\\n",
       "\\end{tabular}\n"
      ],
      "text/markdown": [
       "\n",
       "A data.frame: 1 × 10\n",
       "\n",
       "| n &lt;int&gt; | mean &lt;dbl&gt; | sd &lt;dbl&gt; | CV &lt;dbl&gt; | FBias &lt;dbl&gt; | MAPE &lt;dbl&gt; | RMSE &lt;dbl&gt; | MAD &lt;dbl&gt; | MADP &lt;dbl&gt; | WMAPE &lt;dbl&gt; |\n",
       "|---|---|---|---|---|---|---|---|---|---|\n",
       "| 24 | 2.124579 | 2.475094 | 1.164981 | -0.05598848 | Inf | 0.373917 | 0.24904 | 0.1172185 | 0.1172185 |\n",
       "\n"
      ],
      "text/plain": [
       "  n  mean     sd       CV       FBias       MAPE RMSE     MAD     MADP     \n",
       "1 24 2.124579 2.475094 1.164981 -0.05598848 Inf  0.373917 0.24904 0.1172185\n",
       "  WMAPE    \n",
       "1 0.1172185"
      ]
     },
     "metadata": {},
     "output_type": "display_data"
    }
   ],
   "source": [
    "test_pred4 <- predict(lm_model4,test_dt)\n",
    "accu(test_dt$production,test_pred4)"
   ]
  },
  {
   "cell_type": "code",
   "execution_count": 52,
   "id": "02586802",
   "metadata": {},
   "outputs": [
    {
     "name": "stdout",
     "output_type": "stream",
     "text": [
      "\n",
      " node number: 31 \n",
      "   root\n",
      "   lag_48>=1.725\n",
      "   TCDC_entire.atmosphere_38.5_35.5< 85.95\n",
      "   fltr3>=0.5\n",
      "   mon=Eyl,Şub\n"
     ]
    }
   ],
   "source": [
    "residuals <- lm_model4$residuals\n",
    "tree_learner <- rpart(residuals~.-date-production,\n",
    "                       data=train_dt,\n",
    "                       control=rpart.control(cp=0,maxdepth=4))\n",
    "best_node <- as.numeric(rownames(tree_learner$frame[which.max(abs(tree_learner[[1]]$yval)),]))\n",
    "b <- path.rpart(tree_learner,best_node)\n",
    "depth <- length(b[[1]])\n",
    "for(i in 2:depth){\n",
    "    if(startsWith(b[[1]][i],\"mon\") | startsWith(b[[1]][i],\"w_day\")){\n",
    "        f_count <- f_count+1\n",
    "        next\n",
    "    }\n",
    "    train_dt[,paste(\"fltr\",as.character(f_count),sep=\"\"):=as.numeric(eval(parse(text = b[[1]][i])))]\n",
    "    test_dt[,paste(\"fltr\",as.character(f_count),sep=\"\"):=as.numeric(eval(parse(text = b[[1]][i])))]\n",
    "    dt[,paste(\"fltr\",as.character(f_count),sep=\"\"):=as.numeric(eval(parse(text = b[[1]][i])))]\n",
    "    f_count <- f_count+1\n",
    "}"
   ]
  },
  {
   "cell_type": "code",
   "execution_count": 53,
   "id": "4890a9fb",
   "metadata": {},
   "outputs": [],
   "source": [
    "train_dt[,fltr16:=as.numeric(mon %in% c(\"Eyl\",\"Şub\"))]\n",
    "test_dt[,fltr16:=as.numeric(mon %in% c(\"Eyl\",\"Şub\"))]\n",
    "dt[,fltr16:=as.numeric(mon %in% c(\"Eyl\",\"Şub\"))]"
   ]
  },
  {
   "cell_type": "code",
   "execution_count": 54,
   "id": "256db91b",
   "metadata": {
    "scrolled": true
   },
   "outputs": [
    {
     "data": {
      "text/plain": [
       "\n",
       "Call:\n",
       "lm(formula = production ~ trnd + w_day + mon + as.factor(hour) + \n",
       "    fltr1:fltr2:fltr3:fltr4 + fltr5:fltr6:fltr7:fltr8 + fltr9:fltr10:fltr11:fltr12 + \n",
       "    fltr13:fltr14:fltr15:fltr16, data = train_dt)\n",
       "\n",
       "Residuals:\n",
       "     Min       1Q   Median       3Q      Max \n",
       "-2.82871 -0.23682  0.00891  0.26771  2.49183 \n",
       "\n",
       "Coefficients:\n",
       "                              Estimate Std. Error t value Pr(>|t|)    \n",
       "(Intercept)                  1.230e-01  2.493e-02   4.937 8.02e-07 ***\n",
       "trnd                         3.867e-06  7.023e-07   5.506 3.71e-08 ***\n",
       "w_dayCum                    -2.525e-03  1.346e-02  -0.188   0.8512    \n",
       "w_dayÇar                     4.184e-03  1.343e-02   0.311   0.7555    \n",
       "w_dayPaz                     2.336e-02  1.346e-02   1.735   0.0827 .  \n",
       "w_dayPer                    -2.046e-03  1.346e-02  -0.152   0.8792    \n",
       "w_dayPzt                    -6.583e-03  1.347e-02  -0.489   0.6250    \n",
       "w_daySal                     2.150e-02  1.344e-02   1.600   0.1096    \n",
       "monAra                      -6.386e-01  1.896e-02 -33.680  < 2e-16 ***\n",
       "monEki                      -1.291e-01  1.709e-02  -7.554 4.40e-14 ***\n",
       "monEyl                       6.502e-03  1.725e-02   0.377   0.7063    \n",
       "monHaz                       1.179e-01  1.830e-02   6.443 1.20e-10 ***\n",
       "monKas                      -4.005e-01  1.905e-02 -21.019  < 2e-16 ***\n",
       "monMar                      -2.290e-01  1.846e-02 -12.401  < 2e-16 ***\n",
       "monMay                       9.656e-02  1.816e-02   5.317 1.07e-07 ***\n",
       "monNis                      -1.061e-01  1.841e-02  -5.761 8.47e-09 ***\n",
       "monOca                      -5.539e-01  1.883e-02 -29.422  < 2e-16 ***\n",
       "monŞub                      -3.065e-01  1.909e-02 -16.057  < 2e-16 ***\n",
       "monTem                       1.439e-01  1.811e-02   7.944 2.07e-15 ***\n",
       "as.factor(hour)1            -1.063e-03  2.489e-02  -0.043   0.9659    \n",
       "as.factor(hour)2            -1.195e-03  2.489e-02  -0.048   0.9617    \n",
       "as.factor(hour)3             1.112e-03  2.489e-02   0.045   0.9644    \n",
       "as.factor(hour)4             1.879e-02  2.489e-02   0.755   0.4503    \n",
       "as.factor(hour)5             1.846e-01  2.503e-02   7.377 1.68e-13 ***\n",
       "as.factor(hour)6             9.902e-01  2.638e-02  37.541  < 2e-16 ***\n",
       "as.factor(hour)7             2.588e+00  2.641e-02  97.983  < 2e-16 ***\n",
       "as.factor(hour)8             4.331e+00  2.493e-02 173.691  < 2e-16 ***\n",
       "as.factor(hour)9             4.928e+00  2.492e-02 197.721  < 2e-16 ***\n",
       "as.factor(hour)10            5.233e+00  2.493e-02 209.911  < 2e-16 ***\n",
       "as.factor(hour)11            5.361e+00  2.492e-02 215.135  < 2e-16 ***\n",
       "as.factor(hour)12            5.383e+00  2.491e-02 216.084  < 2e-16 ***\n",
       "as.factor(hour)13            5.325e+00  2.491e-02 213.806  < 2e-16 ***\n",
       "as.factor(hour)14            5.186e+00  2.491e-02 208.224  < 2e-16 ***\n",
       "as.factor(hour)15            4.894e+00  2.491e-02 196.480  < 2e-16 ***\n",
       "as.factor(hour)16            4.340e+00  2.492e-02 174.162  < 2e-16 ***\n",
       "as.factor(hour)17            2.204e+00  2.773e-02  79.461  < 2e-16 ***\n",
       "as.factor(hour)18            8.720e-01  2.650e-02  32.905  < 2e-16 ***\n",
       "as.factor(hour)19            4.343e-01  2.489e-02  17.450  < 2e-16 ***\n",
       "as.factor(hour)20            1.659e-02  2.489e-02   0.667   0.5051    \n",
       "as.factor(hour)21            1.071e-02  2.489e-02   0.430   0.6669    \n",
       "as.factor(hour)22           -2.222e-04  2.489e-02  -0.009   0.9929    \n",
       "as.factor(hour)23           -1.187e-03  2.489e-02  -0.048   0.9620    \n",
       "fltr1:fltr2:fltr3:fltr4      2.092e+00  2.826e-02  73.998  < 2e-16 ***\n",
       "fltr5:fltr6:fltr7:fltr8      1.516e+00  2.485e-02  61.007  < 2e-16 ***\n",
       "fltr9:fltr10:fltr11:fltr12  -1.306e+00  2.376e-02 -54.975  < 2e-16 ***\n",
       "fltr13:fltr14:fltr15:fltr16  1.376e+00  4.604e-02  29.879  < 2e-16 ***\n",
       "---\n",
       "Signif. codes:  0 '***' 0.001 '**' 0.01 '*' 0.05 '.' 0.1 ' ' 1\n",
       "\n",
       "Residual standard error: 0.4934 on 18818 degrees of freedom\n",
       "Multiple R-squared:  0.9566,\tAdjusted R-squared:  0.9565 \n",
       "F-statistic:  9217 on 45 and 18818 DF,  p-value: < 2.2e-16\n"
      ]
     },
     "metadata": {},
     "output_type": "display_data"
    }
   ],
   "source": [
    "lm_model5 <- lm(production~trnd+w_day+mon+as.factor(hour)+\n",
    "                fltr1:fltr2:fltr3:fltr4+\n",
    "                fltr5:fltr6:fltr7:fltr8+\n",
    "                fltr9:fltr10:fltr11:fltr12+\n",
    "                fltr13:fltr14:fltr15:fltr16\n",
    "                ,train_dt)\n",
    "summary(lm_model5)"
   ]
  },
  {
   "cell_type": "code",
   "execution_count": 55,
   "id": "00ade0ab",
   "metadata": {},
   "outputs": [
    {
     "data": {
      "text/html": [
       "<table class=\"dataframe\">\n",
       "<caption>A data.frame: 1 × 10</caption>\n",
       "<thead>\n",
       "\t<tr><th scope=col>n</th><th scope=col>mean</th><th scope=col>sd</th><th scope=col>CV</th><th scope=col>FBias</th><th scope=col>MAPE</th><th scope=col>RMSE</th><th scope=col>MAD</th><th scope=col>MADP</th><th scope=col>WMAPE</th></tr>\n",
       "\t<tr><th scope=col>&lt;int&gt;</th><th scope=col>&lt;dbl&gt;</th><th scope=col>&lt;dbl&gt;</th><th scope=col>&lt;dbl&gt;</th><th scope=col>&lt;dbl&gt;</th><th scope=col>&lt;dbl&gt;</th><th scope=col>&lt;dbl&gt;</th><th scope=col>&lt;dbl&gt;</th><th scope=col>&lt;dbl&gt;</th><th scope=col>&lt;dbl&gt;</th></tr>\n",
       "</thead>\n",
       "<tbody>\n",
       "\t<tr><td>24</td><td>2.124579</td><td>2.475094</td><td>1.164981</td><td>-0.05726881</td><td>Inf</td><td>0.3409184</td><td>0.2415926</td><td>0.1137132</td><td>0.1137132</td></tr>\n",
       "</tbody>\n",
       "</table>\n"
      ],
      "text/latex": [
       "A data.frame: 1 × 10\n",
       "\\begin{tabular}{llllllllll}\n",
       " n & mean & sd & CV & FBias & MAPE & RMSE & MAD & MADP & WMAPE\\\\\n",
       " <int> & <dbl> & <dbl> & <dbl> & <dbl> & <dbl> & <dbl> & <dbl> & <dbl> & <dbl>\\\\\n",
       "\\hline\n",
       "\t 24 & 2.124579 & 2.475094 & 1.164981 & -0.05726881 & Inf & 0.3409184 & 0.2415926 & 0.1137132 & 0.1137132\\\\\n",
       "\\end{tabular}\n"
      ],
      "text/markdown": [
       "\n",
       "A data.frame: 1 × 10\n",
       "\n",
       "| n &lt;int&gt; | mean &lt;dbl&gt; | sd &lt;dbl&gt; | CV &lt;dbl&gt; | FBias &lt;dbl&gt; | MAPE &lt;dbl&gt; | RMSE &lt;dbl&gt; | MAD &lt;dbl&gt; | MADP &lt;dbl&gt; | WMAPE &lt;dbl&gt; |\n",
       "|---|---|---|---|---|---|---|---|---|---|\n",
       "| 24 | 2.124579 | 2.475094 | 1.164981 | -0.05726881 | Inf | 0.3409184 | 0.2415926 | 0.1137132 | 0.1137132 |\n",
       "\n"
      ],
      "text/plain": [
       "  n  mean     sd       CV       FBias       MAPE RMSE      MAD       MADP     \n",
       "1 24 2.124579 2.475094 1.164981 -0.05726881 Inf  0.3409184 0.2415926 0.1137132\n",
       "  WMAPE    \n",
       "1 0.1137132"
      ]
     },
     "metadata": {},
     "output_type": "display_data"
    }
   ],
   "source": [
    "test_pred5 <- predict(lm_model5,test_dt)\n",
    "accu(test_dt$production,test_pred5)"
   ]
  },
  {
   "cell_type": "code",
   "execution_count": 56,
   "id": "052a4af1",
   "metadata": {},
   "outputs": [
    {
     "name": "stdout",
     "output_type": "stream",
     "text": [
      "\n",
      " node number: 19 \n",
      "   root\n",
      "   fltr13< 0.5\n",
      "   TMP_2.m.above.ground_38.25_35.5>=279.2\n",
      "   DSWRF_surface_38_35.5>=449\n",
      "   TCDC_middle.cloud.layer_38.25_36>=1.6\n"
     ]
    }
   ],
   "source": [
    "residuals <- lm_model5$residuals\n",
    "tree_learner <- rpart(residuals~.-date-production-lag_48,\n",
    "                       data=train_dt,\n",
    "                       control=rpart.control(cp=0,maxdepth=4))\n",
    "best_node <- as.numeric(rownames(tree_learner$frame[which.max(abs(tree_learner[[1]]$yval)),]))\n",
    "b <- path.rpart(tree_learner,best_node)\n",
    "depth <- length(b[[1]])\n",
    "for(i in 2:depth){\n",
    "    if(startsWith(b[[1]][i],\"mon\") | startsWith(b[[1]][i],\"w_day\")){\n",
    "        f_count <- f_count+1\n",
    "        next\n",
    "    }\n",
    "    train_dt[,paste(\"fltr\",as.character(f_count),sep=\"\"):=as.numeric(eval(parse(text = b[[1]][i])))]\n",
    "    test_dt[,paste(\"fltr\",as.character(f_count),sep=\"\"):=as.numeric(eval(parse(text = b[[1]][i])))]\n",
    "    dt[,paste(\"fltr\",as.character(f_count),sep=\"\"):=as.numeric(eval(parse(text = b[[1]][i])))]\n",
    "    f_count <- f_count+1\n",
    "}"
   ]
  },
  {
   "cell_type": "code",
   "execution_count": 57,
   "id": "89062554",
   "metadata": {
    "scrolled": true
   },
   "outputs": [
    {
     "data": {
      "text/plain": [
       "\n",
       "Call:\n",
       "lm(formula = production ~ trnd + w_day + mon + as.factor(hour) + \n",
       "    fltr1:fltr2:fltr3:fltr4 + fltr5:fltr6:fltr7:fltr8 + fltr9:fltr10:fltr11:fltr12 + \n",
       "    fltr13:fltr14:fltr15:fltr16 + fltr17:fltr18:fltr19:fltr20, \n",
       "    data = train_dt)\n",
       "\n",
       "Residuals:\n",
       "     Min       1Q   Median       3Q      Max \n",
       "-2.83028 -0.23521  0.00817  0.26688  2.50360 \n",
       "\n",
       "Coefficients:\n",
       "                              Estimate Std. Error t value Pr(>|t|)    \n",
       "(Intercept)                  1.212e-01  2.487e-02   4.875 1.09e-06 ***\n",
       "trnd                         3.840e-06  7.006e-07   5.481 4.27e-08 ***\n",
       "w_dayCum                    -4.935e-04  1.343e-02  -0.037   0.9707    \n",
       "w_dayÇar                     5.695e-03  1.340e-02   0.425   0.6709    \n",
       "w_dayPaz                     2.488e-02  1.343e-02   1.852   0.0640 .  \n",
       "w_dayPer                    -6.964e-05  1.343e-02  -0.005   0.9959    \n",
       "w_dayPzt                    -4.526e-03  1.344e-02  -0.337   0.7363    \n",
       "w_daySal                     2.405e-02  1.341e-02   1.794   0.0729 .  \n",
       "monAra                      -6.371e-01  1.892e-02 -33.679  < 2e-16 ***\n",
       "monEki                      -1.276e-01  1.705e-02  -7.481 7.67e-14 ***\n",
       "monEyl                       7.893e-03  1.721e-02   0.459   0.6465    \n",
       "monHaz                       1.139e-01  1.826e-02   6.237 4.56e-10 ***\n",
       "monKas                      -3.990e-01  1.901e-02 -20.991  < 2e-16 ***\n",
       "monMar                      -2.276e-01  1.842e-02 -12.356  < 2e-16 ***\n",
       "monMay                       9.386e-02  1.812e-02   5.180 2.24e-07 ***\n",
       "monNis                      -1.059e-01  1.836e-02  -5.765 8.29e-09 ***\n",
       "monOca                      -5.523e-01  1.878e-02 -29.407  < 2e-16 ***\n",
       "monŞub                      -3.049e-01  1.904e-02 -16.013  < 2e-16 ***\n",
       "monTem                       1.438e-01  1.807e-02   7.958 1.85e-15 ***\n",
       "as.factor(hour)1            -1.063e-03  2.483e-02  -0.043   0.9658    \n",
       "as.factor(hour)2            -1.195e-03  2.483e-02  -0.048   0.9616    \n",
       "as.factor(hour)3             1.112e-03  2.483e-02   0.045   0.9643    \n",
       "as.factor(hour)4             1.879e-02  2.483e-02   0.757   0.4492    \n",
       "as.factor(hour)5             1.843e-01  2.497e-02   7.383 1.61e-13 ***\n",
       "as.factor(hour)6             9.892e-01  2.631e-02  37.593  < 2e-16 ***\n",
       "as.factor(hour)7             2.587e+00  2.635e-02  98.183  < 2e-16 ***\n",
       "as.factor(hour)8             4.331e+00  2.487e-02 174.115  < 2e-16 ***\n",
       "as.factor(hour)9             4.928e+00  2.486e-02 198.203  < 2e-16 ***\n",
       "as.factor(hour)10            5.233e+00  2.487e-02 210.423  < 2e-16 ***\n",
       "as.factor(hour)11            5.361e+00  2.486e-02 215.659  < 2e-16 ***\n",
       "as.factor(hour)12            5.383e+00  2.485e-02 216.610  < 2e-16 ***\n",
       "as.factor(hour)13            5.325e+00  2.485e-02 214.326  < 2e-16 ***\n",
       "as.factor(hour)14            5.186e+00  2.485e-02 208.731  < 2e-16 ***\n",
       "as.factor(hour)15            4.894e+00  2.485e-02 196.959  < 2e-16 ***\n",
       "as.factor(hour)16            4.340e+00  2.486e-02 174.587  < 2e-16 ***\n",
       "as.factor(hour)17            2.201e+00  2.767e-02  79.562  < 2e-16 ***\n",
       "as.factor(hour)18            8.647e-01  2.645e-02  32.696  < 2e-16 ***\n",
       "as.factor(hour)19            4.185e-01  2.488e-02  16.821  < 2e-16 ***\n",
       "as.factor(hour)20            1.659e-02  2.483e-02   0.668   0.5040    \n",
       "as.factor(hour)21            1.071e-02  2.483e-02   0.432   0.6661    \n",
       "as.factor(hour)22           -2.196e-04  2.483e-02  -0.009   0.9929    \n",
       "as.factor(hour)23           -1.186e-03  2.483e-02  -0.048   0.9619    \n",
       "fltr1:fltr2:fltr3:fltr4      2.098e+00  2.820e-02  74.385  < 2e-16 ***\n",
       "fltr5:fltr6:fltr7:fltr8      1.519e+00  2.479e-02  61.270  < 2e-16 ***\n",
       "fltr9:fltr10:fltr11:fltr12  -1.307e+00  2.370e-02 -55.142  < 2e-16 ***\n",
       "fltr13:fltr14:fltr15:fltr16  1.378e+00  4.593e-02  30.010  < 2e-16 ***\n",
       "fltr17:fltr18:fltr19:fltr20  1.375e+00  1.430e-01   9.620  < 2e-16 ***\n",
       "---\n",
       "Signif. codes:  0 '***' 0.001 '**' 0.01 '*' 0.05 '.' 0.1 ' ' 1\n",
       "\n",
       "Residual standard error: 0.4922 on 18817 degrees of freedom\n",
       "Multiple R-squared:  0.9568,\tAdjusted R-squared:  0.9567 \n",
       "F-statistic:  9063 on 46 and 18817 DF,  p-value: < 2.2e-16\n"
      ]
     },
     "metadata": {},
     "output_type": "display_data"
    }
   ],
   "source": [
    "lm_model6 <- lm(production~trnd+w_day+mon+as.factor(hour)+\n",
    "                fltr1:fltr2:fltr3:fltr4+\n",
    "                fltr5:fltr6:fltr7:fltr8+\n",
    "                fltr9:fltr10:fltr11:fltr12+\n",
    "                fltr13:fltr14:fltr15:fltr16+\n",
    "                fltr17:fltr18:fltr19:fltr20\n",
    "                ,train_dt)\n",
    "summary(lm_model6)"
   ]
  },
  {
   "cell_type": "code",
   "execution_count": 58,
   "id": "c7c7af12",
   "metadata": {},
   "outputs": [
    {
     "data": {
      "text/html": [
       "<table class=\"dataframe\">\n",
       "<caption>A data.frame: 1 × 10</caption>\n",
       "<thead>\n",
       "\t<tr><th scope=col>n</th><th scope=col>mean</th><th scope=col>sd</th><th scope=col>CV</th><th scope=col>FBias</th><th scope=col>MAPE</th><th scope=col>RMSE</th><th scope=col>MAD</th><th scope=col>MADP</th><th scope=col>WMAPE</th></tr>\n",
       "\t<tr><th scope=col>&lt;int&gt;</th><th scope=col>&lt;dbl&gt;</th><th scope=col>&lt;dbl&gt;</th><th scope=col>&lt;dbl&gt;</th><th scope=col>&lt;dbl&gt;</th><th scope=col>&lt;dbl&gt;</th><th scope=col>&lt;dbl&gt;</th><th scope=col>&lt;dbl&gt;</th><th scope=col>&lt;dbl&gt;</th><th scope=col>&lt;dbl&gt;</th></tr>\n",
       "</thead>\n",
       "<tbody>\n",
       "\t<tr><td>24</td><td>2.124579</td><td>2.475094</td><td>1.164981</td><td>-0.05636799</td><td>Inf</td><td>0.3385884</td><td>0.240189</td><td>0.1130525</td><td>0.1130525</td></tr>\n",
       "</tbody>\n",
       "</table>\n"
      ],
      "text/latex": [
       "A data.frame: 1 × 10\n",
       "\\begin{tabular}{llllllllll}\n",
       " n & mean & sd & CV & FBias & MAPE & RMSE & MAD & MADP & WMAPE\\\\\n",
       " <int> & <dbl> & <dbl> & <dbl> & <dbl> & <dbl> & <dbl> & <dbl> & <dbl> & <dbl>\\\\\n",
       "\\hline\n",
       "\t 24 & 2.124579 & 2.475094 & 1.164981 & -0.05636799 & Inf & 0.3385884 & 0.240189 & 0.1130525 & 0.1130525\\\\\n",
       "\\end{tabular}\n"
      ],
      "text/markdown": [
       "\n",
       "A data.frame: 1 × 10\n",
       "\n",
       "| n &lt;int&gt; | mean &lt;dbl&gt; | sd &lt;dbl&gt; | CV &lt;dbl&gt; | FBias &lt;dbl&gt; | MAPE &lt;dbl&gt; | RMSE &lt;dbl&gt; | MAD &lt;dbl&gt; | MADP &lt;dbl&gt; | WMAPE &lt;dbl&gt; |\n",
       "|---|---|---|---|---|---|---|---|---|---|\n",
       "| 24 | 2.124579 | 2.475094 | 1.164981 | -0.05636799 | Inf | 0.3385884 | 0.240189 | 0.1130525 | 0.1130525 |\n",
       "\n"
      ],
      "text/plain": [
       "  n  mean     sd       CV       FBias       MAPE RMSE      MAD      MADP     \n",
       "1 24 2.124579 2.475094 1.164981 -0.05636799 Inf  0.3385884 0.240189 0.1130525\n",
       "  WMAPE    \n",
       "1 0.1130525"
      ]
     },
     "metadata": {},
     "output_type": "display_data"
    }
   ],
   "source": [
    "test_pred6 <- predict(lm_model6,test_dt)\n",
    "accu(test_dt$production,test_pred6)"
   ]
  },
  {
   "cell_type": "markdown",
   "id": "b927743e",
   "metadata": {},
   "source": [
    "The EBLR method is applied to the model for 5 iterations. While the base regression model has R-squared value of 0.9285 and has WMAPE error rate of 0.1433, the final model has 0.9567 R-squared value and WMAPE error rate of 0.1130 on the test data. This means that addition of new features which is from decision trees applied on the residuals, improved the model."
   ]
  },
  {
   "cell_type": "code",
   "execution_count": 59,
   "id": "e5c20c3c",
   "metadata": {
    "scrolled": true
   },
   "outputs": [
    {
     "data": {
      "text/plain": [
       "\n",
       "Call:\n",
       "lm(formula = production ~ trnd + w_day + mon + as.factor(hour) + \n",
       "    lag_48 + fltr1:fltr2:fltr3:fltr4 + fltr5:fltr6:fltr7:fltr8 + \n",
       "    fltr9:fltr10:fltr11:fltr12 + fltr13:fltr14:fltr15:fltr16 + \n",
       "    fltr17:fltr18:fltr19:fltr20, data = train_dt)\n",
       "\n",
       "Residuals:\n",
       "     Min       1Q   Median       3Q      Max \n",
       "-2.61983 -0.09915  0.00101  0.13012  2.62905 \n",
       "\n",
       "Coefficients:\n",
       "                              Estimate Std. Error t value Pr(>|t|)    \n",
       "(Intercept)                  3.112e-02  1.897e-02   1.641 0.100880    \n",
       "trnd                         9.115e-07  5.346e-07   1.705 0.088175 .  \n",
       "w_dayCum                    -2.565e-03  1.024e-02  -0.251 0.802124    \n",
       "w_dayÇar                     3.003e-03  1.022e-02   0.294 0.768815    \n",
       "w_dayPaz                     4.271e-02  1.024e-02   4.172 3.04e-05 ***\n",
       "w_dayPer                    -3.711e-03  1.024e-02  -0.362 0.717026    \n",
       "w_dayPzt                     5.217e-03  1.024e-02   0.509 0.610484    \n",
       "w_daySal                     7.682e-03  1.022e-02   0.752 0.452324    \n",
       "monAra                      -2.011e-01  1.490e-02 -13.498  < 2e-16 ***\n",
       "monEki                      -4.954e-02  1.302e-02  -3.807 0.000141 ***\n",
       "monEyl                       4.643e-03  1.312e-02   0.354 0.723382    \n",
       "monHaz                       5.502e-02  1.393e-02   3.950 7.85e-05 ***\n",
       "monKas                      -1.582e-01  1.464e-02 -10.807  < 2e-16 ***\n",
       "monMar                      -7.876e-02  1.410e-02  -5.587 2.34e-08 ***\n",
       "monMay                       5.579e-02  1.381e-02   4.039 5.40e-05 ***\n",
       "monNis                      -2.357e-02  1.402e-02  -1.682 0.092579 .  \n",
       "monOca                      -1.760e-01  1.468e-02 -11.994  < 2e-16 ***\n",
       "monŞub                      -4.321e-02  1.469e-02  -2.942 0.003264 ** \n",
       "monTem                       5.969e-02  1.379e-02   4.328 1.51e-05 ***\n",
       "as.factor(hour)1            -4.283e-04  1.892e-02  -0.023 0.981941    \n",
       "as.factor(hour)2            -4.807e-04  1.892e-02  -0.025 0.979735    \n",
       "as.factor(hour)3             4.506e-04  1.892e-02   0.024 0.981004    \n",
       "as.factor(hour)4             8.096e-03  1.892e-02   0.428 0.668761    \n",
       "as.factor(hour)5             7.434e-02  1.905e-02   3.901 9.60e-05 ***\n",
       "as.factor(hour)6             3.991e-01  2.069e-02  19.294  < 2e-16 ***\n",
       "as.factor(hour)7             1.056e+00  2.400e-02  44.003  < 2e-16 ***\n",
       "as.factor(hour)8             1.772e+00  2.901e-02  61.063  < 2e-16 ***\n",
       "as.factor(hour)9             2.011e+00  3.140e-02  64.026  < 2e-16 ***\n",
       "as.factor(hour)10            2.136e+00  3.265e-02  65.407  < 2e-16 ***\n",
       "as.factor(hour)11            2.185e+00  3.320e-02  65.804  < 2e-16 ***\n",
       "as.factor(hour)12            2.191e+00  3.331e-02  65.782  < 2e-16 ***\n",
       "as.factor(hour)13            2.166e+00  3.308e-02  65.469  < 2e-16 ***\n",
       "as.factor(hour)14            2.109e+00  3.250e-02  64.904  < 2e-16 ***\n",
       "as.factor(hour)15            1.992e+00  3.130e-02  63.639  < 2e-16 ***\n",
       "as.factor(hour)16            1.770e+00  2.908e-02  60.858  < 2e-16 ***\n",
       "as.factor(hour)17            8.739e-01  2.397e-02  36.458  < 2e-16 ***\n",
       "as.factor(hour)18            3.242e-01  2.069e-02  15.673  < 2e-16 ***\n",
       "as.factor(hour)19            1.633e-01  1.909e-02   8.552  < 2e-16 ***\n",
       "as.factor(hour)20            7.066e-03  1.892e-02   0.373 0.708829    \n",
       "as.factor(hour)21            5.360e-03  1.892e-02   0.283 0.776975    \n",
       "as.factor(hour)22            9.538e-04  1.892e-02   0.050 0.959801    \n",
       "as.factor(hour)23            5.054e-05  1.892e-02   0.003 0.997869    \n",
       "lag_48                       5.966e-01  5.120e-03 116.507  < 2e-16 ***\n",
       "fltr1:fltr2:fltr3:fltr4      9.136e-01  2.378e-02  38.417  < 2e-16 ***\n",
       "fltr5:fltr6:fltr7:fltr8      6.396e-01  2.035e-02  31.429  < 2e-16 ***\n",
       "fltr9:fltr10:fltr11:fltr12  -9.314e-01  1.835e-02 -50.758  < 2e-16 ***\n",
       "fltr13:fltr14:fltr15:fltr16  5.951e-01  3.565e-02  16.693  < 2e-16 ***\n",
       "fltr17:fltr18:fltr19:fltr20  1.086e+00  1.090e-01   9.966  < 2e-16 ***\n",
       "---\n",
       "Signif. codes:  0 '***' 0.001 '**' 0.01 '*' 0.05 '.' 0.1 ' ' 1\n",
       "\n",
       "Residual standard error: 0.3751 on 18816 degrees of freedom\n",
       "Multiple R-squared:  0.9749,\tAdjusted R-squared:  0.9748 \n",
       "F-statistic: 1.556e+04 on 47 and 18816 DF,  p-value: < 2.2e-16\n"
      ]
     },
     "metadata": {},
     "output_type": "display_data"
    }
   ],
   "source": [
    "lm_model_son <- lm(production~trnd+w_day+mon+as.factor(hour)+lag_48+\n",
    "                fltr1:fltr2:fltr3:fltr4+\n",
    "                fltr5:fltr6:fltr7:fltr8+\n",
    "                fltr9:fltr10:fltr11:fltr12+\n",
    "                fltr13:fltr14:fltr15:fltr16+\n",
    "                fltr17:fltr18:fltr19:fltr20   \n",
    "                ,train_dt)\n",
    "summary(lm_model_son)"
   ]
  },
  {
   "cell_type": "code",
   "execution_count": 60,
   "id": "f9423c7b",
   "metadata": {},
   "outputs": [
    {
     "data": {
      "text/html": [
       "<table class=\"dataframe\">\n",
       "<caption>A data.frame: 1 × 10</caption>\n",
       "<thead>\n",
       "\t<tr><th scope=col>n</th><th scope=col>mean</th><th scope=col>sd</th><th scope=col>CV</th><th scope=col>FBias</th><th scope=col>MAPE</th><th scope=col>RMSE</th><th scope=col>MAD</th><th scope=col>MADP</th><th scope=col>WMAPE</th></tr>\n",
       "\t<tr><th scope=col>&lt;int&gt;</th><th scope=col>&lt;dbl&gt;</th><th scope=col>&lt;dbl&gt;</th><th scope=col>&lt;dbl&gt;</th><th scope=col>&lt;dbl&gt;</th><th scope=col>&lt;dbl&gt;</th><th scope=col>&lt;dbl&gt;</th><th scope=col>&lt;dbl&gt;</th><th scope=col>&lt;dbl&gt;</th><th scope=col>&lt;dbl&gt;</th></tr>\n",
       "</thead>\n",
       "<tbody>\n",
       "\t<tr><td>24</td><td>2.124579</td><td>2.475094</td><td>1.164981</td><td>0.04628246</td><td>Inf</td><td>0.2309529</td><td>0.1507577</td><td>0.07095887</td><td>0.07095887</td></tr>\n",
       "</tbody>\n",
       "</table>\n"
      ],
      "text/latex": [
       "A data.frame: 1 × 10\n",
       "\\begin{tabular}{llllllllll}\n",
       " n & mean & sd & CV & FBias & MAPE & RMSE & MAD & MADP & WMAPE\\\\\n",
       " <int> & <dbl> & <dbl> & <dbl> & <dbl> & <dbl> & <dbl> & <dbl> & <dbl> & <dbl>\\\\\n",
       "\\hline\n",
       "\t 24 & 2.124579 & 2.475094 & 1.164981 & 0.04628246 & Inf & 0.2309529 & 0.1507577 & 0.07095887 & 0.07095887\\\\\n",
       "\\end{tabular}\n"
      ],
      "text/markdown": [
       "\n",
       "A data.frame: 1 × 10\n",
       "\n",
       "| n &lt;int&gt; | mean &lt;dbl&gt; | sd &lt;dbl&gt; | CV &lt;dbl&gt; | FBias &lt;dbl&gt; | MAPE &lt;dbl&gt; | RMSE &lt;dbl&gt; | MAD &lt;dbl&gt; | MADP &lt;dbl&gt; | WMAPE &lt;dbl&gt; |\n",
       "|---|---|---|---|---|---|---|---|---|---|\n",
       "| 24 | 2.124579 | 2.475094 | 1.164981 | 0.04628246 | Inf | 0.2309529 | 0.1507577 | 0.07095887 | 0.07095887 |\n",
       "\n"
      ],
      "text/plain": [
       "  n  mean     sd       CV       FBias      MAPE RMSE      MAD       MADP      \n",
       "1 24 2.124579 2.475094 1.164981 0.04628246 Inf  0.2309529 0.1507577 0.07095887\n",
       "  WMAPE     \n",
       "1 0.07095887"
      ]
     },
     "metadata": {},
     "output_type": "display_data"
    }
   ],
   "source": [
    "test_pred_son <- predict(lm_model_son,test_dt)\n",
    "accu(test_dt$production,test_pred_son)"
   ]
  },
  {
   "cell_type": "markdown",
   "id": "cba655dc",
   "metadata": {},
   "source": [
    "To make a final improvement, lagged value of production added to the final model. 48th lag improved the R-squared to 0.9748 and WMAPE error rate on test to 0.0709."
   ]
  },
  {
   "cell_type": "markdown",
   "id": "b0c6a271",
   "metadata": {},
   "source": [
    "## Forecast and Conclusion"
   ]
  },
  {
   "cell_type": "markdown",
   "id": "6605781f",
   "metadata": {},
   "source": [
    "To forecast, training data is updated every day after 10th of october, then a new model constructed with the new training data and forecasts are made for the 2 days after."
   ]
  },
  {
   "cell_type": "code",
   "execution_count": 66,
   "id": "afc7aa48",
   "metadata": {
    "scrolled": true
   },
   "outputs": [],
   "source": [
    "train_end <- nrow(dt[date<=\"2021-10-30\"])\n",
    "test_dates <- unique(dt$date[dt$date<=\"2021-12-25\" & dt$date>=\"2021-11-01\"])\n",
    "preds <- numeric(0)\n",
    "for(d in test_dates ){\n",
    "    train_tmp <- dt[1:train_end,]\n",
    "    model <- lm(production~trnd+w_day+mon+as.factor(hour)+lag_48+\n",
    "                fltr1:fltr2:fltr3:fltr4+\n",
    "                fltr5:fltr6:fltr7:fltr8+\n",
    "                fltr9:fltr10:fltr11:fltr12+\n",
    "                fltr13:fltr14:fltr15:fltr16+\n",
    "                fltr17:fltr18:fltr19:fltr20   \n",
    "                ,train_tmp)\n",
    "    p <- predict(model,newdata=dt[date==d,])\n",
    "    preds <- c(preds,p)\n",
    "    train_end <- train_end + 24\n",
    "}"
   ]
  },
  {
   "cell_type": "code",
   "execution_count": 76,
   "id": "556c534c",
   "metadata": {},
   "outputs": [
    {
     "data": {
      "text/html": [
       "<table class=\"dataframe\">\n",
       "<caption>A data.frame: 1 × 10</caption>\n",
       "<thead>\n",
       "\t<tr><th scope=col>n</th><th scope=col>mean</th><th scope=col>sd</th><th scope=col>CV</th><th scope=col>FBias</th><th scope=col>MAPE</th><th scope=col>RMSE</th><th scope=col>MAD</th><th scope=col>MADP</th><th scope=col>WMAPE</th></tr>\n",
       "\t<tr><th scope=col>&lt;int&gt;</th><th scope=col>&lt;dbl&gt;</th><th scope=col>&lt;dbl&gt;</th><th scope=col>&lt;dbl&gt;</th><th scope=col>&lt;dbl&gt;</th><th scope=col>&lt;dbl&gt;</th><th scope=col>&lt;dbl&gt;</th><th scope=col>&lt;dbl&gt;</th><th scope=col>&lt;dbl&gt;</th><th scope=col>&lt;dbl&gt;</th></tr>\n",
       "</thead>\n",
       "<tbody>\n",
       "\t<tr><td>1296</td><td>45.46808</td><td>79.29</td><td>1.743861</td><td>-0.01978126</td><td>Inf</td><td>51.70043</td><td>23.52425</td><td>0.5173795</td><td>0.5173795</td></tr>\n",
       "</tbody>\n",
       "</table>\n"
      ],
      "text/latex": [
       "A data.frame: 1 × 10\n",
       "\\begin{tabular}{llllllllll}\n",
       " n & mean & sd & CV & FBias & MAPE & RMSE & MAD & MADP & WMAPE\\\\\n",
       " <int> & <dbl> & <dbl> & <dbl> & <dbl> & <dbl> & <dbl> & <dbl> & <dbl> & <dbl>\\\\\n",
       "\\hline\n",
       "\t 1296 & 45.46808 & 79.29 & 1.743861 & -0.01978126 & Inf & 51.70043 & 23.52425 & 0.5173795 & 0.5173795\\\\\n",
       "\\end{tabular}\n"
      ],
      "text/markdown": [
       "\n",
       "A data.frame: 1 × 10\n",
       "\n",
       "| n &lt;int&gt; | mean &lt;dbl&gt; | sd &lt;dbl&gt; | CV &lt;dbl&gt; | FBias &lt;dbl&gt; | MAPE &lt;dbl&gt; | RMSE &lt;dbl&gt; | MAD &lt;dbl&gt; | MADP &lt;dbl&gt; | WMAPE &lt;dbl&gt; |\n",
       "|---|---|---|---|---|---|---|---|---|---|\n",
       "| 1296 | 45.46808 | 79.29 | 1.743861 | -0.01978126 | Inf | 51.70043 | 23.52425 | 0.5173795 | 0.5173795 |\n",
       "\n"
      ],
      "text/plain": [
       "  n    mean     sd    CV       FBias       MAPE RMSE     MAD      MADP     \n",
       "1 1296 45.46808 79.29 1.743861 -0.01978126 Inf  51.70043 23.52425 0.5173795\n",
       "  WMAPE    \n",
       "1 0.5173795"
      ]
     },
     "metadata": {},
     "output_type": "display_data"
    },
    {
     "data": {
      "text/html": [
       "<table class=\"dataframe\">\n",
       "<caption>A data.frame: 1 × 10</caption>\n",
       "<thead>\n",
       "\t<tr><th scope=col>n</th><th scope=col>mean</th><th scope=col>sd</th><th scope=col>CV</th><th scope=col>FBias</th><th scope=col>MAPE</th><th scope=col>RMSE</th><th scope=col>MAD</th><th scope=col>MADP</th><th scope=col>WMAPE</th></tr>\n",
       "\t<tr><th scope=col>&lt;int&gt;</th><th scope=col>&lt;dbl&gt;</th><th scope=col>&lt;dbl&gt;</th><th scope=col>&lt;dbl&gt;</th><th scope=col>&lt;dbl&gt;</th><th scope=col>&lt;dbl&gt;</th><th scope=col>&lt;dbl&gt;</th><th scope=col>&lt;dbl&gt;</th><th scope=col>&lt;dbl&gt;</th><th scope=col>&lt;dbl&gt;</th></tr>\n",
       "</thead>\n",
       "<tbody>\n",
       "\t<tr><td>1296</td><td>45.46808</td><td>79.29</td><td>1.743861</td><td>0.07300363</td><td>Inf</td><td>41.83656</td><td>19.50246</td><td>0.4289263</td><td>0.4289263</td></tr>\n",
       "</tbody>\n",
       "</table>\n"
      ],
      "text/latex": [
       "A data.frame: 1 × 10\n",
       "\\begin{tabular}{llllllllll}\n",
       " n & mean & sd & CV & FBias & MAPE & RMSE & MAD & MADP & WMAPE\\\\\n",
       " <int> & <dbl> & <dbl> & <dbl> & <dbl> & <dbl> & <dbl> & <dbl> & <dbl> & <dbl>\\\\\n",
       "\\hline\n",
       "\t 1296 & 45.46808 & 79.29 & 1.743861 & 0.07300363 & Inf & 41.83656 & 19.50246 & 0.4289263 & 0.4289263\\\\\n",
       "\\end{tabular}\n"
      ],
      "text/markdown": [
       "\n",
       "A data.frame: 1 × 10\n",
       "\n",
       "| n &lt;int&gt; | mean &lt;dbl&gt; | sd &lt;dbl&gt; | CV &lt;dbl&gt; | FBias &lt;dbl&gt; | MAPE &lt;dbl&gt; | RMSE &lt;dbl&gt; | MAD &lt;dbl&gt; | MADP &lt;dbl&gt; | WMAPE &lt;dbl&gt; |\n",
       "|---|---|---|---|---|---|---|---|---|---|\n",
       "| 1296 | 45.46808 | 79.29 | 1.743861 | 0.07300363 | Inf | 41.83656 | 19.50246 | 0.4289263 | 0.4289263 |\n",
       "\n"
      ],
      "text/plain": [
       "  n    mean     sd    CV       FBias      MAPE RMSE     MAD      MADP     \n",
       "1 1296 45.46808 79.29 1.743861 0.07300363 Inf  41.83656 19.50246 0.4289263\n",
       "  WMAPE    \n",
       "1 0.4289263"
      ]
     },
     "metadata": {},
     "output_type": "display_data"
    }
   ],
   "source": [
    "base_sc <- exp(dt[date %in% test_dates,lag_48])\n",
    "accu(real,base_sc)\n",
    "preds_trns <- exp(preds)\n",
    "real <- exp(dt[date %in% test_dates,production])-1\n",
    "accu(real,preds_trns)"
   ]
  },
  {
   "cell_type": "markdown",
   "id": "fabac67d",
   "metadata": {},
   "source": [
    "Predictions are transformed to real production values by taking their exponentials. The predictions has WMAPE value of 0.4289 over the test period near 2 months. Naive forecast has the WMAPE error rate of 0.5173 which means that EBLR is more than 20% percent better than the base line forecast. Learning from the previous error is significantly improves linear regression model."
   ]
  }
 ],
 "metadata": {
  "kernelspec": {
   "display_name": "R",
   "language": "R",
   "name": "ir"
  },
  "language_info": {
   "codemirror_mode": "r",
   "file_extension": ".r",
   "mimetype": "text/x-r-source",
   "name": "R",
   "pygments_lexer": "r",
   "version": "4.1.2"
  }
 },
 "nbformat": 4,
 "nbformat_minor": 5
}
