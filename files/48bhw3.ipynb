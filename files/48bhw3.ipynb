{
 "cells": [
  {
   "cell_type": "code",
   "execution_count": 3,
   "id": "0f98f1cf",
   "metadata": {
    "scrolled": true
   },
   "outputs": [],
   "source": [
    "library(data.table)\n",
    "library(lubridate)\n",
    "library(rpart)\n",
    "library(partykit)\n",
    "library(ggplot2)\n",
    "library(Metrics)\n",
    "library(TSrepr)\n",
    "library(TunePareto)\n",
    "library(caret)\n",
    "library(forecast)\n",
    "library(tidyr)\n",
    "library(rattle)\n",
    "options(repr.plot.width=10, repr.plot.height=10)"
   ]
  },
  {
   "cell_type": "code",
   "execution_count": 2,
   "id": "97da5deb",
   "metadata": {},
   "outputs": [],
   "source": [
    "accu=function(actual,forecast){\n",
    "  n=length(actual)\n",
    "  error=actual-forecast\n",
    "  mean=mean(actual)\n",
    "  sd=sd(actual)\n",
    "  CV=sd/mean\n",
    "  FBias=sum(error)/sum(actual)\n",
    "  MAPE=sum(abs(error/actual+0.0000001))/n\n",
    "  RMSE=sqrt(sum(error^2)/n)\n",
    "  MAD=sum(abs(error))/n\n",
    "  MADP=sum(abs(error))/sum(abs(actual))\n",
    "  WMAPE=MAD/mean\n",
    "  l=data.frame(n,mean,sd,CV,FBias,MAPE,RMSE,MAD,MADP,WMAPE)\n",
    "  return(l)\n",
    "}"
   ]
  },
  {
   "cell_type": "markdown",
   "id": "da602719",
   "metadata": {},
   "source": [
    "## Summary"
   ]
  },
  {
   "cell_type": "markdown",
   "id": "ef9f593a",
   "metadata": {},
   "source": [
    "The aim of this assignment is forecasting hourly total solar power plant production values for multiple small solar power plants from the given data. The data consist of hourly production values and 175 features which are temperature, radiation flux, humidty, total cloud cover (4 different layers) information of 25 different locations. Scenaria is forecasting the day after (d+1) with the available yesterday values (d-1). Explainable Boosted Liner Regression (EBLR) is used to forecast production values. Before constructing the models, missing values are handled. Since there is 175 additional features, principal component analysis is applied to reduce dimensionality and prevent multicollinearity. Then, a base model which is simpe linear regression is constructed. Finally, regression model is improved with decision trees which are learning from the errors form the previous models. In conclusion, forecasts are made according to forecasting scenario and compared with a naive forecast approach which is applying last available data for future values."
   ]
  },
  {
   "cell_type": "markdown",
   "id": "fd8d4bb2",
   "metadata": {},
   "source": [
    "## Approach"
   ]
  },
  {
   "cell_type": "markdown",
   "id": "6d9ba628",
   "metadata": {},
   "source": [
    "### Handling Missing Values"
   ]
  },
  {
   "cell_type": "code",
   "execution_count": 63,
   "id": "f69b4c47",
   "metadata": {},
   "outputs": [],
   "source": [
    "dt <- fread(\"C:/Users/kaan9/OneDrive/Masaüstü/production_with_weather_data.csv\")"
   ]
  },
  {
   "cell_type": "code",
   "execution_count": 64,
   "id": "4c9f4752",
   "metadata": {
    "scrolled": false
   },
   "outputs": [
    {
     "data": {
      "text/html": [
       "<table class=\"dataframe\">\n",
       "<caption>A data.table: 7 × 178</caption>\n",
       "<thead>\n",
       "\t<tr><th scope=col>date</th><th scope=col>hour</th><th scope=col>production</th><th scope=col>DSWRF_surface_38_35</th><th scope=col>DSWRF_surface_38_35.25</th><th scope=col>DSWRF_surface_38_35.5</th><th scope=col>DSWRF_surface_38_35.75</th><th scope=col>DSWRF_surface_38_36</th><th scope=col>DSWRF_surface_38.25_35</th><th scope=col>DSWRF_surface_38.25_35.25</th><th scope=col>⋯</th><th scope=col>TMP_2.m.above.ground_38.75_35</th><th scope=col>TMP_2.m.above.ground_38.75_35.25</th><th scope=col>TMP_2.m.above.ground_38.75_35.5</th><th scope=col>TMP_2.m.above.ground_38.75_35.75</th><th scope=col>TMP_2.m.above.ground_38.75_36</th><th scope=col>TMP_2.m.above.ground_39_35</th><th scope=col>TMP_2.m.above.ground_39_35.25</th><th scope=col>TMP_2.m.above.ground_39_35.5</th><th scope=col>TMP_2.m.above.ground_39_35.75</th><th scope=col>TMP_2.m.above.ground_39_36</th></tr>\n",
       "\t<tr><th scope=col>&lt;date&gt;</th><th scope=col>&lt;int&gt;</th><th scope=col>&lt;dbl&gt;</th><th scope=col>&lt;dbl&gt;</th><th scope=col>&lt;dbl&gt;</th><th scope=col>&lt;dbl&gt;</th><th scope=col>&lt;dbl&gt;</th><th scope=col>&lt;dbl&gt;</th><th scope=col>&lt;dbl&gt;</th><th scope=col>&lt;dbl&gt;</th><th scope=col>⋯</th><th scope=col>&lt;dbl&gt;</th><th scope=col>&lt;dbl&gt;</th><th scope=col>&lt;dbl&gt;</th><th scope=col>&lt;dbl&gt;</th><th scope=col>&lt;dbl&gt;</th><th scope=col>&lt;dbl&gt;</th><th scope=col>&lt;dbl&gt;</th><th scope=col>&lt;dbl&gt;</th><th scope=col>&lt;dbl&gt;</th><th scope=col>&lt;dbl&gt;</th></tr>\n",
       "</thead>\n",
       "<tbody>\n",
       "\t<tr><td>2021-06-09</td><td>19</td><td>  7.901200</td><td>    NA</td><td>    NA</td><td>    NA</td><td>    NA</td><td>   NA</td><td>    NA</td><td>    NA</td><td>⋯</td><td>     NA</td><td>     NA</td><td>     NA</td><td>     NA</td><td>     NA</td><td>     NA</td><td>     NA</td><td>     NA</td><td>     NA</td><td>     NA</td></tr>\n",
       "\t<tr><td>2021-11-26</td><td>14</td><td>189.840300</td><td>    NA</td><td>    NA</td><td>    NA</td><td>    NA</td><td>   NA</td><td>    NA</td><td>    NA</td><td>⋯</td><td>284.835</td><td>284.405</td><td>283.225</td><td>282.735</td><td>282.425</td><td>283.215</td><td>283.015</td><td>282.375</td><td>282.495</td><td>282.715</td></tr>\n",
       "\t<tr><td>2021-11-26</td><td>16</td><td> 35.422200</td><td>272.98</td><td>269.88</td><td>235.88</td><td>183.32</td><td>79.18</td><td>260.46</td><td>251.68</td><td>⋯</td><td>285.017</td><td>284.447</td><td>283.517</td><td>282.757</td><td>282.217</td><td>283.637</td><td>283.197</td><td>282.347</td><td>282.457</td><td>282.957</td></tr>\n",
       "\t<tr><td>2021-12-01</td><td> 7</td><td>  0.260118</td><td>  0.00</td><td>  0.00</td><td>  0.00</td><td>  0.00</td><td> 0.00</td><td>  0.00</td><td>  0.00</td><td>⋯</td><td>     NA</td><td>     NA</td><td>     NA</td><td>     NA</td><td>     NA</td><td>     NA</td><td>     NA</td><td>     NA</td><td>     NA</td><td>     NA</td></tr>\n",
       "\t<tr><td>2021-12-13</td><td> 0</td><td>  0.000000</td><td>  0.00</td><td>  0.00</td><td>  0.00</td><td>  0.00</td><td> 0.00</td><td>  0.00</td><td>  0.00</td><td>⋯</td><td>     NA</td><td>     NA</td><td>     NA</td><td>     NA</td><td>     NA</td><td>     NA</td><td>     NA</td><td>     NA</td><td>     NA</td><td>     NA</td></tr>\n",
       "\t<tr><td>2021-12-22</td><td>18</td><td>  0.000000</td><td>    NA</td><td>    NA</td><td>    NA</td><td>    NA</td><td>   NA</td><td>    NA</td><td>    NA</td><td>⋯</td><td>269.097</td><td>269.567</td><td>268.067</td><td>263.837</td><td>264.207</td><td>268.907</td><td>269.037</td><td>268.077</td><td>267.567</td><td>267.297</td></tr>\n",
       "\t<tr><td>2021-12-25</td><td>16</td><td> 46.846580</td><td>    NA</td><td>    NA</td><td>    NA</td><td>    NA</td><td>   NA</td><td>    NA</td><td>    NA</td><td>⋯</td><td>275.997</td><td>275.377</td><td>275.497</td><td>271.187</td><td>269.877</td><td>274.217</td><td>274.307</td><td>273.747</td><td>273.017</td><td>273.247</td></tr>\n",
       "</tbody>\n",
       "</table>\n"
      ],
      "text/latex": [
       "A data.table: 7 × 178\n",
       "\\begin{tabular}{lllllllllllllllllllll}\n",
       " date & hour & production & DSWRF\\_surface\\_38\\_35 & DSWRF\\_surface\\_38\\_35.25 & DSWRF\\_surface\\_38\\_35.5 & DSWRF\\_surface\\_38\\_35.75 & DSWRF\\_surface\\_38\\_36 & DSWRF\\_surface\\_38.25\\_35 & DSWRF\\_surface\\_38.25\\_35.25 & ⋯ & TMP\\_2.m.above.ground\\_38.75\\_35 & TMP\\_2.m.above.ground\\_38.75\\_35.25 & TMP\\_2.m.above.ground\\_38.75\\_35.5 & TMP\\_2.m.above.ground\\_38.75\\_35.75 & TMP\\_2.m.above.ground\\_38.75\\_36 & TMP\\_2.m.above.ground\\_39\\_35 & TMP\\_2.m.above.ground\\_39\\_35.25 & TMP\\_2.m.above.ground\\_39\\_35.5 & TMP\\_2.m.above.ground\\_39\\_35.75 & TMP\\_2.m.above.ground\\_39\\_36\\\\\n",
       " <date> & <int> & <dbl> & <dbl> & <dbl> & <dbl> & <dbl> & <dbl> & <dbl> & <dbl> & ⋯ & <dbl> & <dbl> & <dbl> & <dbl> & <dbl> & <dbl> & <dbl> & <dbl> & <dbl> & <dbl>\\\\\n",
       "\\hline\n",
       "\t 2021-06-09 & 19 &   7.901200 &     NA &     NA &     NA &     NA &    NA &     NA &     NA & ⋯ &      NA &      NA &      NA &      NA &      NA &      NA &      NA &      NA &      NA &      NA\\\\\n",
       "\t 2021-11-26 & 14 & 189.840300 &     NA &     NA &     NA &     NA &    NA &     NA &     NA & ⋯ & 284.835 & 284.405 & 283.225 & 282.735 & 282.425 & 283.215 & 283.015 & 282.375 & 282.495 & 282.715\\\\\n",
       "\t 2021-11-26 & 16 &  35.422200 & 272.98 & 269.88 & 235.88 & 183.32 & 79.18 & 260.46 & 251.68 & ⋯ & 285.017 & 284.447 & 283.517 & 282.757 & 282.217 & 283.637 & 283.197 & 282.347 & 282.457 & 282.957\\\\\n",
       "\t 2021-12-01 &  7 &   0.260118 &   0.00 &   0.00 &   0.00 &   0.00 &  0.00 &   0.00 &   0.00 & ⋯ &      NA &      NA &      NA &      NA &      NA &      NA &      NA &      NA &      NA &      NA\\\\\n",
       "\t 2021-12-13 &  0 &   0.000000 &   0.00 &   0.00 &   0.00 &   0.00 &  0.00 &   0.00 &   0.00 & ⋯ &      NA &      NA &      NA &      NA &      NA &      NA &      NA &      NA &      NA &      NA\\\\\n",
       "\t 2021-12-22 & 18 &   0.000000 &     NA &     NA &     NA &     NA &    NA &     NA &     NA & ⋯ & 269.097 & 269.567 & 268.067 & 263.837 & 264.207 & 268.907 & 269.037 & 268.077 & 267.567 & 267.297\\\\\n",
       "\t 2021-12-25 & 16 &  46.846580 &     NA &     NA &     NA &     NA &    NA &     NA &     NA & ⋯ & 275.997 & 275.377 & 275.497 & 271.187 & 269.877 & 274.217 & 274.307 & 273.747 & 273.017 & 273.247\\\\\n",
       "\\end{tabular}\n"
      ],
      "text/markdown": [
       "\n",
       "A data.table: 7 × 178\n",
       "\n",
       "| date &lt;date&gt; | hour &lt;int&gt; | production &lt;dbl&gt; | DSWRF_surface_38_35 &lt;dbl&gt; | DSWRF_surface_38_35.25 &lt;dbl&gt; | DSWRF_surface_38_35.5 &lt;dbl&gt; | DSWRF_surface_38_35.75 &lt;dbl&gt; | DSWRF_surface_38_36 &lt;dbl&gt; | DSWRF_surface_38.25_35 &lt;dbl&gt; | DSWRF_surface_38.25_35.25 &lt;dbl&gt; | ⋯ ⋯ | TMP_2.m.above.ground_38.75_35 &lt;dbl&gt; | TMP_2.m.above.ground_38.75_35.25 &lt;dbl&gt; | TMP_2.m.above.ground_38.75_35.5 &lt;dbl&gt; | TMP_2.m.above.ground_38.75_35.75 &lt;dbl&gt; | TMP_2.m.above.ground_38.75_36 &lt;dbl&gt; | TMP_2.m.above.ground_39_35 &lt;dbl&gt; | TMP_2.m.above.ground_39_35.25 &lt;dbl&gt; | TMP_2.m.above.ground_39_35.5 &lt;dbl&gt; | TMP_2.m.above.ground_39_35.75 &lt;dbl&gt; | TMP_2.m.above.ground_39_36 &lt;dbl&gt; |\n",
       "|---|---|---|---|---|---|---|---|---|---|---|---|---|---|---|---|---|---|---|---|---|\n",
       "| 2021-06-09 | 19 |   7.901200 |     NA |     NA |     NA |     NA |    NA |     NA |     NA | ⋯ |      NA |      NA |      NA |      NA |      NA |      NA |      NA |      NA |      NA |      NA |\n",
       "| 2021-11-26 | 14 | 189.840300 |     NA |     NA |     NA |     NA |    NA |     NA |     NA | ⋯ | 284.835 | 284.405 | 283.225 | 282.735 | 282.425 | 283.215 | 283.015 | 282.375 | 282.495 | 282.715 |\n",
       "| 2021-11-26 | 16 |  35.422200 | 272.98 | 269.88 | 235.88 | 183.32 | 79.18 | 260.46 | 251.68 | ⋯ | 285.017 | 284.447 | 283.517 | 282.757 | 282.217 | 283.637 | 283.197 | 282.347 | 282.457 | 282.957 |\n",
       "| 2021-12-01 |  7 |   0.260118 |   0.00 |   0.00 |   0.00 |   0.00 |  0.00 |   0.00 |   0.00 | ⋯ |      NA |      NA |      NA |      NA |      NA |      NA |      NA |      NA |      NA |      NA |\n",
       "| 2021-12-13 |  0 |   0.000000 |   0.00 |   0.00 |   0.00 |   0.00 |  0.00 |   0.00 |   0.00 | ⋯ |      NA |      NA |      NA |      NA |      NA |      NA |      NA |      NA |      NA |      NA |\n",
       "| 2021-12-22 | 18 |   0.000000 |     NA |     NA |     NA |     NA |    NA |     NA |     NA | ⋯ | 269.097 | 269.567 | 268.067 | 263.837 | 264.207 | 268.907 | 269.037 | 268.077 | 267.567 | 267.297 |\n",
       "| 2021-12-25 | 16 |  46.846580 |     NA |     NA |     NA |     NA |    NA |     NA |     NA | ⋯ | 275.997 | 275.377 | 275.497 | 271.187 | 269.877 | 274.217 | 274.307 | 273.747 | 273.017 | 273.247 |\n",
       "\n"
      ],
      "text/plain": [
       "  date       hour production DSWRF_surface_38_35 DSWRF_surface_38_35.25\n",
       "1 2021-06-09 19     7.901200     NA                  NA                \n",
       "2 2021-11-26 14   189.840300     NA                  NA                \n",
       "3 2021-11-26 16    35.422200 272.98              269.88                \n",
       "4 2021-12-01  7     0.260118   0.00                0.00                \n",
       "5 2021-12-13  0     0.000000   0.00                0.00                \n",
       "6 2021-12-22 18     0.000000     NA                  NA                \n",
       "7 2021-12-25 16    46.846580     NA                  NA                \n",
       "  DSWRF_surface_38_35.5 DSWRF_surface_38_35.75 DSWRF_surface_38_36\n",
       "1     NA                    NA                    NA              \n",
       "2     NA                    NA                    NA              \n",
       "3 235.88                183.32                 79.18              \n",
       "4   0.00                  0.00                  0.00              \n",
       "5   0.00                  0.00                  0.00              \n",
       "6     NA                    NA                    NA              \n",
       "7     NA                    NA                    NA              \n",
       "  DSWRF_surface_38.25_35 DSWRF_surface_38.25_35.25 <U+22EF>       \n",
       "1     NA                     NA                    <U+22EF>\n",
       "2     NA                     NA                    <U+22EF>\n",
       "3 260.46                 251.68                    <U+22EF>\n",
       "4   0.00                   0.00                    <U+22EF>\n",
       "5   0.00                   0.00                    <U+22EF>\n",
       "6     NA                     NA                    <U+22EF>\n",
       "7     NA                     NA                    <U+22EF>\n",
       "  TMP_2.m.above.ground_38.75_35 TMP_2.m.above.ground_38.75_35.25\n",
       "1      NA                            NA                         \n",
       "2 284.835                       284.405                         \n",
       "3 285.017                       284.447                         \n",
       "4      NA                            NA                         \n",
       "5      NA                            NA                         \n",
       "6 269.097                       269.567                         \n",
       "7 275.997                       275.377                         \n",
       "  TMP_2.m.above.ground_38.75_35.5 TMP_2.m.above.ground_38.75_35.75\n",
       "1      NA                              NA                         \n",
       "2 283.225                         282.735                         \n",
       "3 283.517                         282.757                         \n",
       "4      NA                              NA                         \n",
       "5      NA                              NA                         \n",
       "6 268.067                         263.837                         \n",
       "7 275.497                         271.187                         \n",
       "  TMP_2.m.above.ground_38.75_36 TMP_2.m.above.ground_39_35\n",
       "1      NA                            NA                   \n",
       "2 282.425                       283.215                   \n",
       "3 282.217                       283.637                   \n",
       "4      NA                            NA                   \n",
       "5      NA                            NA                   \n",
       "6 264.207                       268.907                   \n",
       "7 269.877                       274.217                   \n",
       "  TMP_2.m.above.ground_39_35.25 TMP_2.m.above.ground_39_35.5\n",
       "1      NA                            NA                     \n",
       "2 283.015                       282.375                     \n",
       "3 283.197                       282.347                     \n",
       "4      NA                            NA                     \n",
       "5      NA                            NA                     \n",
       "6 269.037                       268.077                     \n",
       "7 274.307                       273.747                     \n",
       "  TMP_2.m.above.ground_39_35.75 TMP_2.m.above.ground_39_36\n",
       "1      NA                            NA                   \n",
       "2 282.495                       282.715                   \n",
       "3 282.457                       282.957                   \n",
       "4      NA                            NA                   \n",
       "5      NA                            NA                   \n",
       "6 267.567                       267.297                   \n",
       "7 273.017                       273.247                   "
      ]
     },
     "metadata": {},
     "output_type": "display_data"
    }
   ],
   "source": [
    "na_rows <- which(rowSums(is.na(dt))>0)\n",
    "dt[na_rows,]"
   ]
  },
  {
   "cell_type": "markdown",
   "id": "77f06191",
   "metadata": {},
   "source": [
    "After reading the data, there are only 7 rows with missing observations. The null values are filled with the values from 1 hour before since there are not many missing values to influence the model."
   ]
  },
  {
   "cell_type": "code",
   "execution_count": 65,
   "id": "c8712bed",
   "metadata": {},
   "outputs": [],
   "source": [
    "for(i in 4:length(dt)){\n",
    "    col <- dt[,..i]\n",
    "    col[which(is.na(col))] <- col[which(is.na(col))-1]\n",
    "    dt[,colnames(dt)[i]:=col]\n",
    "}"
   ]
  },
  {
   "cell_type": "code",
   "execution_count": 66,
   "id": "011b0eee",
   "metadata": {
    "scrolled": false
   },
   "outputs": [
    {
     "data": {
      "text/html": [
       "<table class=\"dataframe\">\n",
       "<caption>A data.table: 7 × 178</caption>\n",
       "<thead>\n",
       "\t<tr><th scope=col>date</th><th scope=col>hour</th><th scope=col>production</th><th scope=col>DSWRF_surface_38_35</th><th scope=col>DSWRF_surface_38_35.25</th><th scope=col>DSWRF_surface_38_35.5</th><th scope=col>DSWRF_surface_38_35.75</th><th scope=col>DSWRF_surface_38_36</th><th scope=col>DSWRF_surface_38.25_35</th><th scope=col>DSWRF_surface_38.25_35.25</th><th scope=col>⋯</th><th scope=col>TMP_2.m.above.ground_38.75_35</th><th scope=col>TMP_2.m.above.ground_38.75_35.25</th><th scope=col>TMP_2.m.above.ground_38.75_35.5</th><th scope=col>TMP_2.m.above.ground_38.75_35.75</th><th scope=col>TMP_2.m.above.ground_38.75_36</th><th scope=col>TMP_2.m.above.ground_39_35</th><th scope=col>TMP_2.m.above.ground_39_35.25</th><th scope=col>TMP_2.m.above.ground_39_35.5</th><th scope=col>TMP_2.m.above.ground_39_35.75</th><th scope=col>TMP_2.m.above.ground_39_36</th></tr>\n",
       "\t<tr><th scope=col>&lt;date&gt;</th><th scope=col>&lt;int&gt;</th><th scope=col>&lt;dbl&gt;</th><th scope=col>&lt;dbl&gt;</th><th scope=col>&lt;dbl&gt;</th><th scope=col>&lt;dbl&gt;</th><th scope=col>&lt;dbl&gt;</th><th scope=col>&lt;dbl&gt;</th><th scope=col>&lt;dbl&gt;</th><th scope=col>&lt;dbl&gt;</th><th scope=col>⋯</th><th scope=col>&lt;dbl&gt;</th><th scope=col>&lt;dbl&gt;</th><th scope=col>&lt;dbl&gt;</th><th scope=col>&lt;dbl&gt;</th><th scope=col>&lt;dbl&gt;</th><th scope=col>&lt;dbl&gt;</th><th scope=col>&lt;dbl&gt;</th><th scope=col>&lt;dbl&gt;</th><th scope=col>&lt;dbl&gt;</th><th scope=col>&lt;dbl&gt;</th></tr>\n",
       "</thead>\n",
       "<tbody>\n",
       "\t<tr><td>2021-06-09</td><td>19</td><td>  7.901200</td><td>550.78</td><td>440.38</td><td>489.32</td><td>577.92</td><td>525.26</td><td>373.30</td><td>358.16</td><td>⋯</td><td>295.043</td><td>294.743</td><td>294.043</td><td>291.543</td><td>290.143</td><td>294.543</td><td>293.943</td><td>291.843</td><td>291.843</td><td>290.943</td></tr>\n",
       "\t<tr><td>2021-11-26</td><td>14</td><td>189.840300</td><td>438.98</td><td>444.28</td><td>392.40</td><td>387.82</td><td>404.92</td><td>421.96</td><td>417.02</td><td>⋯</td><td>284.835</td><td>284.405</td><td>283.225</td><td>282.735</td><td>282.425</td><td>283.215</td><td>283.015</td><td>282.375</td><td>282.495</td><td>282.715</td></tr>\n",
       "\t<tr><td>2021-11-26</td><td>16</td><td> 35.422200</td><td>272.98</td><td>269.88</td><td>235.88</td><td>183.32</td><td> 79.18</td><td>260.46</td><td>251.68</td><td>⋯</td><td>285.017</td><td>284.447</td><td>283.517</td><td>282.757</td><td>282.217</td><td>283.637</td><td>283.197</td><td>282.347</td><td>282.457</td><td>282.957</td></tr>\n",
       "\t<tr><td>2021-12-01</td><td> 7</td><td>  0.260118</td><td>  0.00</td><td>  0.00</td><td>  0.00</td><td>  0.00</td><td>  0.00</td><td>  0.00</td><td>  0.00</td><td>⋯</td><td>276.780</td><td>276.520</td><td>275.380</td><td>273.560</td><td>273.620</td><td>276.910</td><td>277.120</td><td>275.110</td><td>274.430</td><td>274.480</td></tr>\n",
       "\t<tr><td>2021-12-13</td><td> 0</td><td>  0.000000</td><td>  0.00</td><td>  0.00</td><td>  0.00</td><td>  0.00</td><td>  0.00</td><td>  0.00</td><td>  0.00</td><td>⋯</td><td>278.374</td><td>277.674</td><td>279.054</td><td>277.584</td><td>275.714</td><td>279.184</td><td>278.534</td><td>278.054</td><td>277.234</td><td>277.384</td></tr>\n",
       "\t<tr><td>2021-12-22</td><td>18</td><td>  0.000000</td><td>193.00</td><td>194.44</td><td>184.04</td><td>183.86</td><td>178.42</td><td>181.98</td><td>177.16</td><td>⋯</td><td>269.097</td><td>269.567</td><td>268.067</td><td>263.837</td><td>264.207</td><td>268.907</td><td>269.037</td><td>268.077</td><td>267.567</td><td>267.297</td></tr>\n",
       "\t<tr><td>2021-12-25</td><td>16</td><td> 46.846580</td><td>412.68</td><td>417.42</td><td>412.18</td><td>408.10</td><td>401.86</td><td>395.74</td><td>391.78</td><td>⋯</td><td>275.997</td><td>275.377</td><td>275.497</td><td>271.187</td><td>269.877</td><td>274.217</td><td>274.307</td><td>273.747</td><td>273.017</td><td>273.247</td></tr>\n",
       "</tbody>\n",
       "</table>\n"
      ],
      "text/latex": [
       "A data.table: 7 × 178\n",
       "\\begin{tabular}{lllllllllllllllllllll}\n",
       " date & hour & production & DSWRF\\_surface\\_38\\_35 & DSWRF\\_surface\\_38\\_35.25 & DSWRF\\_surface\\_38\\_35.5 & DSWRF\\_surface\\_38\\_35.75 & DSWRF\\_surface\\_38\\_36 & DSWRF\\_surface\\_38.25\\_35 & DSWRF\\_surface\\_38.25\\_35.25 & ⋯ & TMP\\_2.m.above.ground\\_38.75\\_35 & TMP\\_2.m.above.ground\\_38.75\\_35.25 & TMP\\_2.m.above.ground\\_38.75\\_35.5 & TMP\\_2.m.above.ground\\_38.75\\_35.75 & TMP\\_2.m.above.ground\\_38.75\\_36 & TMP\\_2.m.above.ground\\_39\\_35 & TMP\\_2.m.above.ground\\_39\\_35.25 & TMP\\_2.m.above.ground\\_39\\_35.5 & TMP\\_2.m.above.ground\\_39\\_35.75 & TMP\\_2.m.above.ground\\_39\\_36\\\\\n",
       " <date> & <int> & <dbl> & <dbl> & <dbl> & <dbl> & <dbl> & <dbl> & <dbl> & <dbl> & ⋯ & <dbl> & <dbl> & <dbl> & <dbl> & <dbl> & <dbl> & <dbl> & <dbl> & <dbl> & <dbl>\\\\\n",
       "\\hline\n",
       "\t 2021-06-09 & 19 &   7.901200 & 550.78 & 440.38 & 489.32 & 577.92 & 525.26 & 373.30 & 358.16 & ⋯ & 295.043 & 294.743 & 294.043 & 291.543 & 290.143 & 294.543 & 293.943 & 291.843 & 291.843 & 290.943\\\\\n",
       "\t 2021-11-26 & 14 & 189.840300 & 438.98 & 444.28 & 392.40 & 387.82 & 404.92 & 421.96 & 417.02 & ⋯ & 284.835 & 284.405 & 283.225 & 282.735 & 282.425 & 283.215 & 283.015 & 282.375 & 282.495 & 282.715\\\\\n",
       "\t 2021-11-26 & 16 &  35.422200 & 272.98 & 269.88 & 235.88 & 183.32 &  79.18 & 260.46 & 251.68 & ⋯ & 285.017 & 284.447 & 283.517 & 282.757 & 282.217 & 283.637 & 283.197 & 282.347 & 282.457 & 282.957\\\\\n",
       "\t 2021-12-01 &  7 &   0.260118 &   0.00 &   0.00 &   0.00 &   0.00 &   0.00 &   0.00 &   0.00 & ⋯ & 276.780 & 276.520 & 275.380 & 273.560 & 273.620 & 276.910 & 277.120 & 275.110 & 274.430 & 274.480\\\\\n",
       "\t 2021-12-13 &  0 &   0.000000 &   0.00 &   0.00 &   0.00 &   0.00 &   0.00 &   0.00 &   0.00 & ⋯ & 278.374 & 277.674 & 279.054 & 277.584 & 275.714 & 279.184 & 278.534 & 278.054 & 277.234 & 277.384\\\\\n",
       "\t 2021-12-22 & 18 &   0.000000 & 193.00 & 194.44 & 184.04 & 183.86 & 178.42 & 181.98 & 177.16 & ⋯ & 269.097 & 269.567 & 268.067 & 263.837 & 264.207 & 268.907 & 269.037 & 268.077 & 267.567 & 267.297\\\\\n",
       "\t 2021-12-25 & 16 &  46.846580 & 412.68 & 417.42 & 412.18 & 408.10 & 401.86 & 395.74 & 391.78 & ⋯ & 275.997 & 275.377 & 275.497 & 271.187 & 269.877 & 274.217 & 274.307 & 273.747 & 273.017 & 273.247\\\\\n",
       "\\end{tabular}\n"
      ],
      "text/markdown": [
       "\n",
       "A data.table: 7 × 178\n",
       "\n",
       "| date &lt;date&gt; | hour &lt;int&gt; | production &lt;dbl&gt; | DSWRF_surface_38_35 &lt;dbl&gt; | DSWRF_surface_38_35.25 &lt;dbl&gt; | DSWRF_surface_38_35.5 &lt;dbl&gt; | DSWRF_surface_38_35.75 &lt;dbl&gt; | DSWRF_surface_38_36 &lt;dbl&gt; | DSWRF_surface_38.25_35 &lt;dbl&gt; | DSWRF_surface_38.25_35.25 &lt;dbl&gt; | ⋯ ⋯ | TMP_2.m.above.ground_38.75_35 &lt;dbl&gt; | TMP_2.m.above.ground_38.75_35.25 &lt;dbl&gt; | TMP_2.m.above.ground_38.75_35.5 &lt;dbl&gt; | TMP_2.m.above.ground_38.75_35.75 &lt;dbl&gt; | TMP_2.m.above.ground_38.75_36 &lt;dbl&gt; | TMP_2.m.above.ground_39_35 &lt;dbl&gt; | TMP_2.m.above.ground_39_35.25 &lt;dbl&gt; | TMP_2.m.above.ground_39_35.5 &lt;dbl&gt; | TMP_2.m.above.ground_39_35.75 &lt;dbl&gt; | TMP_2.m.above.ground_39_36 &lt;dbl&gt; |\n",
       "|---|---|---|---|---|---|---|---|---|---|---|---|---|---|---|---|---|---|---|---|---|\n",
       "| 2021-06-09 | 19 |   7.901200 | 550.78 | 440.38 | 489.32 | 577.92 | 525.26 | 373.30 | 358.16 | ⋯ | 295.043 | 294.743 | 294.043 | 291.543 | 290.143 | 294.543 | 293.943 | 291.843 | 291.843 | 290.943 |\n",
       "| 2021-11-26 | 14 | 189.840300 | 438.98 | 444.28 | 392.40 | 387.82 | 404.92 | 421.96 | 417.02 | ⋯ | 284.835 | 284.405 | 283.225 | 282.735 | 282.425 | 283.215 | 283.015 | 282.375 | 282.495 | 282.715 |\n",
       "| 2021-11-26 | 16 |  35.422200 | 272.98 | 269.88 | 235.88 | 183.32 |  79.18 | 260.46 | 251.68 | ⋯ | 285.017 | 284.447 | 283.517 | 282.757 | 282.217 | 283.637 | 283.197 | 282.347 | 282.457 | 282.957 |\n",
       "| 2021-12-01 |  7 |   0.260118 |   0.00 |   0.00 |   0.00 |   0.00 |   0.00 |   0.00 |   0.00 | ⋯ | 276.780 | 276.520 | 275.380 | 273.560 | 273.620 | 276.910 | 277.120 | 275.110 | 274.430 | 274.480 |\n",
       "| 2021-12-13 |  0 |   0.000000 |   0.00 |   0.00 |   0.00 |   0.00 |   0.00 |   0.00 |   0.00 | ⋯ | 278.374 | 277.674 | 279.054 | 277.584 | 275.714 | 279.184 | 278.534 | 278.054 | 277.234 | 277.384 |\n",
       "| 2021-12-22 | 18 |   0.000000 | 193.00 | 194.44 | 184.04 | 183.86 | 178.42 | 181.98 | 177.16 | ⋯ | 269.097 | 269.567 | 268.067 | 263.837 | 264.207 | 268.907 | 269.037 | 268.077 | 267.567 | 267.297 |\n",
       "| 2021-12-25 | 16 |  46.846580 | 412.68 | 417.42 | 412.18 | 408.10 | 401.86 | 395.74 | 391.78 | ⋯ | 275.997 | 275.377 | 275.497 | 271.187 | 269.877 | 274.217 | 274.307 | 273.747 | 273.017 | 273.247 |\n",
       "\n"
      ],
      "text/plain": [
       "  date       hour production DSWRF_surface_38_35 DSWRF_surface_38_35.25\n",
       "1 2021-06-09 19     7.901200 550.78              440.38                \n",
       "2 2021-11-26 14   189.840300 438.98              444.28                \n",
       "3 2021-11-26 16    35.422200 272.98              269.88                \n",
       "4 2021-12-01  7     0.260118   0.00                0.00                \n",
       "5 2021-12-13  0     0.000000   0.00                0.00                \n",
       "6 2021-12-22 18     0.000000 193.00              194.44                \n",
       "7 2021-12-25 16    46.846580 412.68              417.42                \n",
       "  DSWRF_surface_38_35.5 DSWRF_surface_38_35.75 DSWRF_surface_38_36\n",
       "1 489.32                577.92                 525.26             \n",
       "2 392.40                387.82                 404.92             \n",
       "3 235.88                183.32                  79.18             \n",
       "4   0.00                  0.00                   0.00             \n",
       "5   0.00                  0.00                   0.00             \n",
       "6 184.04                183.86                 178.42             \n",
       "7 412.18                408.10                 401.86             \n",
       "  DSWRF_surface_38.25_35 DSWRF_surface_38.25_35.25 <U+22EF>       \n",
       "1 373.30                 358.16                    <U+22EF>\n",
       "2 421.96                 417.02                    <U+22EF>\n",
       "3 260.46                 251.68                    <U+22EF>\n",
       "4   0.00                   0.00                    <U+22EF>\n",
       "5   0.00                   0.00                    <U+22EF>\n",
       "6 181.98                 177.16                    <U+22EF>\n",
       "7 395.74                 391.78                    <U+22EF>\n",
       "  TMP_2.m.above.ground_38.75_35 TMP_2.m.above.ground_38.75_35.25\n",
       "1 295.043                       294.743                         \n",
       "2 284.835                       284.405                         \n",
       "3 285.017                       284.447                         \n",
       "4 276.780                       276.520                         \n",
       "5 278.374                       277.674                         \n",
       "6 269.097                       269.567                         \n",
       "7 275.997                       275.377                         \n",
       "  TMP_2.m.above.ground_38.75_35.5 TMP_2.m.above.ground_38.75_35.75\n",
       "1 294.043                         291.543                         \n",
       "2 283.225                         282.735                         \n",
       "3 283.517                         282.757                         \n",
       "4 275.380                         273.560                         \n",
       "5 279.054                         277.584                         \n",
       "6 268.067                         263.837                         \n",
       "7 275.497                         271.187                         \n",
       "  TMP_2.m.above.ground_38.75_36 TMP_2.m.above.ground_39_35\n",
       "1 290.143                       294.543                   \n",
       "2 282.425                       283.215                   \n",
       "3 282.217                       283.637                   \n",
       "4 273.620                       276.910                   \n",
       "5 275.714                       279.184                   \n",
       "6 264.207                       268.907                   \n",
       "7 269.877                       274.217                   \n",
       "  TMP_2.m.above.ground_39_35.25 TMP_2.m.above.ground_39_35.5\n",
       "1 293.943                       291.843                     \n",
       "2 283.015                       282.375                     \n",
       "3 283.197                       282.347                     \n",
       "4 277.120                       275.110                     \n",
       "5 278.534                       278.054                     \n",
       "6 269.037                       268.077                     \n",
       "7 274.307                       273.747                     \n",
       "  TMP_2.m.above.ground_39_35.75 TMP_2.m.above.ground_39_36\n",
       "1 291.843                       290.943                   \n",
       "2 282.495                       282.715                   \n",
       "3 282.457                       282.957                   \n",
       "4 274.430                       274.480                   \n",
       "5 277.234                       277.384                   \n",
       "6 267.567                       267.297                   \n",
       "7 273.017                       273.247                   "
      ]
     },
     "metadata": {},
     "output_type": "display_data"
    }
   ],
   "source": [
    "dt[na_rows,]"
   ]
  },
  {
   "cell_type": "markdown",
   "id": "2a0d7243",
   "metadata": {},
   "source": [
    "### Dimensionality Reduction"
   ]
  },
  {
   "cell_type": "code",
   "execution_count": 67,
   "id": "49e5c52c",
   "metadata": {},
   "outputs": [
    {
     "data": {
      "text/plain": [
       "Importance of components:\n",
       "                             Comp.1       Comp.2       Comp.3       Comp.4\n",
       "Standard deviation     1358.7025368 284.45196749 1.387861e+02 1.037083e+02\n",
       "Proportion of Variance    0.9141613   0.04006747 9.538189e-03 5.325996e-03\n",
       "Cumulative Proportion     0.9141613   0.95422882 9.637670e-01 9.690930e-01\n",
       "                             Comp.5       Comp.6       Comp.7       Comp.8\n",
       "Standard deviation     84.879930021 77.486855696 68.327695655 60.224290364\n",
       "Proportion of Variance  0.003567665  0.002973241  0.002311892  0.001796046\n",
       "Cumulative Proportion   0.972660667  0.975633908  0.977945800  0.979741846\n",
       "                             Comp.9      Comp.10      Comp.11      Comp.12\n",
       "Standard deviation     52.039742315 49.611984787 47.047138651 45.930574611\n",
       "Proportion of Variance  0.001341048  0.001218842  0.001096076  0.001044667\n",
       "Cumulative Proportion   0.981082895  0.982301736  0.983397812  0.984442479\n",
       "                            Comp.13      Comp.14      Comp.15      Comp.16\n",
       "Standard deviation     4.417963e+01 3.938259e+01 3.790596e+01 3.746674e+01\n",
       "Proportion of Variance 9.665365e-04 7.680378e-04 7.115233e-04 6.951298e-04\n",
       "Cumulative Proportion  9.854090e-01 9.861771e-01 9.868886e-01 9.875837e-01\n",
       "                            Comp.17      Comp.18      Comp.19      Comp.20\n",
       "Standard deviation     3.685417e+01 35.886691944 3.394823e+01 3.246988e+01\n",
       "Proportion of Variance 6.725854e-04  0.000637736 5.707008e-04 5.220782e-04\n",
       "Cumulative Proportion  9.882563e-01  0.988894028 9.894647e-01 9.899868e-01\n",
       "                            Comp.21      Comp.22      Comp.23      Comp.24\n",
       "Standard deviation     3.044265e+01 29.272802823 2.826296e+01 27.197318009\n",
       "Proportion of Variance 4.589222e-04  0.000424329 3.955573e-04  0.000366291\n",
       "Cumulative Proportion  9.904457e-01  0.990870058 9.912656e-01  0.991631906\n",
       "                            Comp.25      Comp.26      Comp.27      Comp.28\n",
       "Standard deviation     2.622100e+01 2.565268e+01 2.447537e+01 2.413371e+01\n",
       "Proportion of Variance 3.404651e-04 3.258664e-04 2.966419e-04 2.884179e-04\n",
       "Cumulative Proportion  9.919724e-01 9.922982e-01 9.925949e-01 9.928833e-01\n",
       "                            Comp.29      Comp.30      Comp.31      Comp.32\n",
       "Standard deviation     2.318822e+01 2.288572e+01 2.239858e+01 2.221800e+01\n",
       "Proportion of Variance 2.662619e-04 2.593603e-04 2.484363e-04 2.444467e-04\n",
       "Cumulative Proportion  9.931496e-01 9.934089e-01 9.936574e-01 9.939018e-01\n",
       "                            Comp.33      Comp.34      Comp.35     Comp.36\n",
       "Standard deviation     2.178429e+01 2.149426e+01 2.029328e+01 20.02688969\n",
       "Proportion of Variance 2.349962e-04 2.287806e-04 2.039288e-04  0.00019861\n",
       "Cumulative Proportion  9.941368e-01 9.943656e-01 9.945695e-01  0.99476812\n",
       "                            Comp.37      Comp.38      Comp.39      Comp.40\n",
       "Standard deviation     1.992072e+01 1.950584e+01 1.909663e+01 1.877666e+01\n",
       "Proportion of Variance 1.965097e-04 1.884098e-04 1.805875e-04 1.745866e-04\n",
       "Cumulative Proportion  9.949646e-01 9.951530e-01 9.953336e-01 9.955082e-01\n",
       "                            Comp.41      Comp.42      Comp.43      Comp.44\n",
       "Standard deviation     1.861050e+01 1.730619e+01 1.687846e+01 1.641588e+01\n",
       "Proportion of Variance 1.715104e-04 1.483122e-04 1.410716e-04 1.334451e-04\n",
       "Cumulative Proportion  9.956797e-01 9.958280e-01 9.959691e-01 9.961026e-01\n",
       "                            Comp.45      Comp.46      Comp.47      Comp.48\n",
       "Standard deviation     1.600713e+01 1.585444e+01 1.548112e+01 1.509526e+01\n",
       "Proportion of Variance 1.268824e-04 1.244732e-04 1.186803e-04 1.128379e-04\n",
       "Cumulative Proportion  9.962294e-01 9.963539e-01 9.964726e-01 9.965854e-01\n",
       "                           Comp.49      Comp.50      Comp.51      Comp.52\n",
       "Standard deviation     14.86691162 1.456216e+01 1.441504e+01 1.413619e+01\n",
       "Proportion of Variance  0.00010945 1.050088e-04 1.028977e-04 9.895524e-05\n",
       "Cumulative Proportion   0.99669487 9.967999e-01 9.969028e-01 9.970017e-01\n",
       "                            Comp.53      Comp.54      Comp.55      Comp.56\n",
       "Standard deviation     1.383494e+01 1.369325e+01 1.360442e+01 1.345267e+01\n",
       "Proportion of Variance 9.478259e-05 9.285112e-05 9.165030e-05 8.961708e-05\n",
       "Cumulative Proportion  9.970965e-01 9.971894e-01 9.972810e-01 9.973706e-01\n",
       "                            Comp.57      Comp.58      Comp.59      Comp.60\n",
       "Standard deviation     1.306955e+01 1.271706e+01 1.270210e+01 1.251357e+01\n",
       "Proportion of Variance 8.458534e-05 8.008428e-05 7.989605e-05 7.754191e-05\n",
       "Cumulative Proportion  9.974552e-01 9.975353e-01 9.976152e-01 9.976927e-01\n",
       "                            Comp.61      Comp.62      Comp.63      Comp.64\n",
       "Standard deviation     1.246778e+01 1.198718e+01 1.191844e+01 1.151640e+01\n",
       "Proportion of Variance 7.697546e-05 7.115544e-05 7.034176e-05 6.567614e-05\n",
       "Cumulative Proportion  9.977697e-01 9.978409e-01 9.979112e-01 9.979769e-01\n",
       "                            Comp.65      Comp.66      Comp.67      Comp.68\n",
       "Standard deviation     1.145664e+01 1.141188e+01 1.117434e+01 1.092225e+01\n",
       "Proportion of Variance 6.499626e-05 6.448940e-05 6.183260e-05 5.907427e-05\n",
       "Cumulative Proportion  9.980419e-01 9.981064e-01 9.981682e-01 9.982273e-01\n",
       "                            Comp.69      Comp.70      Comp.71      Comp.72\n",
       "Standard deviation     1.072845e+01 1.070591e+01 1.046829e+01 1.041352e+01\n",
       "Proportion of Variance 5.699653e-05 5.675723e-05 5.426576e-05 5.369936e-05\n",
       "Cumulative Proportion  9.982843e-01 9.983410e-01 9.983953e-01 9.984490e-01\n",
       "                            Comp.73      Comp.74      Comp.75      Comp.76\n",
       "Standard deviation     1.024991e+01 1.008772e+01 9.860649e+00 9.793859e+00\n",
       "Proportion of Variance 5.202522e-05 5.039178e-05 4.814876e-05 4.749871e-05\n",
       "Cumulative Proportion  9.985010e-01 9.985514e-01 9.985996e-01 9.986471e-01\n",
       "                            Comp.77      Comp.78      Comp.79      Comp.80\n",
       "Standard deviation     9.743628e+00 9.623090e+00 9.504398e+00 9.340372e+00\n",
       "Proportion of Variance 4.701273e-05 4.585674e-05 4.473251e-05 4.320186e-05\n",
       "Cumulative Proportion  9.986941e-01 9.987399e-01 9.987847e-01 9.988279e-01\n",
       "                            Comp.81      Comp.82      Comp.83      Comp.84\n",
       "Standard deviation     9.242375e+00 9.009726e+00 8.832646e+00 8.723114e+00\n",
       "Proportion of Variance 4.230008e-05 4.019733e-05 3.863276e-05 3.768055e-05\n",
       "Cumulative Proportion  9.988702e-01 9.989104e-01 9.989490e-01 9.989867e-01\n",
       "                            Comp.85      Comp.86      Comp.87      Comp.88\n",
       "Standard deviation     8.608169e+00 8.427094e+00 8.369490e+00 8.225167e+00\n",
       "Proportion of Variance 3.669405e-05 3.516655e-05 3.468743e-05 3.350145e-05\n",
       "Cumulative Proportion  9.990234e-01 9.990585e-01 9.990932e-01 9.991267e-01\n",
       "                            Comp.89      Comp.90      Comp.91      Comp.92\n",
       "Standard deviation     8.078843e+00 7.9797650343 7.718585e+00 7.649741e+00\n",
       "Proportion of Variance 3.232008e-05 0.0000315322 2.950187e-05 2.897794e-05\n",
       "Cumulative Proportion  9.991591e-01 0.9991905861 9.992201e-01 9.992491e-01\n",
       "                            Comp.93      Comp.94      Comp.95      Comp.96\n",
       "Standard deviation     7.614175e+00 7.508965e+00 7.291496e+00 7.192175e+00\n",
       "Proportion of Variance 2.870911e-05 2.792121e-05 2.632736e-05 2.561501e-05\n",
       "Cumulative Proportion  9.992778e-01 9.993057e-01 9.993320e-01 9.993576e-01\n",
       "                            Comp.97      Comp.98      Comp.99     Comp.100\n",
       "Standard deviation     7.115972e+00 7.042396e+00 6.9656234914 6.751496e+00\n",
       "Proportion of Variance 2.507509e-05 2.455924e-05 0.0000240267 2.257221e-05\n",
       "Cumulative Proportion  9.993827e-01 9.994073e-01 0.9994312996 9.994539e-01\n",
       "                           Comp.101     Comp.102     Comp.103     Comp.104\n",
       "Standard deviation     6.6893529754 6.635325e+00 6.483349e+00 6.375293e+00\n",
       "Proportion of Variance 0.0000221586 2.180211e-05 2.081483e-05 2.012679e-05\n",
       "Cumulative Proportion  0.9994760304 9.994978e-01 9.995186e-01 9.995388e-01\n",
       "                           Comp.105     Comp.106     Comp.107     Comp.108\n",
       "Standard deviation     6.285530e+00 6.237773e+00 6.101567e+00 6.073486e+00\n",
       "Proportion of Variance 1.956401e-05 1.926785e-05 1.843558e-05 1.826628e-05\n",
       "Cumulative Proportion  9.995583e-01 9.995776e-01 9.995960e-01 9.996143e-01\n",
       "                           Comp.109     Comp.110     Comp.111     Comp.112\n",
       "Standard deviation     5.957010e+00 5.854212e+00 5.829309e+00 5.754931e+00\n",
       "Proportion of Variance 1.757239e-05 1.697114e-05 1.682706e-05 1.640039e-05\n",
       "Cumulative Proportion  9.996319e-01 9.996489e-01 9.996657e-01 9.996821e-01\n",
       "                           Comp.113     Comp.114     Comp.115     Comp.116\n",
       "Standard deviation     5.611664e+00 5.525105e+00 5.450183e+00 5.3042927868\n",
       "Proportion of Variance 1.559399e-05 1.511663e-05 1.470945e-05 0.0000139325\n",
       "Cumulative Proportion  9.996977e-01 9.997128e-01 9.997275e-01 0.9997414314\n",
       "                           Comp.117     Comp.118     Comp.119     Comp.120\n",
       "Standard deviation     5.212207e+00 5.119026e+00 5.055260e+00 4.974618e+00\n",
       "Proportion of Variance 1.345295e-05 1.297624e-05 1.265497e-05 1.225444e-05\n",
       "Cumulative Proportion  9.997549e-01 9.997679e-01 9.997805e-01 9.997928e-01\n",
       "                           Comp.121     Comp.122     Comp.123     Comp.124\n",
       "Standard deviation     4.918281e+00 4.908337e+00 4.732933e+00 4.661750e+00\n",
       "Proportion of Variance 1.197845e-05 1.193006e-05 1.109264e-05 1.076148e-05\n",
       "Cumulative Proportion  9.998047e-01 9.998167e-01 9.998278e-01 9.998385e-01\n",
       "                           Comp.125     Comp.126     Comp.127     Comp.128\n",
       "Standard deviation     4.594781e+00 4.482103e+00 4.353616e+00 4.336781e+00\n",
       "Proportion of Variance 1.045451e-05 9.948046e-06 9.385867e-06 9.313416e-06\n",
       "Cumulative Proportion  9.998490e-01 9.998589e-01 9.998683e-01 9.998776e-01\n",
       "                           Comp.129     Comp.130     Comp.131     Comp.132\n",
       "Standard deviation     4.227664e+00 4.023639e+00 3.920697e+00 3.890666e+00\n",
       "Proportion of Variance 8.850645e-06 8.017002e-06 7.612034e-06 7.495867e-06\n",
       "Cumulative Proportion  9.998865e-01 9.998945e-01 9.999021e-01 9.999096e-01\n",
       "                           Comp.133     Comp.134     Comp.135     Comp.136\n",
       "Standard deviation     3.830114e+00 3.760630e+00 3.652935e+00 3.542797e+00\n",
       "Proportion of Variance 7.264361e-06 7.003180e-06 6.607815e-06 6.215364e-06\n",
       "Cumulative Proportion  9.999169e-01 9.999239e-01 9.999305e-01 9.999367e-01\n",
       "                           Comp.137     Comp.138     Comp.139     Comp.140\n",
       "Standard deviation     3.481619e+00 3.447984e+00 3.318535e+00 3.212575e+00\n",
       "Proportion of Variance 6.002562e-06 5.887143e-06 5.453394e-06 5.110702e-06\n",
       "Cumulative Proportion  9.999427e-01 9.999486e-01 9.999540e-01 9.999592e-01\n",
       "                           Comp.141     Comp.142     Comp.143     Comp.144\n",
       "Standard deviation     3.103517e+00 2.941914e+00 2.709731e+00 2.687471e+00\n",
       "Proportion of Variance 4.769603e-06 4.285820e-06 3.636023e-06 3.576527e-06\n",
       "Cumulative Proportion  9.999639e-01 9.999682e-01 9.999718e-01 9.999754e-01\n",
       "                           Comp.145     Comp.146     Comp.147     Comp.148\n",
       "Standard deviation     2.601525e+00 2.444820e+00 2.402308e+00 2.256640e+00\n",
       "Proportion of Variance 3.351430e-06 2.959836e-06 2.857797e-06 2.521730e-06\n",
       "Cumulative Proportion  9.999788e-01 9.999817e-01 9.999846e-01 9.999871e-01\n",
       "                           Comp.149     Comp.150     Comp.151     Comp.152\n",
       "Standard deviation     2.237486e+00 2.084816e+00 1.919498e+00 1.724065e+00\n",
       "Proportion of Variance 2.479103e-06 2.152333e-06 1.824523e-06 1.471911e-06\n",
       "Cumulative Proportion  9.999896e-01 9.999917e-01 9.999936e-01 9.999950e-01\n",
       "                           Comp.153     Comp.154     Comp.155     Comp.156\n",
       "Standard deviation     1.461669e+00 1.337827e+00 1.151719e+00 1.043192e+00\n",
       "Proportion of Variance 1.057966e-06 8.862868e-07 6.568509e-07 5.388930e-07\n",
       "Cumulative Proportion  9.999961e-01 9.999970e-01 9.999976e-01 9.999982e-01\n",
       "                           Comp.157     Comp.158     Comp.159     Comp.160\n",
       "Standard deviation     7.404433e-01 6.783541e-01 5.964092e-01 5.788599e-01\n",
       "Proportion of Variance 2.714924e-07 2.278699e-07 1.761419e-07 1.659285e-07\n",
       "Cumulative Proportion  9.999985e-01 9.999987e-01 9.999989e-01 9.999990e-01\n",
       "                           Comp.161     Comp.162     Comp.163     Comp.164\n",
       "Standard deviation     5.371190e-01 4.651174e-01 4.421864e-01 4.294675e-01\n",
       "Proportion of Variance 1.428614e-07 1.071271e-07 9.682442e-08 9.133446e-08\n",
       "Cumulative Proportion  9.999992e-01 9.999993e-01 9.999994e-01 9.999995e-01\n",
       "                           Comp.165     Comp.166     Comp.167     Comp.168\n",
       "Standard deviation     4.111865e-01 3.690778e-01 3.530525e-01 3.456926e-01\n",
       "Proportion of Variance 8.372434e-08 6.745433e-08 6.172380e-08 5.917719e-08\n",
       "Cumulative Proportion  9.999995e-01 9.999996e-01 9.999997e-01 9.999997e-01\n",
       "                           Comp.169     Comp.170     Comp.171     Comp.172\n",
       "Standard deviation     3.185012e-01 3.066495e-01 2.899631e-01 2.661731e-01\n",
       "Proportion of Variance 5.023382e-08 4.656488e-08 4.163509e-08 3.508345e-08\n",
       "Cumulative Proportion  9.999998e-01 9.999998e-01 9.999999e-01 9.999999e-01\n",
       "                           Comp.173     Comp.174     Comp.175     Comp.176\n",
       "Standard deviation     2.534430e-01 2.326631e-01 2.084291e-01 1.652490e-01\n",
       "Proportion of Variance 3.180786e-08 2.680583e-08 2.151250e-08 1.352235e-08\n",
       "Cumulative Proportion  9.999999e-01 1.000000e+00 1.000000e+00 1.000000e+00"
      ]
     },
     "metadata": {},
     "output_type": "display_data"
    }
   ],
   "source": [
    "pca <- princomp(dt[,-c(\"date\",\"production\")])\n",
    "summary(pca)"
   ]
  },
  {
   "cell_type": "markdown",
   "id": "578050ca",
   "metadata": {},
   "source": [
    "The first 21 principal components are used, since they explain the 99% of the variance."
   ]
  },
  {
   "cell_type": "code",
   "execution_count": 68,
   "id": "e96ccdaf",
   "metadata": {},
   "outputs": [],
   "source": [
    "for(i in 1:21){\n",
    "    dt[,paste(\"pca\",as.character(i),sep=\"\"):=pca$scores[,i]]\n",
    "}"
   ]
  },
  {
   "cell_type": "code",
   "execution_count": 69,
   "id": "a5c4b909",
   "metadata": {},
   "outputs": [],
   "source": [
    "dt[,w_day:=as.character(wday(date,label=T))]\n",
    "dt[,mon:=as.character(month(date,label=T))]\n",
    "dt[,trnd:=1:.N]\n",
    "dt$production <- log(dt$production+1)\n",
    "dt$lag_48 <- shift(dt$production,48)\n",
    "dt <- dt[date>\"2019-09-02\"]"
   ]
  },
  {
   "cell_type": "markdown",
   "id": "9e13854e",
   "metadata": {},
   "source": [
    "Trend, day of the week and month features added to the data. Since production is a non-negative variable, natural log transformation is applied to the output variable to prevent linear regreassion to predict negative values. "
   ]
  },
  {
   "cell_type": "code",
   "execution_count": 70,
   "id": "315cda3f",
   "metadata": {},
   "outputs": [],
   "source": [
    "train_dt <- dt[date<=\"2021-10-28\",c(\"date\",\"hour\",\"production\",paste0(\"pca\",1:21),\"w_day\",\"mon\",\"trnd\",\"lag_48\")]\n",
    "test_dt <- dt[date==\"2021-10-30\",c(\"date\",\"hour\",\"production\",paste0(\"pca\",1:21),\"w_day\",\"mon\",\"trnd\",\"lag_48\")]"
   ]
  },
  {
   "cell_type": "markdown",
   "id": "a8ed798b",
   "metadata": {},
   "source": [
    "Since the aim is predicting the other day's values (d+1), data until \"2021-10-28\" is used as training data. The last day before the forecast period \"2021-10-30\" is used as the test data."
   ]
  },
  {
   "cell_type": "markdown",
   "id": "3371ff9e",
   "metadata": {},
   "source": [
    "### EBLR Model"
   ]
  },
  {
   "cell_type": "markdown",
   "id": "2c1fed0a",
   "metadata": {},
   "source": [
    "To construct a base learner model, simple linear regression is used with the trend, day and month information as regressors."
   ]
  },
  {
   "cell_type": "code",
   "execution_count": 71,
   "id": "203cb1c8",
   "metadata": {
    "scrolled": true
   },
   "outputs": [
    {
     "data": {
      "text/plain": [
       "\n",
       "Call:\n",
       "lm(formula = production ~ trnd + w_day + mon + as.factor(hour), \n",
       "    data = train_dt)\n",
       "\n",
       "Residuals:\n",
       "    Min      1Q  Median      3Q     Max \n",
       "-3.5866 -0.3699  0.0397  0.3903  1.6995 \n",
       "\n",
       "Coefficients:\n",
       "                    Estimate Std. Error t value Pr(>|t|)    \n",
       "(Intercept)        2.909e-01  3.187e-02   9.129  < 2e-16 ***\n",
       "trnd               5.393e-06  8.992e-07   5.998 2.04e-09 ***\n",
       "w_dayCum          -1.131e-02  1.726e-02  -0.655  0.51228    \n",
       "w_dayÇar           6.066e-03  1.722e-02   0.352  0.72468    \n",
       "w_dayPaz           4.162e-02  1.726e-02   2.412  0.01587 *  \n",
       "w_dayPer           9.350e-03  1.726e-02   0.542  0.58804    \n",
       "w_dayPzt           1.090e-02  1.726e-02   0.631  0.52784    \n",
       "w_daySal           2.809e-02  1.723e-02   1.631  0.10295    \n",
       "monAra            -1.060e+00  2.378e-02 -44.562  < 2e-16 ***\n",
       "monEki            -3.998e-01  2.157e-02 -18.534  < 2e-16 ***\n",
       "monEyl            -1.912e-01  2.164e-02  -8.839  < 2e-16 ***\n",
       "monHaz             1.706e-01  2.342e-02   7.285 3.34e-13 ***\n",
       "monKas            -7.001e-01  2.412e-02 -29.026  < 2e-16 ***\n",
       "monMar            -4.633e-01  2.342e-02 -19.779  < 2e-16 ***\n",
       "monMay             6.890e-02  2.327e-02   2.960  0.00308 ** \n",
       "monNis            -2.129e-01  2.354e-02  -9.046  < 2e-16 ***\n",
       "monOca            -9.613e-01  2.365e-02 -40.656  < 2e-16 ***\n",
       "monŞub            -6.648e-01  2.403e-02 -27.663  < 2e-16 ***\n",
       "monTem             1.792e-01  2.321e-02   7.719 1.23e-14 ***\n",
       "as.factor(hour)1  -1.065e-03  3.190e-02  -0.033  0.97337    \n",
       "as.factor(hour)2  -1.198e-03  3.190e-02  -0.038  0.97005    \n",
       "as.factor(hour)3   1.107e-03  3.190e-02   0.035  0.97231    \n",
       "as.factor(hour)4   1.712e-02  3.190e-02   0.537  0.59157    \n",
       "as.factor(hour)5   3.367e-01  3.190e-02  10.554  < 2e-16 ***\n",
       "as.factor(hour)6   1.481e+00  3.190e-02  46.415  < 2e-16 ***\n",
       "as.factor(hour)7   3.040e+00  3.190e-02  95.291  < 2e-16 ***\n",
       "as.factor(hour)8   4.247e+00  3.190e-02 133.136  < 2e-16 ***\n",
       "as.factor(hour)9   4.853e+00  3.190e-02 152.122  < 2e-16 ***\n",
       "as.factor(hour)10  5.153e+00  3.190e-02 161.523  < 2e-16 ***\n",
       "as.factor(hour)11  5.290e+00  3.190e-02 165.809  < 2e-16 ***\n",
       "as.factor(hour)12  5.320e+00  3.190e-02 166.760  < 2e-16 ***\n",
       "as.factor(hour)13  5.269e+00  3.190e-02 165.154  < 2e-16 ***\n",
       "as.factor(hour)14  5.130e+00  3.190e-02 160.797  < 2e-16 ***\n",
       "as.factor(hour)15  4.836e+00  3.190e-02 151.583  < 2e-16 ***\n",
       "as.factor(hour)16  4.271e+00  3.190e-02 133.891  < 2e-16 ***\n",
       "as.factor(hour)17  3.021e+00  3.190e-02  94.702  < 2e-16 ***\n",
       "as.factor(hour)18  1.548e+00  3.190e-02  48.511  < 2e-16 ***\n",
       "as.factor(hour)19  4.362e-01  3.190e-02  13.674  < 2e-16 ***\n",
       "as.factor(hour)20  1.490e-02  3.190e-02   0.467  0.64057    \n",
       "as.factor(hour)21  7.357e-03  3.190e-02   0.231  0.81763    \n",
       "as.factor(hour)22 -3.579e-03  3.190e-02  -0.112  0.91067    \n",
       "as.factor(hour)23 -2.884e-03  3.190e-02  -0.090  0.92797    \n",
       "---\n",
       "Signif. codes:  0 '***' 0.001 '**' 0.01 '*' 0.05 '.' 0.1 ' ' 1\n",
       "\n",
       "Residual standard error: 0.6324 on 18822 degrees of freedom\n",
       "Multiple R-squared:  0.9287,\tAdjusted R-squared:  0.9285 \n",
       "F-statistic:  5976 on 41 and 18822 DF,  p-value: < 2.2e-16\n"
      ]
     },
     "metadata": {},
     "output_type": "display_data"
    }
   ],
   "source": [
    "lm_model <- lm(production~trnd+w_day+mon+as.factor(hour),train_dt)\n",
    "summary(lm_model)"
   ]
  },
  {
   "cell_type": "code",
   "execution_count": 72,
   "id": "585746bb",
   "metadata": {},
   "outputs": [
    {
     "data": {
      "text/html": [
       "<table class=\"dataframe\">\n",
       "<caption>A data.frame: 1 × 10</caption>\n",
       "<thead>\n",
       "\t<tr><th scope=col>n</th><th scope=col>mean</th><th scope=col>sd</th><th scope=col>CV</th><th scope=col>FBias</th><th scope=col>MAPE</th><th scope=col>RMSE</th><th scope=col>MAD</th><th scope=col>MADP</th><th scope=col>WMAPE</th></tr>\n",
       "\t<tr><th scope=col>&lt;int&gt;</th><th scope=col>&lt;dbl&gt;</th><th scope=col>&lt;dbl&gt;</th><th scope=col>&lt;dbl&gt;</th><th scope=col>&lt;dbl&gt;</th><th scope=col>&lt;dbl&gt;</th><th scope=col>&lt;dbl&gt;</th><th scope=col>&lt;dbl&gt;</th><th scope=col>&lt;dbl&gt;</th><th scope=col>&lt;dbl&gt;</th></tr>\n",
       "</thead>\n",
       "<tbody>\n",
       "\t<tr><td>24</td><td>2.124579</td><td>2.475094</td><td>1.164981</td><td>-0.06105456</td><td>Inf</td><td>0.5319069</td><td>0.3046095</td><td>0.1433741</td><td>0.1433741</td></tr>\n",
       "</tbody>\n",
       "</table>\n"
      ],
      "text/latex": [
       "A data.frame: 1 × 10\n",
       "\\begin{tabular}{llllllllll}\n",
       " n & mean & sd & CV & FBias & MAPE & RMSE & MAD & MADP & WMAPE\\\\\n",
       " <int> & <dbl> & <dbl> & <dbl> & <dbl> & <dbl> & <dbl> & <dbl> & <dbl> & <dbl>\\\\\n",
       "\\hline\n",
       "\t 24 & 2.124579 & 2.475094 & 1.164981 & -0.06105456 & Inf & 0.5319069 & 0.3046095 & 0.1433741 & 0.1433741\\\\\n",
       "\\end{tabular}\n"
      ],
      "text/markdown": [
       "\n",
       "A data.frame: 1 × 10\n",
       "\n",
       "| n &lt;int&gt; | mean &lt;dbl&gt; | sd &lt;dbl&gt; | CV &lt;dbl&gt; | FBias &lt;dbl&gt; | MAPE &lt;dbl&gt; | RMSE &lt;dbl&gt; | MAD &lt;dbl&gt; | MADP &lt;dbl&gt; | WMAPE &lt;dbl&gt; |\n",
       "|---|---|---|---|---|---|---|---|---|---|\n",
       "| 24 | 2.124579 | 2.475094 | 1.164981 | -0.06105456 | Inf | 0.5319069 | 0.3046095 | 0.1433741 | 0.1433741 |\n",
       "\n"
      ],
      "text/plain": [
       "  n  mean     sd       CV       FBias       MAPE RMSE      MAD       MADP     \n",
       "1 24 2.124579 2.475094 1.164981 -0.06105456 Inf  0.5319069 0.3046095 0.1433741\n",
       "  WMAPE    \n",
       "1 0.1433741"
      ]
     },
     "metadata": {},
     "output_type": "display_data"
    }
   ],
   "source": [
    "test_pred1 <- predict(lm_model,test_dt)\n",
    "accu(test_dt$production,test_pred1)"
   ]
  },
  {
   "cell_type": "markdown",
   "id": "2d94292a",
   "metadata": {},
   "source": [
    "The first model has a R-squared value of 0.9285 which is good for a base learner. The base model has WMAPE value of 0.1433 on the test data. To improve the model, a decision tree will be construct on residuals to find the highest residual nodes."
   ]
  },
  {
   "cell_type": "code",
   "execution_count": 73,
   "id": "6b1f6799",
   "metadata": {},
   "outputs": [
    {
     "name": "stdout",
     "output_type": "stream",
     "text": [
      "\n",
      " node number: 31 \n",
      "   root\n",
      "   lag_48>=2.238\n",
      "   pca2< 178.4\n",
      "   hour>=16.5\n",
      "   mon=Ağu,Haz,Mar,May,Nis,Tem\n"
     ]
    }
   ],
   "source": [
    "f_count <- 1\n",
    "residuals <- lm_model$residuals\n",
    "tree_learner <- rpart(residuals~.-date-production,\n",
    "                       data=train_dt,\n",
    "                       control=rpart.control(cp=0,maxdepth=4))\n",
    "best_node <- as.numeric(rownames(tree_learner$frame[which.max(abs(tree_learner[[1]]$yval)),]))\n",
    "b <- path.rpart(tree_learner,best_node)\n",
    "depth <- length(b[[1]])\n",
    "for(i in 2:depth){\n",
    "    if(startsWith(b[[1]][i],\"mon\") | startsWith(b[[1]][i],\"w_day\")){\n",
    "        f_count <- f_count+1\n",
    "        next\n",
    "    }\n",
    "    train_dt[,paste(\"fltr\",as.character(f_count),sep=\"\"):=as.numeric(eval(parse(text = b[[1]][i])))]\n",
    "    test_dt[,paste(\"fltr\",as.character(f_count),sep=\"\"):=as.numeric(eval(parse(text = b[[1]][i])))]\n",
    "    dt[,paste(\"fltr\",as.character(f_count),sep=\"\"):=as.numeric(eval(parse(text = b[[1]][i])))]\n",
    "    f_count <- f_count+1\n",
    "}"
   ]
  },
  {
   "cell_type": "markdown",
   "id": "fdf8bba9",
   "metadata": {},
   "source": [
    "The 31th node is has the highest residual value, so its split information added to the data's feature space. The code above is fitting a tree and adding the split information as variables to the data automatically. However, for splits on month or weekday information, feature generation is handled manually as seen below."
   ]
  },
  {
   "cell_type": "code",
   "execution_count": 74,
   "id": "1ffe22b2",
   "metadata": {},
   "outputs": [],
   "source": [
    "train_dt[,fltr4:=as.numeric(mon %in% c(\"Ağu\",\"Haz\",\"Mar\",\"May\",\"Nis\",\"Tem\"))]\n",
    "test_dt[,fltr4:=as.numeric(mon %in% c(\"Ağu\",\"Haz\",\"Mar\",\"May\",\"Nis\",\"Tem\"))]\n",
    "dt[,fltr4:=as.numeric(mon %in% c(\"Ağu\",\"Haz\",\"Mar\",\"May\",\"Nis\",\"Tem\"))]"
   ]
  },
  {
   "cell_type": "code",
   "execution_count": 75,
   "id": "518e62c7",
   "metadata": {
    "scrolled": true
   },
   "outputs": [
    {
     "data": {
      "text/plain": [
       "\n",
       "Call:\n",
       "lm(formula = production ~ trnd + w_day + mon + as.factor(hour) + \n",
       "    fltr1:fltr2:fltr3:fltr4, data = train_dt)\n",
       "\n",
       "Residuals:\n",
       "    Min      1Q  Median      3Q     Max \n",
       "-3.6294 -0.3151  0.0253  0.3473  2.1955 \n",
       "\n",
       "Coefficients:\n",
       "                          Estimate Std. Error t value Pr(>|t|)    \n",
       "(Intercept)              1.992e-01  2.981e-02   6.682 2.43e-11 ***\n",
       "trnd                     5.789e-06  8.398e-07   6.893 5.62e-12 ***\n",
       "w_dayCum                -9.062e-03  1.611e-02  -0.562  0.57390    \n",
       "w_dayÇar                 2.015e-03  1.608e-02   0.125  0.90032    \n",
       "w_dayPaz                 3.581e-02  1.612e-02   2.222  0.02630 *  \n",
       "w_dayPer                 8.457e-03  1.612e-02   0.525  0.59982    \n",
       "w_dayPzt                 2.719e-03  1.612e-02   0.169  0.86605    \n",
       "w_daySal                 2.473e-02  1.609e-02   1.537  0.12433    \n",
       "monAra                  -9.251e-01  2.236e-02 -41.381  < 2e-16 ***\n",
       "monEki                  -2.665e-01  2.031e-02 -13.122  < 2e-16 ***\n",
       "monEyl                  -5.773e-02  2.037e-02  -2.835  0.00459 ** \n",
       "monHaz                   2.024e-01  2.188e-02   9.251  < 2e-16 ***\n",
       "monKas                  -5.653e-01  2.267e-02 -24.937  < 2e-16 ***\n",
       "monMar                  -3.581e-01  2.197e-02 -16.300  < 2e-16 ***\n",
       "monMay                   1.041e-01  2.175e-02   4.789 1.69e-06 ***\n",
       "monNis                  -1.204e-01  2.206e-02  -5.461 4.80e-08 ***\n",
       "monOca                  -8.273e-01  2.223e-02 -37.218  < 2e-16 ***\n",
       "monŞub                  -5.309e-01  2.259e-02 -23.505  < 2e-16 ***\n",
       "monTem                   1.671e-01  2.168e-02   7.706 1.36e-14 ***\n",
       "as.factor(hour)1        -1.065e-03  2.979e-02  -0.036  0.97148    \n",
       "as.factor(hour)2        -1.198e-03  2.979e-02  -0.040  0.96791    \n",
       "as.factor(hour)3         1.106e-03  2.979e-02   0.037  0.97038    \n",
       "as.factor(hour)4         1.712e-02  2.979e-02   0.574  0.56564    \n",
       "as.factor(hour)5         3.367e-01  2.979e-02  11.301  < 2e-16 ***\n",
       "as.factor(hour)6         1.481e+00  2.979e-02  49.699  < 2e-16 ***\n",
       "as.factor(hour)7         3.040e+00  2.979e-02 102.035  < 2e-16 ***\n",
       "as.factor(hour)8         4.247e+00  2.979e-02 142.558  < 2e-16 ***\n",
       "as.factor(hour)9         4.853e+00  2.979e-02 162.887  < 2e-16 ***\n",
       "as.factor(hour)10        5.153e+00  2.979e-02 172.954  < 2e-16 ***\n",
       "as.factor(hour)11        5.290e+00  2.979e-02 177.543  < 2e-16 ***\n",
       "as.factor(hour)12        5.320e+00  2.979e-02 178.561  < 2e-16 ***\n",
       "as.factor(hour)13        5.269e+00  2.979e-02 176.841  < 2e-16 ***\n",
       "as.factor(hour)14        5.130e+00  2.979e-02 172.175  < 2e-16 ***\n",
       "as.factor(hour)15        4.836e+00  2.979e-02 162.310  < 2e-16 ***\n",
       "as.factor(hour)16        4.271e+00  2.979e-02 143.366  < 2e-16 ***\n",
       "as.factor(hour)17        2.491e+00  3.146e-02  79.172  < 2e-16 ***\n",
       "as.factor(hour)18        1.060e+00  3.121e-02  33.966  < 2e-16 ***\n",
       "as.factor(hour)19        4.317e-01  2.979e-02  14.490  < 2e-16 ***\n",
       "as.factor(hour)20        1.489e-02  2.979e-02   0.500  0.61730    \n",
       "as.factor(hour)21        7.348e-03  2.979e-02   0.247  0.80520    \n",
       "as.factor(hour)22       -3.588e-03  2.979e-02  -0.120  0.90415    \n",
       "as.factor(hour)23       -2.893e-03  2.979e-02  -0.097  0.92265    \n",
       "fltr1:fltr2:fltr3:fltr4  1.774e+00  3.378e-02  52.528  < 2e-16 ***\n",
       "---\n",
       "Signif. codes:  0 '***' 0.001 '**' 0.01 '*' 0.05 '.' 0.1 ' ' 1\n",
       "\n",
       "Residual standard error: 0.5907 on 18821 degrees of freedom\n",
       "Multiple R-squared:  0.9378,\tAdjusted R-squared:  0.9376 \n",
       "F-statistic:  6754 on 42 and 18821 DF,  p-value: < 2.2e-16\n"
      ]
     },
     "metadata": {},
     "output_type": "display_data"
    }
   ],
   "source": [
    "lm_model2 <- lm(production~trnd+w_day+mon+as.factor(hour)+\n",
    "                fltr1:fltr2:fltr3:fltr4\n",
    "                ,train_dt)\n",
    "summary(lm_model2)"
   ]
  },
  {
   "cell_type": "code",
   "execution_count": 76,
   "id": "16ea9e95",
   "metadata": {},
   "outputs": [
    {
     "data": {
      "text/html": [
       "<table class=\"dataframe\">\n",
       "<caption>A data.frame: 1 × 10</caption>\n",
       "<thead>\n",
       "\t<tr><th scope=col>n</th><th scope=col>mean</th><th scope=col>sd</th><th scope=col>CV</th><th scope=col>FBias</th><th scope=col>MAPE</th><th scope=col>RMSE</th><th scope=col>MAD</th><th scope=col>MADP</th><th scope=col>WMAPE</th></tr>\n",
       "\t<tr><th scope=col>&lt;int&gt;</th><th scope=col>&lt;dbl&gt;</th><th scope=col>&lt;dbl&gt;</th><th scope=col>&lt;dbl&gt;</th><th scope=col>&lt;dbl&gt;</th><th scope=col>&lt;dbl&gt;</th><th scope=col>&lt;dbl&gt;</th><th scope=col>&lt;dbl&gt;</th><th scope=col>&lt;dbl&gt;</th><th scope=col>&lt;dbl&gt;</th></tr>\n",
       "</thead>\n",
       "<tbody>\n",
       "\t<tr><td>24</td><td>2.124579</td><td>2.475094</td><td>1.164981</td><td>-0.06412853</td><td>Inf</td><td>0.4303376</td><td>0.2784757</td><td>0.1310734</td><td>0.1310734</td></tr>\n",
       "</tbody>\n",
       "</table>\n"
      ],
      "text/latex": [
       "A data.frame: 1 × 10\n",
       "\\begin{tabular}{llllllllll}\n",
       " n & mean & sd & CV & FBias & MAPE & RMSE & MAD & MADP & WMAPE\\\\\n",
       " <int> & <dbl> & <dbl> & <dbl> & <dbl> & <dbl> & <dbl> & <dbl> & <dbl> & <dbl>\\\\\n",
       "\\hline\n",
       "\t 24 & 2.124579 & 2.475094 & 1.164981 & -0.06412853 & Inf & 0.4303376 & 0.2784757 & 0.1310734 & 0.1310734\\\\\n",
       "\\end{tabular}\n"
      ],
      "text/markdown": [
       "\n",
       "A data.frame: 1 × 10\n",
       "\n",
       "| n &lt;int&gt; | mean &lt;dbl&gt; | sd &lt;dbl&gt; | CV &lt;dbl&gt; | FBias &lt;dbl&gt; | MAPE &lt;dbl&gt; | RMSE &lt;dbl&gt; | MAD &lt;dbl&gt; | MADP &lt;dbl&gt; | WMAPE &lt;dbl&gt; |\n",
       "|---|---|---|---|---|---|---|---|---|---|\n",
       "| 24 | 2.124579 | 2.475094 | 1.164981 | -0.06412853 | Inf | 0.4303376 | 0.2784757 | 0.1310734 | 0.1310734 |\n",
       "\n"
      ],
      "text/plain": [
       "  n  mean     sd       CV       FBias       MAPE RMSE      MAD       MADP     \n",
       "1 24 2.124579 2.475094 1.164981 -0.06412853 Inf  0.4303376 0.2784757 0.1310734\n",
       "  WMAPE    \n",
       "1 0.1310734"
      ]
     },
     "metadata": {},
     "output_type": "display_data"
    }
   ],
   "source": [
    "test_pred2 <- predict(lm_model2,test_dt)\n",
    "accu(test_dt$production,test_pred2)"
   ]
  },
  {
   "cell_type": "markdown",
   "id": "360900c8",
   "metadata": {},
   "source": [
    "After adding these 4 filters to the data, new linear model's R-squared value is increased to 0.9376 and the new model has WMAPE value of 0.1310. To improve more, another decisions tree will be constructed to learn from the residuals."
   ]
  },
  {
   "cell_type": "code",
   "execution_count": 77,
   "id": "b5392238",
   "metadata": {},
   "outputs": [
    {
     "name": "stdout",
     "output_type": "stream",
     "text": [
      "\n",
      " node number: 16 \n",
      "   root\n",
      "   lag_48< 1.229\n",
      "   lag_48>=0.01612\n",
      "   mon=Ara,Eki,Kas,Oca,Şub\n",
      "   hour< 18.5\n"
     ]
    }
   ],
   "source": [
    "residuals <- lm_model2$residuals\n",
    "tree_learner <- rpart(residuals~.-date-production,\n",
    "                       data=train_dt,\n",
    "                       control=rpart.control(cp=0,maxdepth=4))\n",
    "best_node <- as.numeric(rownames(tree_learner$frame[which.max(abs(tree_learner[[1]]$yval)),]))\n",
    "b <- path.rpart(tree_learner,best_node)\n",
    "depth <- length(b[[1]])\n",
    "for(i in 2:depth){\n",
    "    if(startsWith(b[[1]][i],\"mon\") | startsWith(b[[1]][i],\"w_day\")){\n",
    "        f_count <- f_count+1\n",
    "        next\n",
    "    }\n",
    "    train_dt[,paste(\"fltr\",as.character(f_count),sep=\"\"):=as.numeric(eval(parse(text = b[[1]][i])))]\n",
    "    test_dt[,paste(\"fltr\",as.character(f_count),sep=\"\"):=as.numeric(eval(parse(text = b[[1]][i])))]\n",
    "    dt[,paste(\"fltr\",as.character(f_count),sep=\"\"):=as.numeric(eval(parse(text = b[[1]][i])))]\n",
    "    f_count <- f_count+1\n",
    "}"
   ]
  },
  {
   "cell_type": "markdown",
   "id": "9c2c2533",
   "metadata": {},
   "source": [
    "The node with highest value is 16th node. Split information is added to data as new features."
   ]
  },
  {
   "cell_type": "code",
   "execution_count": 78,
   "id": "817b62a0",
   "metadata": {},
   "outputs": [],
   "source": [
    "train_dt[,fltr7:=as.numeric(mon %in% c(\"Ara\",\"Eki\",\"Kas\",\"Oca\",\"Şub\"))]\n",
    "test_dt[,fltr7:=as.numeric(mon %in% c(\"Ara\",\"Eki\",\"Kas\",\"Oca\",\"Şub\"))]\n",
    "dt[,fltr7:=as.numeric(mon %in% c(\"Ara\",\"Eki\",\"Kas\",\"Oca\",\"Şub\"))]"
   ]
  },
  {
   "cell_type": "code",
   "execution_count": 79,
   "id": "aeb446de",
   "metadata": {
    "scrolled": true
   },
   "outputs": [
    {
     "data": {
      "text/plain": [
       "\n",
       "Call:\n",
       "lm(formula = production ~ trnd + w_day + mon + as.factor(hour) + \n",
       "    fltr1:fltr2:fltr3:fltr4 + fltr5:fltr6:fltr7:fltr8, data = train_dt)\n",
       "\n",
       "Residuals:\n",
       "    Min      1Q  Median      3Q     Max \n",
       "-3.7102 -0.2674  0.0231  0.3172  2.3411 \n",
       "\n",
       "Coefficients:\n",
       "                          Estimate Std. Error t value Pr(>|t|)    \n",
       "(Intercept)              1.785e-01  2.726e-02   6.549 5.94e-11 ***\n",
       "trnd                     5.155e-06  7.680e-07   6.712 1.98e-11 ***\n",
       "w_dayCum                -1.584e-02  1.474e-02  -1.075   0.2825    \n",
       "w_dayÇar                 1.115e-03  1.471e-02   0.076   0.9396    \n",
       "w_dayPaz                 3.654e-02  1.474e-02   2.480   0.0132 *  \n",
       "w_dayPer                 4.443e-03  1.474e-02   0.301   0.7631    \n",
       "w_dayPzt                -6.432e-03  1.474e-02  -0.436   0.6626    \n",
       "w_daySal                 2.008e-02  1.471e-02   1.365   0.1723    \n",
       "monAra                  -7.888e-01  2.057e-02 -38.353  < 2e-16 ***\n",
       "monEki                  -1.730e-01  1.863e-02  -9.287  < 2e-16 ***\n",
       "monEyl                  -8.335e-02  1.863e-02  -4.474 7.72e-06 ***\n",
       "monHaz                   1.961e-01  2.001e-02   9.797  < 2e-16 ***\n",
       "monKas                  -4.487e-01  2.082e-02 -21.551  < 2e-16 ***\n",
       "monMar                  -3.786e-01  2.009e-02 -18.845  < 2e-16 ***\n",
       "monMay                   9.652e-02  1.989e-02   4.853 1.22e-06 ***\n",
       "monNis                  -1.385e-01  2.017e-02  -6.866 6.83e-12 ***\n",
       "monOca                  -6.989e-01  2.044e-02 -34.196  < 2e-16 ***\n",
       "monŞub                  -4.334e-01  2.072e-02 -20.919  < 2e-16 ***\n",
       "monTem                   1.687e-01  1.982e-02   8.510  < 2e-16 ***\n",
       "as.factor(hour)1        -1.065e-03  2.725e-02  -0.039   0.9688    \n",
       "as.factor(hour)2        -6.410e-03  2.725e-02  -0.235   0.8140    \n",
       "as.factor(hour)3         2.846e-03  2.725e-02   0.104   0.9168    \n",
       "as.factor(hour)4         1.886e-02  2.725e-02   0.692   0.4889    \n",
       "as.factor(hour)5         4.357e-01  2.729e-02  15.965  < 2e-16 ***\n",
       "as.factor(hour)6         1.886e+00  2.805e-02  67.226  < 2e-16 ***\n",
       "as.factor(hour)7         3.278e+00  2.753e-02 119.092  < 2e-16 ***\n",
       "as.factor(hour)8         4.258e+00  2.725e-02 156.275  < 2e-16 ***\n",
       "as.factor(hour)9         4.848e+00  2.725e-02 177.935  < 2e-16 ***\n",
       "as.factor(hour)10        5.143e+00  2.725e-02 188.749  < 2e-16 ***\n",
       "as.factor(hour)11        5.279e+00  2.725e-02 193.767  < 2e-16 ***\n",
       "as.factor(hour)12        5.310e+00  2.725e-02 194.881  < 2e-16 ***\n",
       "as.factor(hour)13        5.258e+00  2.725e-02 193.000  < 2e-16 ***\n",
       "as.factor(hour)14        5.119e+00  2.725e-02 187.898  < 2e-16 ***\n",
       "as.factor(hour)15        4.826e+00  2.725e-02 177.110  < 2e-16 ***\n",
       "as.factor(hour)16        4.273e+00  2.725e-02 156.843  < 2e-16 ***\n",
       "as.factor(hour)17        2.829e+00  2.930e-02  96.556  < 2e-16 ***\n",
       "as.factor(hour)18        1.424e+00  2.916e-02  48.839  < 2e-16 ***\n",
       "as.factor(hour)19        4.221e-01  2.725e-02  15.492  < 2e-16 ***\n",
       "as.factor(hour)20        4.474e-03  2.725e-02   0.164   0.8696    \n",
       "as.factor(hour)21       -3.065e-03  2.725e-02  -0.112   0.9104    \n",
       "as.factor(hour)22       -1.400e-02  2.725e-02  -0.514   0.6074    \n",
       "as.factor(hour)23       -1.330e-02  2.725e-02  -0.488   0.6253    \n",
       "fltr1:fltr2:fltr3:fltr4  1.461e+00  3.132e-02  46.648  < 2e-16 ***\n",
       "fltr5:fltr6:fltr7:fltr8 -1.366e+00  2.249e-02 -60.725  < 2e-16 ***\n",
       "---\n",
       "Signif. codes:  0 '***' 0.001 '**' 0.01 '*' 0.05 '.' 0.1 ' ' 1\n",
       "\n",
       "Residual standard error: 0.5401 on 18820 degrees of freedom\n",
       "Multiple R-squared:  0.948,\tAdjusted R-squared:  0.9479 \n",
       "F-statistic:  7975 on 43 and 18820 DF,  p-value: < 2.2e-16\n"
      ]
     },
     "metadata": {},
     "output_type": "display_data"
    }
   ],
   "source": [
    "lm_model3 <- lm(production~trnd+w_day+mon+as.factor(hour)+\n",
    "                fltr1:fltr2:fltr3:fltr4+\n",
    "                fltr5:fltr6:fltr7:fltr8\n",
    "                ,train_dt)\n",
    "summary(lm_model3)"
   ]
  },
  {
   "cell_type": "code",
   "execution_count": 80,
   "id": "2d6fdade",
   "metadata": {},
   "outputs": [
    {
     "data": {
      "text/html": [
       "<table class=\"dataframe\">\n",
       "<caption>A data.frame: 1 × 10</caption>\n",
       "<thead>\n",
       "\t<tr><th scope=col>n</th><th scope=col>mean</th><th scope=col>sd</th><th scope=col>CV</th><th scope=col>FBias</th><th scope=col>MAPE</th><th scope=col>RMSE</th><th scope=col>MAD</th><th scope=col>MADP</th><th scope=col>WMAPE</th></tr>\n",
       "\t<tr><th scope=col>&lt;int&gt;</th><th scope=col>&lt;dbl&gt;</th><th scope=col>&lt;dbl&gt;</th><th scope=col>&lt;dbl&gt;</th><th scope=col>&lt;dbl&gt;</th><th scope=col>&lt;dbl&gt;</th><th scope=col>&lt;dbl&gt;</th><th scope=col>&lt;dbl&gt;</th><th scope=col>&lt;dbl&gt;</th><th scope=col>&lt;dbl&gt;</th></tr>\n",
       "</thead>\n",
       "<tbody>\n",
       "\t<tr><td>24</td><td>2.124579</td><td>2.475094</td><td>1.164981</td><td>-0.06536037</td><td>Inf</td><td>0.3891039</td><td>0.2495588</td><td>0.1174627</td><td>0.1174627</td></tr>\n",
       "</tbody>\n",
       "</table>\n"
      ],
      "text/latex": [
       "A data.frame: 1 × 10\n",
       "\\begin{tabular}{llllllllll}\n",
       " n & mean & sd & CV & FBias & MAPE & RMSE & MAD & MADP & WMAPE\\\\\n",
       " <int> & <dbl> & <dbl> & <dbl> & <dbl> & <dbl> & <dbl> & <dbl> & <dbl> & <dbl>\\\\\n",
       "\\hline\n",
       "\t 24 & 2.124579 & 2.475094 & 1.164981 & -0.06536037 & Inf & 0.3891039 & 0.2495588 & 0.1174627 & 0.1174627\\\\\n",
       "\\end{tabular}\n"
      ],
      "text/markdown": [
       "\n",
       "A data.frame: 1 × 10\n",
       "\n",
       "| n &lt;int&gt; | mean &lt;dbl&gt; | sd &lt;dbl&gt; | CV &lt;dbl&gt; | FBias &lt;dbl&gt; | MAPE &lt;dbl&gt; | RMSE &lt;dbl&gt; | MAD &lt;dbl&gt; | MADP &lt;dbl&gt; | WMAPE &lt;dbl&gt; |\n",
       "|---|---|---|---|---|---|---|---|---|---|\n",
       "| 24 | 2.124579 | 2.475094 | 1.164981 | -0.06536037 | Inf | 0.3891039 | 0.2495588 | 0.1174627 | 0.1174627 |\n",
       "\n"
      ],
      "text/plain": [
       "  n  mean     sd       CV       FBias       MAPE RMSE      MAD       MADP     \n",
       "1 24 2.124579 2.475094 1.164981 -0.06536037 Inf  0.3891039 0.2495588 0.1174627\n",
       "  WMAPE    \n",
       "1 0.1174627"
      ]
     },
     "metadata": {},
     "output_type": "display_data"
    }
   ],
   "source": [
    "test_pred3 <- predict(lm_model3,test_dt)\n",
    "accu(test_dt$production,test_pred3)"
   ]
  },
  {
   "cell_type": "markdown",
   "id": "e36bd205",
   "metadata": {},
   "source": [
    "After the filter variables, model has a R-squared value of 0.9479 and WMAPE value is improved to 0.1174. Since the R-squared and WMAPE are improved, another decision tree could be constructed."
   ]
  },
  {
   "cell_type": "code",
   "execution_count": 81,
   "id": "21f4f48d",
   "metadata": {},
   "outputs": [
    {
     "name": "stdout",
     "output_type": "stream",
     "text": [
      "\n",
      " node number: 16 \n",
      "   root\n",
      "   pca2>=406\n",
      "   lag_48>=0.1298\n",
      "   pca1< 55.64\n",
      "   mon=Ara,Eyl,Kas,Oca,Şub\n"
     ]
    }
   ],
   "source": [
    "residuals <- lm_model3$residuals\n",
    "tree_learner <- rpart(residuals~.-date-production,\n",
    "                       data=train_dt,\n",
    "                       control=rpart.control(cp=0,maxdepth=4))\n",
    "best_node <- as.numeric(rownames(tree_learner$frame[which.max(abs(tree_learner[[1]]$yval)),]))\n",
    "b <- path.rpart(tree_learner,best_node)\n",
    "depth <- length(b[[1]])\n",
    "for(i in 2:depth){\n",
    "    if(startsWith(b[[1]][i],\"mon\") | startsWith(b[[1]][i],\"w_day\")){\n",
    "        f_count <- f_count+1\n",
    "        next\n",
    "    }\n",
    "    train_dt[,paste(\"fltr\",as.character(f_count),sep=\"\"):=as.numeric(eval(parse(text = b[[1]][i])))]\n",
    "    test_dt[,paste(\"fltr\",as.character(f_count),sep=\"\"):=as.numeric(eval(parse(text = b[[1]][i])))]\n",
    "    dt[,paste(\"fltr\",as.character(f_count),sep=\"\"):=as.numeric(eval(parse(text = b[[1]][i])))]\n",
    "    f_count <- f_count+1\n",
    "}"
   ]
  },
  {
   "cell_type": "markdown",
   "id": "8603e8db",
   "metadata": {},
   "source": [
    "The 16th node has the highest residual, thus its split information added to the data as filter variables, again."
   ]
  },
  {
   "cell_type": "code",
   "execution_count": 82,
   "id": "b6503374",
   "metadata": {},
   "outputs": [],
   "source": [
    "train_dt[,fltr12:=as.numeric(mon %in% c(\"Ara\",\"Eyl\",\"Kas\",\"Oca\",\"Şub\"))]\n",
    "test_dt[,fltr12:=as.numeric(mon %in% c(\"Ara\",\"Eyl\",\"Kas\",\"Oca\",\"Şub\"))]\n",
    "dt[,fltr12:=as.numeric(mon %in% c(\"Ara\",\"Eyl\",\"Kas\",\"Oca\",\"Şub\"))]"
   ]
  },
  {
   "cell_type": "code",
   "execution_count": 83,
   "id": "ac999a9d",
   "metadata": {
    "scrolled": true
   },
   "outputs": [
    {
     "data": {
      "text/plain": [
       "\n",
       "Call:\n",
       "lm(formula = production ~ trnd + w_day + mon + as.factor(hour) + \n",
       "    fltr1:fltr2:fltr3:fltr4 + fltr5:fltr6:fltr7:fltr8 + fltr9:fltr10:fltr11:fltr12, \n",
       "    data = train_dt)\n",
       "\n",
       "Residuals:\n",
       "     Min       1Q   Median       3Q      Max \n",
       "-2.95951 -0.25158  0.01102  0.28737  2.94857 \n",
       "\n",
       "Coefficients:\n",
       "                             Estimate Std. Error t value Pr(>|t|)    \n",
       "(Intercept)                 1.615e-01  2.540e-02   6.356 2.12e-10 ***\n",
       "trnd                        4.090e-06  7.158e-07   5.714 1.12e-08 ***\n",
       "w_dayCum                   -6.703e-03  1.373e-02  -0.488   0.6254    \n",
       "w_dayÇar                    2.204e-03  1.370e-02   0.161   0.8722    \n",
       "w_dayPaz                    2.985e-02  1.373e-02   2.174   0.0297 *  \n",
       "w_dayPer                    9.560e-03  1.373e-02   0.696   0.4864    \n",
       "w_dayPzt                   -1.991e-02  1.374e-02  -1.449   0.1473    \n",
       "w_daySal                    2.087e-02  1.371e-02   1.523   0.1278    \n",
       "monAra                     -6.314e-01  1.939e-02 -32.572  < 2e-16 ***\n",
       "monEki                     -1.821e-01  1.736e-02 -10.487  < 2e-16 ***\n",
       "monEyl                     -7.991e-02  1.736e-02  -4.604 4.17e-06 ***\n",
       "monHaz                      1.941e-01  1.864e-02  10.412  < 2e-16 ***\n",
       "monKas                     -4.010e-01  1.942e-02 -20.652  < 2e-16 ***\n",
       "monMar                     -3.824e-01  1.872e-02 -20.427  < 2e-16 ***\n",
       "monMay                      9.391e-02  1.853e-02   5.068 4.05e-07 ***\n",
       "monNis                     -1.423e-01  1.879e-02  -7.573 3.83e-14 ***\n",
       "monOca                     -5.928e-01  1.914e-02 -30.963  < 2e-16 ***\n",
       "monŞub                     -3.700e-01  1.934e-02 -19.132  < 2e-16 ***\n",
       "monTem                      1.668e-01  1.847e-02   9.029  < 2e-16 ***\n",
       "as.factor(hour)1           -1.064e-03  2.538e-02  -0.042   0.9666    \n",
       "as.factor(hour)2           -6.186e-03  2.538e-02  -0.244   0.8075    \n",
       "as.factor(hour)3            2.775e-03  2.538e-02   0.109   0.9129    \n",
       "as.factor(hour)4            2.045e-02  2.538e-02   0.806   0.4204    \n",
       "as.factor(hour)5            4.382e-01  2.543e-02  17.231  < 2e-16 ***\n",
       "as.factor(hour)6            1.898e+00  2.613e-02  72.639  < 2e-16 ***\n",
       "as.factor(hour)7            3.350e+00  2.568e-02 130.432  < 2e-16 ***\n",
       "as.factor(hour)8            4.347e+00  2.544e-02 170.885  < 2e-16 ***\n",
       "as.factor(hour)9            4.943e+00  2.545e-02 194.250  < 2e-16 ***\n",
       "as.factor(hour)10           5.240e+00  2.545e-02 205.882  < 2e-16 ***\n",
       "as.factor(hour)11           5.360e+00  2.543e-02 210.769  < 2e-16 ***\n",
       "as.factor(hour)12           5.362e+00  2.540e-02 211.063  < 2e-16 ***\n",
       "as.factor(hour)13           5.299e+00  2.540e-02 208.648  < 2e-16 ***\n",
       "as.factor(hour)14           5.155e+00  2.539e-02 202.999  < 2e-16 ***\n",
       "as.factor(hour)15           4.863e+00  2.539e-02 191.483  < 2e-16 ***\n",
       "as.factor(hour)16           4.355e+00  2.543e-02 171.243  < 2e-16 ***\n",
       "as.factor(hour)17           2.887e+00  2.732e-02 105.675  < 2e-16 ***\n",
       "as.factor(hour)18           1.418e+00  2.717e-02  52.178  < 2e-16 ***\n",
       "as.factor(hour)19           4.275e-01  2.539e-02  16.842  < 2e-16 ***\n",
       "as.factor(hour)20           4.939e-03  2.538e-02   0.195   0.8457    \n",
       "as.factor(hour)21          -2.599e-03  2.538e-02  -0.102   0.9185    \n",
       "as.factor(hour)22          -1.353e-02  2.538e-02  -0.533   0.5940    \n",
       "as.factor(hour)23          -1.284e-02  2.538e-02  -0.506   0.6131    \n",
       "fltr1:fltr2:fltr3:fltr4     1.466e+00  2.918e-02  50.240  < 2e-16 ***\n",
       "fltr5:fltr6:fltr7:fltr8    -1.308e+00  2.098e-02 -62.319  < 2e-16 ***\n",
       "fltr9:fltr10:fltr11:fltr12 -1.308e+00  2.446e-02 -53.493  < 2e-16 ***\n",
       "---\n",
       "Signif. codes:  0 '***' 0.001 '**' 0.01 '*' 0.05 '.' 0.1 ' ' 1\n",
       "\n",
       "Residual standard error: 0.5032 on 18819 degrees of freedom\n",
       "Multiple R-squared:  0.9548,\tAdjusted R-squared:  0.9547 \n",
       "F-statistic:  9044 on 44 and 18819 DF,  p-value: < 2.2e-16\n"
      ]
     },
     "metadata": {},
     "output_type": "display_data"
    }
   ],
   "source": [
    "lm_model4 <- lm(production~trnd+w_day+mon+as.factor(hour)+\n",
    "                fltr1:fltr2:fltr3:fltr4+\n",
    "                fltr5:fltr6:fltr7:fltr8+\n",
    "                fltr9:fltr10:fltr11:fltr12\n",
    "                ,train_dt)\n",
    "summary(lm_model4)"
   ]
  },
  {
   "cell_type": "code",
   "execution_count": 84,
   "id": "6167ceac",
   "metadata": {},
   "outputs": [
    {
     "data": {
      "text/html": [
       "<table class=\"dataframe\">\n",
       "<caption>A data.frame: 1 × 10</caption>\n",
       "<thead>\n",
       "\t<tr><th scope=col>n</th><th scope=col>mean</th><th scope=col>sd</th><th scope=col>CV</th><th scope=col>FBias</th><th scope=col>MAPE</th><th scope=col>RMSE</th><th scope=col>MAD</th><th scope=col>MADP</th><th scope=col>WMAPE</th></tr>\n",
       "\t<tr><th scope=col>&lt;int&gt;</th><th scope=col>&lt;dbl&gt;</th><th scope=col>&lt;dbl&gt;</th><th scope=col>&lt;dbl&gt;</th><th scope=col>&lt;dbl&gt;</th><th scope=col>&lt;dbl&gt;</th><th scope=col>&lt;dbl&gt;</th><th scope=col>&lt;dbl&gt;</th><th scope=col>&lt;dbl&gt;</th><th scope=col>&lt;dbl&gt;</th></tr>\n",
       "</thead>\n",
       "<tbody>\n",
       "\t<tr><td>24</td><td>2.124579</td><td>2.475094</td><td>1.164981</td><td>-0.06067473</td><td>Inf</td><td>0.3715831</td><td>0.2257848</td><td>0.1062728</td><td>0.1062728</td></tr>\n",
       "</tbody>\n",
       "</table>\n"
      ],
      "text/latex": [
       "A data.frame: 1 × 10\n",
       "\\begin{tabular}{llllllllll}\n",
       " n & mean & sd & CV & FBias & MAPE & RMSE & MAD & MADP & WMAPE\\\\\n",
       " <int> & <dbl> & <dbl> & <dbl> & <dbl> & <dbl> & <dbl> & <dbl> & <dbl> & <dbl>\\\\\n",
       "\\hline\n",
       "\t 24 & 2.124579 & 2.475094 & 1.164981 & -0.06067473 & Inf & 0.3715831 & 0.2257848 & 0.1062728 & 0.1062728\\\\\n",
       "\\end{tabular}\n"
      ],
      "text/markdown": [
       "\n",
       "A data.frame: 1 × 10\n",
       "\n",
       "| n &lt;int&gt; | mean &lt;dbl&gt; | sd &lt;dbl&gt; | CV &lt;dbl&gt; | FBias &lt;dbl&gt; | MAPE &lt;dbl&gt; | RMSE &lt;dbl&gt; | MAD &lt;dbl&gt; | MADP &lt;dbl&gt; | WMAPE &lt;dbl&gt; |\n",
       "|---|---|---|---|---|---|---|---|---|---|\n",
       "| 24 | 2.124579 | 2.475094 | 1.164981 | -0.06067473 | Inf | 0.3715831 | 0.2257848 | 0.1062728 | 0.1062728 |\n",
       "\n"
      ],
      "text/plain": [
       "  n  mean     sd       CV       FBias       MAPE RMSE      MAD       MADP     \n",
       "1 24 2.124579 2.475094 1.164981 -0.06067473 Inf  0.3715831 0.2257848 0.1062728\n",
       "  WMAPE    \n",
       "1 0.1062728"
      ]
     },
     "metadata": {},
     "output_type": "display_data"
    }
   ],
   "source": [
    "test_pred4 <- predict(lm_model4,test_dt)\n",
    "accu(test_dt$production,test_pred4)"
   ]
  },
  {
   "cell_type": "code",
   "execution_count": 85,
   "id": "02586802",
   "metadata": {},
   "outputs": [
    {
     "name": "stdout",
     "output_type": "stream",
     "text": [
      "\n",
      " node number: 31 \n",
      "   root\n",
      "   pca3< 195.4\n",
      "   lag_48>=0.8804\n",
      "   pca2< 39.29\n",
      "   fltr8< 0.5\n"
     ]
    }
   ],
   "source": [
    "residuals <- lm_model4$residuals\n",
    "tree_learner <- rpart(residuals~.-date-production,\n",
    "                       data=train_dt,\n",
    "                       control=rpart.control(cp=0,maxdepth=4))\n",
    "best_node <- as.numeric(rownames(tree_learner$frame[which.max(abs(tree_learner[[1]]$yval)),]))\n",
    "b <- path.rpart(tree_learner,best_node)\n",
    "depth <- length(b[[1]])\n",
    "for(i in 2:depth){\n",
    "    if(startsWith(b[[1]][i],\"mon\") | startsWith(b[[1]][i],\"w_day\")){\n",
    "        f_count <- f_count+1\n",
    "        next\n",
    "    }\n",
    "    train_dt[,paste(\"fltr\",as.character(f_count),sep=\"\"):=as.numeric(eval(parse(text = b[[1]][i])))]\n",
    "    test_dt[,paste(\"fltr\",as.character(f_count),sep=\"\"):=as.numeric(eval(parse(text = b[[1]][i])))]\n",
    "    dt[,paste(\"fltr\",as.character(f_count),sep=\"\"):=as.numeric(eval(parse(text = b[[1]][i])))]\n",
    "    f_count <- f_count+1\n",
    "}"
   ]
  },
  {
   "cell_type": "code",
   "execution_count": 86,
   "id": "256db91b",
   "metadata": {
    "scrolled": true
   },
   "outputs": [
    {
     "data": {
      "text/plain": [
       "\n",
       "Call:\n",
       "lm(formula = production ~ trnd + w_day + mon + as.factor(hour) + \n",
       "    fltr1:fltr2:fltr3:fltr4 + fltr5:fltr6:fltr7:fltr8 + fltr9:fltr10:fltr11:fltr12 + \n",
       "    fltr13:fltr14:fltr15:fltr16, data = train_dt)\n",
       "\n",
       "Residuals:\n",
       "    Min      1Q  Median      3Q     Max \n",
       "-2.9709 -0.2405  0.0126  0.2783  2.9539 \n",
       "\n",
       "Coefficients:\n",
       "                              Estimate Std. Error t value Pr(>|t|)    \n",
       "(Intercept)                  1.530e-01  2.510e-02   6.096 1.11e-09 ***\n",
       "trnd                         4.230e-06  7.073e-07   5.980 2.27e-09 ***\n",
       "w_dayCum                    -6.600e-03  1.357e-02  -0.486  0.62667    \n",
       "w_dayÇar                     1.935e-03  1.354e-02   0.143  0.88637    \n",
       "w_dayPaz                     2.876e-02  1.357e-02   2.120  0.03400 *  \n",
       "w_dayPer                     8.714e-03  1.357e-02   0.642  0.52081    \n",
       "w_dayPzt                    -2.068e-02  1.357e-02  -1.523  0.12767    \n",
       "w_daySal                     2.019e-02  1.354e-02   1.491  0.13608    \n",
       "monAra                      -6.145e-01  1.917e-02 -32.057  < 2e-16 ***\n",
       "monEki                      -1.666e-01  1.717e-02  -9.705  < 2e-16 ***\n",
       "monEyl                      -6.508e-02  1.716e-02  -3.791  0.00015 ***\n",
       "monHaz                       1.849e-01  1.843e-02  10.034  < 2e-16 ***\n",
       "monKas                      -3.847e-01  1.920e-02 -20.034  < 2e-16 ***\n",
       "monMar                      -3.678e-01  1.851e-02 -19.872  < 2e-16 ***\n",
       "monMay                       9.037e-02  1.831e-02   4.936 8.05e-07 ***\n",
       "monNis                      -1.280e-01  1.858e-02  -6.887 5.90e-12 ***\n",
       "monOca                      -5.763e-01  1.893e-02 -30.442  < 2e-16 ***\n",
       "monŞub                      -3.540e-01  1.912e-02 -18.513  < 2e-16 ***\n",
       "monTem                       1.412e-01  1.829e-02   7.718 1.24e-14 ***\n",
       "as.factor(hour)1            -1.064e-03  2.508e-02  -0.042  0.96617    \n",
       "as.factor(hour)2            -6.215e-03  2.508e-02  -0.248  0.80429    \n",
       "as.factor(hour)3             2.784e-03  2.508e-02   0.111  0.91161    \n",
       "as.factor(hour)4             2.047e-02  2.508e-02   0.816  0.41446    \n",
       "as.factor(hour)5             4.388e-01  2.513e-02  17.462  < 2e-16 ***\n",
       "as.factor(hour)6             1.901e+00  2.582e-02  73.607  < 2e-16 ***\n",
       "as.factor(hour)7             3.351e+00  2.537e-02 132.073  < 2e-16 ***\n",
       "as.factor(hour)8             4.348e+00  2.514e-02 172.966  < 2e-16 ***\n",
       "as.factor(hour)9             4.943e+00  2.514e-02 196.611  < 2e-16 ***\n",
       "as.factor(hour)10            5.240e+00  2.515e-02 208.383  < 2e-16 ***\n",
       "as.factor(hour)11            5.360e+00  2.513e-02 213.325  < 2e-16 ***\n",
       "as.factor(hour)12            5.362e+00  2.510e-02 213.618  < 2e-16 ***\n",
       "as.factor(hour)13            5.299e+00  2.509e-02 211.172  < 2e-16 ***\n",
       "as.factor(hour)14            5.155e+00  2.509e-02 205.453  < 2e-16 ***\n",
       "as.factor(hour)15            4.863e+00  2.509e-02 193.798  < 2e-16 ***\n",
       "as.factor(hour)16            4.355e+00  2.513e-02 173.326  < 2e-16 ***\n",
       "as.factor(hour)17            2.884e+00  2.700e-02 106.831  < 2e-16 ***\n",
       "as.factor(hour)18            1.415e+00  2.685e-02  52.699  < 2e-16 ***\n",
       "as.factor(hour)19            2.548e-01  2.635e-02   9.671  < 2e-16 ***\n",
       "as.factor(hour)20            4.879e-03  2.508e-02   0.195  0.84578    \n",
       "as.factor(hour)21           -2.659e-03  2.508e-02  -0.106  0.91557    \n",
       "as.factor(hour)22           -1.359e-02  2.508e-02  -0.542  0.58785    \n",
       "as.factor(hour)23           -1.290e-02  2.508e-02  -0.514  0.60711    \n",
       "fltr1:fltr2:fltr3:fltr4      1.482e+00  2.884e-02  51.392  < 2e-16 ***\n",
       "fltr5:fltr6:fltr7:fltr8     -1.315e+00  2.074e-02 -63.426  < 2e-16 ***\n",
       "fltr9:fltr10:fltr11:fltr12  -1.315e+00  2.417e-02 -54.397  < 2e-16 ***\n",
       "fltr13:fltr14:fltr15:fltr16  1.028e+00  4.804e-02  21.400  < 2e-16 ***\n",
       "---\n",
       "Signif. codes:  0 '***' 0.001 '**' 0.01 '*' 0.05 '.' 0.1 ' ' 1\n",
       "\n",
       "Residual standard error: 0.4972 on 18818 degrees of freedom\n",
       "Multiple R-squared:  0.9559,\tAdjusted R-squared:  0.9558 \n",
       "F-statistic:  9068 on 45 and 18818 DF,  p-value: < 2.2e-16\n"
      ]
     },
     "metadata": {},
     "output_type": "display_data"
    }
   ],
   "source": [
    "lm_model5 <- lm(production~trnd+w_day+mon+as.factor(hour)+\n",
    "                fltr1:fltr2:fltr3:fltr4+\n",
    "                fltr5:fltr6:fltr7:fltr8+\n",
    "                fltr9:fltr10:fltr11:fltr12+\n",
    "                fltr13:fltr14:fltr15:fltr16\n",
    "                ,train_dt)\n",
    "summary(lm_model5)"
   ]
  },
  {
   "cell_type": "code",
   "execution_count": 87,
   "id": "00ade0ab",
   "metadata": {},
   "outputs": [
    {
     "data": {
      "text/html": [
       "<table class=\"dataframe\">\n",
       "<caption>A data.frame: 1 × 10</caption>\n",
       "<thead>\n",
       "\t<tr><th scope=col>n</th><th scope=col>mean</th><th scope=col>sd</th><th scope=col>CV</th><th scope=col>FBias</th><th scope=col>MAPE</th><th scope=col>RMSE</th><th scope=col>MAD</th><th scope=col>MADP</th><th scope=col>WMAPE</th></tr>\n",
       "\t<tr><th scope=col>&lt;int&gt;</th><th scope=col>&lt;dbl&gt;</th><th scope=col>&lt;dbl&gt;</th><th scope=col>&lt;dbl&gt;</th><th scope=col>&lt;dbl&gt;</th><th scope=col>&lt;dbl&gt;</th><th scope=col>&lt;dbl&gt;</th><th scope=col>&lt;dbl&gt;</th><th scope=col>&lt;dbl&gt;</th><th scope=col>&lt;dbl&gt;</th></tr>\n",
       "</thead>\n",
       "<tbody>\n",
       "\t<tr><td>24</td><td>2.124579</td><td>2.475094</td><td>1.164981</td><td>-0.06154527</td><td>Inf</td><td>0.3664161</td><td>0.2218386</td><td>0.1044153</td><td>0.1044153</td></tr>\n",
       "</tbody>\n",
       "</table>\n"
      ],
      "text/latex": [
       "A data.frame: 1 × 10\n",
       "\\begin{tabular}{llllllllll}\n",
       " n & mean & sd & CV & FBias & MAPE & RMSE & MAD & MADP & WMAPE\\\\\n",
       " <int> & <dbl> & <dbl> & <dbl> & <dbl> & <dbl> & <dbl> & <dbl> & <dbl> & <dbl>\\\\\n",
       "\\hline\n",
       "\t 24 & 2.124579 & 2.475094 & 1.164981 & -0.06154527 & Inf & 0.3664161 & 0.2218386 & 0.1044153 & 0.1044153\\\\\n",
       "\\end{tabular}\n"
      ],
      "text/markdown": [
       "\n",
       "A data.frame: 1 × 10\n",
       "\n",
       "| n &lt;int&gt; | mean &lt;dbl&gt; | sd &lt;dbl&gt; | CV &lt;dbl&gt; | FBias &lt;dbl&gt; | MAPE &lt;dbl&gt; | RMSE &lt;dbl&gt; | MAD &lt;dbl&gt; | MADP &lt;dbl&gt; | WMAPE &lt;dbl&gt; |\n",
       "|---|---|---|---|---|---|---|---|---|---|\n",
       "| 24 | 2.124579 | 2.475094 | 1.164981 | -0.06154527 | Inf | 0.3664161 | 0.2218386 | 0.1044153 | 0.1044153 |\n",
       "\n"
      ],
      "text/plain": [
       "  n  mean     sd       CV       FBias       MAPE RMSE      MAD       MADP     \n",
       "1 24 2.124579 2.475094 1.164981 -0.06154527 Inf  0.3664161 0.2218386 0.1044153\n",
       "  WMAPE    \n",
       "1 0.1044153"
      ]
     },
     "metadata": {},
     "output_type": "display_data"
    }
   ],
   "source": [
    "test_pred5 <- predict(lm_model5,test_dt)\n",
    "accu(test_dt$production,test_pred5)"
   ]
  },
  {
   "cell_type": "code",
   "execution_count": 88,
   "id": "052a4af1",
   "metadata": {},
   "outputs": [
    {
     "name": "stdout",
     "output_type": "stream",
     "text": [
      "\n",
      " node number: 16 \n",
      "   root\n",
      "   pca3>=195.4\n",
      "   fltr10>=0.5\n",
      "   fltr3< 0.5\n",
      "   pca1< 616.7\n"
     ]
    }
   ],
   "source": [
    "residuals <- lm_model5$residuals\n",
    "tree_learner <- rpart(residuals~.-date-production-lag_48,\n",
    "                       data=train_dt,\n",
    "                       control=rpart.control(cp=0,maxdepth=4))\n",
    "best_node <- as.numeric(rownames(tree_learner$frame[which.max(abs(tree_learner[[1]]$yval)),]))\n",
    "b <- path.rpart(tree_learner,best_node)\n",
    "depth <- length(b[[1]])\n",
    "for(i in 2:depth){\n",
    "    if(startsWith(b[[1]][i],\"mon\") | startsWith(b[[1]][i],\"w_day\")){\n",
    "        f_count <- f_count+1\n",
    "        next\n",
    "    }\n",
    "    train_dt[,paste(\"fltr\",as.character(f_count),sep=\"\"):=as.numeric(eval(parse(text = b[[1]][i])))]\n",
    "    test_dt[,paste(\"fltr\",as.character(f_count),sep=\"\"):=as.numeric(eval(parse(text = b[[1]][i])))]\n",
    "    dt[,paste(\"fltr\",as.character(f_count),sep=\"\"):=as.numeric(eval(parse(text = b[[1]][i])))]\n",
    "    f_count <- f_count+1\n",
    "}"
   ]
  },
  {
   "cell_type": "code",
   "execution_count": 89,
   "id": "89062554",
   "metadata": {
    "scrolled": true
   },
   "outputs": [
    {
     "data": {
      "text/plain": [
       "\n",
       "Call:\n",
       "lm(formula = production ~ trnd + w_day + mon + as.factor(hour) + \n",
       "    fltr1:fltr2:fltr3:fltr4 + fltr5:fltr6:fltr7:fltr8 + fltr9:fltr10:fltr11:fltr12 + \n",
       "    fltr13:fltr14:fltr15:fltr16 + fltr17:fltr18:fltr19:fltr20, \n",
       "    data = train_dt)\n",
       "\n",
       "Residuals:\n",
       "    Min      1Q  Median      3Q     Max \n",
       "-3.0690 -0.2328  0.0105  0.2638  2.8242 \n",
       "\n",
       "Coefficients:\n",
       "                              Estimate Std. Error t value Pr(>|t|)    \n",
       "(Intercept)                  1.411e-01  2.417e-02   5.835 5.45e-09 ***\n",
       "trnd                         3.699e-06  6.811e-07   5.431 5.68e-08 ***\n",
       "w_dayCum                    -4.238e-03  1.306e-02  -0.324  0.74560    \n",
       "w_dayÇar                    -3.665e-03  1.304e-02  -0.281  0.77860    \n",
       "w_dayPaz                     3.478e-02  1.306e-02   2.662  0.00777 ** \n",
       "w_dayPer                     1.058e-02  1.307e-02   0.810  0.41803    \n",
       "w_dayPzt                    -2.106e-02  1.307e-02  -1.612  0.10708    \n",
       "w_daySal                     1.933e-02  1.304e-02   1.482  0.13830    \n",
       "monAra                      -5.887e-01  1.847e-02 -31.874  < 2e-16 ***\n",
       "monEki                      -1.636e-01  1.653e-02  -9.899  < 2e-16 ***\n",
       "monEyl                      -6.446e-02  1.653e-02  -3.901 9.62e-05 ***\n",
       "monHaz                       1.835e-01  1.774e-02  10.340  < 2e-16 ***\n",
       "monKas                      -3.824e-01  1.849e-02 -20.686  < 2e-16 ***\n",
       "monMar                      -3.205e-01  1.786e-02 -17.945  < 2e-16 ***\n",
       "monMay                       1.100e-01  1.763e-02   6.239 4.51e-10 ***\n",
       "monNis                      -1.110e-01  1.789e-02  -6.203 5.66e-10 ***\n",
       "monOca                      -5.259e-01  1.827e-02 -28.781  < 2e-16 ***\n",
       "monŞub                      -3.010e-01  1.846e-02 -16.303  < 2e-16 ***\n",
       "monTem                       1.367e-01  1.761e-02   7.766 8.52e-15 ***\n",
       "as.factor(hour)1            -1.063e-03  2.415e-02  -0.044  0.96488    \n",
       "as.factor(hour)2            -6.227e-03  2.415e-02  -0.258  0.79651    \n",
       "as.factor(hour)3             2.790e-03  2.415e-02   0.116  0.90802    \n",
       "as.factor(hour)4             2.258e-02  2.415e-02   0.935  0.34969    \n",
       "as.factor(hour)5             4.508e-01  2.419e-02  18.633  < 2e-16 ***\n",
       "as.factor(hour)6             1.946e+00  2.489e-02  78.200  < 2e-16 ***\n",
       "as.factor(hour)7             3.417e+00  2.449e-02 139.539  < 2e-16 ***\n",
       "as.factor(hour)8             4.416e+00  2.427e-02 181.987  < 2e-16 ***\n",
       "as.factor(hour)9             5.009e+00  2.427e-02 206.413  < 2e-16 ***\n",
       "as.factor(hour)10            5.289e+00  2.424e-02 218.157  < 2e-16 ***\n",
       "as.factor(hour)11            5.401e+00  2.421e-02 223.055  < 2e-16 ***\n",
       "as.factor(hour)12            5.395e+00  2.418e-02 223.105  < 2e-16 ***\n",
       "as.factor(hour)13            5.325e+00  2.417e-02 220.330  < 2e-16 ***\n",
       "as.factor(hour)14            5.177e+00  2.416e-02 214.247  < 2e-16 ***\n",
       "as.factor(hour)15            4.882e+00  2.416e-02 202.060  < 2e-16 ***\n",
       "as.factor(hour)16            4.404e+00  2.422e-02 181.795  < 2e-16 ***\n",
       "as.factor(hour)17            2.874e+00  2.599e-02 110.567  < 2e-16 ***\n",
       "as.factor(hour)18            1.410e+00  2.585e-02  54.539  < 2e-16 ***\n",
       "as.factor(hour)19            2.511e-01  2.537e-02   9.900  < 2e-16 ***\n",
       "as.factor(hour)20            4.864e-03  2.415e-02   0.201  0.84038    \n",
       "as.factor(hour)21           -2.674e-03  2.415e-02  -0.111  0.91184    \n",
       "as.factor(hour)22           -1.361e-02  2.415e-02  -0.563  0.57310    \n",
       "as.factor(hour)23           -1.291e-02  2.415e-02  -0.535  0.59291    \n",
       "fltr1:fltr2:fltr3:fltr4      1.502e+00  2.777e-02  54.064  < 2e-16 ***\n",
       "fltr5:fltr6:fltr7:fltr8     -1.319e+00  1.997e-02 -66.045  < 2e-16 ***\n",
       "fltr9:fltr10:fltr11:fltr12  -1.222e+00  2.339e-02 -52.230  < 2e-16 ***\n",
       "fltr13:fltr14:fltr15:fltr16  1.047e+00  4.626e-02  22.645  < 2e-16 ***\n",
       "fltr17:fltr18:fltr19:fltr20 -8.750e-01  2.271e-02 -38.527  < 2e-16 ***\n",
       "---\n",
       "Signif. codes:  0 '***' 0.001 '**' 0.01 '*' 0.05 '.' 0.1 ' ' 1\n",
       "\n",
       "Residual standard error: 0.4787 on 18817 degrees of freedom\n",
       "Multiple R-squared:  0.9591,\tAdjusted R-squared:  0.959 \n",
       "F-statistic:  9602 on 46 and 18817 DF,  p-value: < 2.2e-16\n"
      ]
     },
     "metadata": {},
     "output_type": "display_data"
    }
   ],
   "source": [
    "lm_model6 <- lm(production~trnd+w_day+mon+as.factor(hour)+\n",
    "                fltr1:fltr2:fltr3:fltr4+\n",
    "                fltr5:fltr6:fltr7:fltr8+\n",
    "                fltr9:fltr10:fltr11:fltr12+\n",
    "                fltr13:fltr14:fltr15:fltr16+\n",
    "                fltr17:fltr18:fltr19:fltr20\n",
    "                ,train_dt)\n",
    "summary(lm_model6)"
   ]
  },
  {
   "cell_type": "code",
   "execution_count": 90,
   "id": "c7c7af12",
   "metadata": {},
   "outputs": [
    {
     "data": {
      "text/html": [
       "<table class=\"dataframe\">\n",
       "<caption>A data.frame: 1 × 10</caption>\n",
       "<thead>\n",
       "\t<tr><th scope=col>n</th><th scope=col>mean</th><th scope=col>sd</th><th scope=col>CV</th><th scope=col>FBias</th><th scope=col>MAPE</th><th scope=col>RMSE</th><th scope=col>MAD</th><th scope=col>MADP</th><th scope=col>WMAPE</th></tr>\n",
       "\t<tr><th scope=col>&lt;int&gt;</th><th scope=col>&lt;dbl&gt;</th><th scope=col>&lt;dbl&gt;</th><th scope=col>&lt;dbl&gt;</th><th scope=col>&lt;dbl&gt;</th><th scope=col>&lt;dbl&gt;</th><th scope=col>&lt;dbl&gt;</th><th scope=col>&lt;dbl&gt;</th><th scope=col>&lt;dbl&gt;</th><th scope=col>&lt;dbl&gt;</th></tr>\n",
       "</thead>\n",
       "<tbody>\n",
       "\t<tr><td>24</td><td>2.124579</td><td>2.475094</td><td>1.164981</td><td>-0.06186988</td><td>Inf</td><td>0.3604163</td><td>0.2082301</td><td>0.09801007</td><td>0.09801007</td></tr>\n",
       "</tbody>\n",
       "</table>\n"
      ],
      "text/latex": [
       "A data.frame: 1 × 10\n",
       "\\begin{tabular}{llllllllll}\n",
       " n & mean & sd & CV & FBias & MAPE & RMSE & MAD & MADP & WMAPE\\\\\n",
       " <int> & <dbl> & <dbl> & <dbl> & <dbl> & <dbl> & <dbl> & <dbl> & <dbl> & <dbl>\\\\\n",
       "\\hline\n",
       "\t 24 & 2.124579 & 2.475094 & 1.164981 & -0.06186988 & Inf & 0.3604163 & 0.2082301 & 0.09801007 & 0.09801007\\\\\n",
       "\\end{tabular}\n"
      ],
      "text/markdown": [
       "\n",
       "A data.frame: 1 × 10\n",
       "\n",
       "| n &lt;int&gt; | mean &lt;dbl&gt; | sd &lt;dbl&gt; | CV &lt;dbl&gt; | FBias &lt;dbl&gt; | MAPE &lt;dbl&gt; | RMSE &lt;dbl&gt; | MAD &lt;dbl&gt; | MADP &lt;dbl&gt; | WMAPE &lt;dbl&gt; |\n",
       "|---|---|---|---|---|---|---|---|---|---|\n",
       "| 24 | 2.124579 | 2.475094 | 1.164981 | -0.06186988 | Inf | 0.3604163 | 0.2082301 | 0.09801007 | 0.09801007 |\n",
       "\n"
      ],
      "text/plain": [
       "  n  mean     sd       CV       FBias       MAPE RMSE      MAD       MADP      \n",
       "1 24 2.124579 2.475094 1.164981 -0.06186988 Inf  0.3604163 0.2082301 0.09801007\n",
       "  WMAPE     \n",
       "1 0.09801007"
      ]
     },
     "metadata": {},
     "output_type": "display_data"
    }
   ],
   "source": [
    "test_pred6 <- predict(lm_model6,test_dt)\n",
    "accu(test_dt$production,test_pred6)"
   ]
  },
  {
   "cell_type": "markdown",
   "id": "b927743e",
   "metadata": {},
   "source": [
    "The EBLR method is applied to the model for 5 iterations. While the base regression model has R-squared value of 0.9285 and has WMAPE error rate of 0.1433, the final model has 0.959 R-squared value and WMAPE error rate of 0.0980 on the test data. This means that addition of new features which is from decision trees applied on the residuals, improved the model."
   ]
  },
  {
   "cell_type": "code",
   "execution_count": 91,
   "id": "e5c20c3c",
   "metadata": {
    "scrolled": true
   },
   "outputs": [
    {
     "data": {
      "text/plain": [
       "\n",
       "Call:\n",
       "lm(formula = production ~ trnd + w_day + mon + as.factor(hour) + \n",
       "    lag_48 + fltr1:fltr2:fltr3:fltr4 + fltr5:fltr6:fltr7:fltr8 + \n",
       "    fltr9:fltr10:fltr11:fltr12 + fltr13:fltr14:fltr15:fltr16 + \n",
       "    fltr17:fltr18:fltr19:fltr20, data = train_dt)\n",
       "\n",
       "Residuals:\n",
       "     Min       1Q   Median       3Q      Max \n",
       "-2.65593 -0.10680  0.00334  0.12286  2.79766 \n",
       "\n",
       "Coefficients:\n",
       "                              Estimate Std. Error t value Pr(>|t|)    \n",
       "(Intercept)                  3.395e-02  1.848e-02   1.837  0.06625 .  \n",
       "trnd                         9.461e-07  5.208e-07   1.817  0.06928 .  \n",
       "w_dayCum                    -2.895e-03  9.977e-03  -0.290  0.77169    \n",
       "w_dayÇar                    -3.509e-03  9.957e-03  -0.352  0.72451    \n",
       "w_dayPaz                     5.017e-02  9.978e-03   5.028 4.99e-07 ***\n",
       "w_dayPer                     3.577e-03  9.979e-03   0.358  0.72000    \n",
       "w_dayPzt                    -5.554e-04  9.982e-03  -0.056  0.95563    \n",
       "w_daySal                     4.793e-03  9.960e-03   0.481  0.63033    \n",
       "monAra                      -1.761e-01  1.455e-02 -12.105  < 2e-16 ***\n",
       "monEki                      -7.151e-02  1.265e-02  -5.653 1.60e-08 ***\n",
       "monEyl                      -1.983e-02  1.263e-02  -1.570  0.11632    \n",
       "monHaz                       8.761e-02  1.358e-02   6.453 1.12e-10 ***\n",
       "monKas                      -1.511e-01  1.426e-02 -10.600  < 2e-16 ***\n",
       "monMar                      -1.011e-01  1.377e-02  -7.339 2.25e-13 ***\n",
       "monMay                       7.212e-02  1.347e-02   5.353 8.74e-08 ***\n",
       "monNis                      -1.806e-02  1.369e-02  -1.319  0.18716    \n",
       "monOca                      -1.634e-01  1.430e-02 -11.427  < 2e-16 ***\n",
       "monŞub                      -4.366e-02  1.427e-02  -3.058  0.00223 ** \n",
       "monTem                       5.636e-02  1.347e-02   4.185 2.87e-05 ***\n",
       "as.factor(hour)1            -4.333e-04  1.844e-02  -0.023  0.98126    \n",
       "as.factor(hour)2            -2.196e-03  1.844e-02  -0.119  0.90523    \n",
       "as.factor(hour)3             1.026e-03  1.844e-02   0.056  0.95566    \n",
       "as.factor(hour)4             1.041e-02  1.844e-02   0.564  0.57265    \n",
       "as.factor(hour)5             1.836e-01  1.862e-02   9.858  < 2e-16 ***\n",
       "as.factor(hour)6             7.905e-01  2.147e-02  36.824  < 2e-16 ***\n",
       "as.factor(hour)7             1.427e+00  2.539e-02  56.199  < 2e-16 ***\n",
       "as.factor(hour)8             1.854e+00  2.884e-02  64.309  < 2e-16 ***\n",
       "as.factor(hour)9             2.099e+00  3.120e-02  67.265  < 2e-16 ***\n",
       "as.factor(hour)10            2.208e+00  3.238e-02  68.189  < 2e-16 ***\n",
       "as.factor(hour)11            2.246e+00  3.290e-02  68.258  < 2e-16 ***\n",
       "as.factor(hour)12            2.231e+00  3.295e-02  67.713  < 2e-16 ***\n",
       "as.factor(hour)13            2.196e+00  3.270e-02  67.171  < 2e-16 ***\n",
       "as.factor(hour)14            2.132e+00  3.210e-02  66.439  < 2e-16 ***\n",
       "as.factor(hour)15            2.012e+00  3.088e-02  65.137  < 2e-16 ***\n",
       "as.factor(hour)16            1.839e+00  2.884e-02  63.787  < 2e-16 ***\n",
       "as.factor(hour)17            1.144e+00  2.484e-02  46.060  < 2e-16 ***\n",
       "as.factor(hour)18            5.279e-01  2.115e-02  24.952  < 2e-16 ***\n",
       "as.factor(hour)19            1.037e-01  1.942e-02   5.341 9.37e-08 ***\n",
       "as.factor(hour)20            2.533e-03  1.844e-02   0.137  0.89075    \n",
       "as.factor(hour)21           -3.944e-04  1.844e-02  -0.021  0.98294    \n",
       "as.factor(hour)22           -4.852e-03  1.844e-02  -0.263  0.79250    \n",
       "as.factor(hour)23           -4.567e-03  1.844e-02  -0.248  0.80443    \n",
       "lag_48                       5.919e-01  5.105e-03 115.941  < 2e-16 ***\n",
       "fltr1:fltr2:fltr3:fltr4      7.117e-01  2.228e-02  31.947  < 2e-16 ***\n",
       "fltr5:fltr6:fltr7:fltr8     -4.479e-01  1.700e-02 -26.349  < 2e-16 ***\n",
       "fltr9:fltr10:fltr11:fltr12  -9.004e-01  1.808e-02 -49.802  < 2e-16 ***\n",
       "fltr13:fltr14:fltr15:fltr16  4.299e-01  3.573e-02  12.033  < 2e-16 ***\n",
       "fltr17:fltr18:fltr19:fltr20 -6.675e-01  1.744e-02 -38.280  < 2e-16 ***\n",
       "---\n",
       "Signif. codes:  0 '***' 0.001 '**' 0.01 '*' 0.05 '.' 0.1 ' ' 1\n",
       "\n",
       "Residual standard error: 0.3656 on 18816 degrees of freedom\n",
       "Multiple R-squared:  0.9762,\tAdjusted R-squared:  0.9761 \n",
       "F-statistic: 1.64e+04 on 47 and 18816 DF,  p-value: < 2.2e-16\n"
      ]
     },
     "metadata": {},
     "output_type": "display_data"
    }
   ],
   "source": [
    "lm_model_son <- lm(production~trnd+w_day+mon+as.factor(hour)+lag_48+\n",
    "                fltr1:fltr2:fltr3:fltr4+\n",
    "                fltr5:fltr6:fltr7:fltr8+\n",
    "                fltr9:fltr10:fltr11:fltr12+\n",
    "                fltr13:fltr14:fltr15:fltr16+\n",
    "                fltr17:fltr18:fltr19:fltr20    \n",
    "                ,train_dt)\n",
    "summary(lm_model_son)"
   ]
  },
  {
   "cell_type": "code",
   "execution_count": 92,
   "id": "f9423c7b",
   "metadata": {},
   "outputs": [
    {
     "data": {
      "text/html": [
       "<table class=\"dataframe\">\n",
       "<caption>A data.frame: 1 × 10</caption>\n",
       "<thead>\n",
       "\t<tr><th scope=col>n</th><th scope=col>mean</th><th scope=col>sd</th><th scope=col>CV</th><th scope=col>FBias</th><th scope=col>MAPE</th><th scope=col>RMSE</th><th scope=col>MAD</th><th scope=col>MADP</th><th scope=col>WMAPE</th></tr>\n",
       "\t<tr><th scope=col>&lt;int&gt;</th><th scope=col>&lt;dbl&gt;</th><th scope=col>&lt;dbl&gt;</th><th scope=col>&lt;dbl&gt;</th><th scope=col>&lt;dbl&gt;</th><th scope=col>&lt;dbl&gt;</th><th scope=col>&lt;dbl&gt;</th><th scope=col>&lt;dbl&gt;</th><th scope=col>&lt;dbl&gt;</th><th scope=col>&lt;dbl&gt;</th></tr>\n",
       "</thead>\n",
       "<tbody>\n",
       "\t<tr><td>24</td><td>2.124579</td><td>2.475094</td><td>1.164981</td><td>0.04236887</td><td>Inf</td><td>0.2149382</td><td>0.152031</td><td>0.07155817</td><td>0.07155817</td></tr>\n",
       "</tbody>\n",
       "</table>\n"
      ],
      "text/latex": [
       "A data.frame: 1 × 10\n",
       "\\begin{tabular}{llllllllll}\n",
       " n & mean & sd & CV & FBias & MAPE & RMSE & MAD & MADP & WMAPE\\\\\n",
       " <int> & <dbl> & <dbl> & <dbl> & <dbl> & <dbl> & <dbl> & <dbl> & <dbl> & <dbl>\\\\\n",
       "\\hline\n",
       "\t 24 & 2.124579 & 2.475094 & 1.164981 & 0.04236887 & Inf & 0.2149382 & 0.152031 & 0.07155817 & 0.07155817\\\\\n",
       "\\end{tabular}\n"
      ],
      "text/markdown": [
       "\n",
       "A data.frame: 1 × 10\n",
       "\n",
       "| n &lt;int&gt; | mean &lt;dbl&gt; | sd &lt;dbl&gt; | CV &lt;dbl&gt; | FBias &lt;dbl&gt; | MAPE &lt;dbl&gt; | RMSE &lt;dbl&gt; | MAD &lt;dbl&gt; | MADP &lt;dbl&gt; | WMAPE &lt;dbl&gt; |\n",
       "|---|---|---|---|---|---|---|---|---|---|\n",
       "| 24 | 2.124579 | 2.475094 | 1.164981 | 0.04236887 | Inf | 0.2149382 | 0.152031 | 0.07155817 | 0.07155817 |\n",
       "\n"
      ],
      "text/plain": [
       "  n  mean     sd       CV       FBias      MAPE RMSE      MAD      MADP      \n",
       "1 24 2.124579 2.475094 1.164981 0.04236887 Inf  0.2149382 0.152031 0.07155817\n",
       "  WMAPE     \n",
       "1 0.07155817"
      ]
     },
     "metadata": {},
     "output_type": "display_data"
    }
   ],
   "source": [
    "test_pred_son <- predict(lm_model_son,test_dt)\n",
    "accu(test_dt$production,test_pred_son)"
   ]
  },
  {
   "cell_type": "markdown",
   "id": "cba655dc",
   "metadata": {},
   "source": [
    "To make a final improvement, lagged value of production added to the final model. 48th lag improved the R-squared to 0.9761 and WMAPE error rate on test to 0.0715."
   ]
  },
  {
   "cell_type": "markdown",
   "id": "b0c6a271",
   "metadata": {},
   "source": [
    "## Forecast and Conclusion"
   ]
  },
  {
   "cell_type": "markdown",
   "id": "6605781f",
   "metadata": {},
   "source": [
    "To forecast, training data is updated every day after 10th of october, then a new model constructed with the new training data and forecasts are made for the 2 days after."
   ]
  },
  {
   "cell_type": "code",
   "execution_count": 93,
   "id": "afc7aa48",
   "metadata": {
    "scrolled": true
   },
   "outputs": [],
   "source": [
    "train_end <- nrow(dt[date<=\"2021-10-30\"])\n",
    "test_dates <- unique(dt$date[dt$date<=\"2021-12-25\" & dt$date>=\"2021-11-01\"])\n",
    "preds <- numeric(0)\n",
    "for(d in test_dates ){\n",
    "    train_tmp <- dt[1:train_end,]\n",
    "    model <- lm(production~trnd+w_day+mon+as.factor(hour)+lag_48+\n",
    "                fltr1:fltr2:fltr3:fltr4+\n",
    "                fltr5:fltr6:fltr7:fltr8+\n",
    "                fltr9:fltr10:fltr11:fltr12+\n",
    "                fltr13:fltr14:fltr15:fltr16+\n",
    "                fltr17:fltr18:fltr19:fltr20   \n",
    "                ,train_tmp)\n",
    "    p <- predict(model,newdata=dt[date==d,])\n",
    "    preds <- c(preds,p)\n",
    "    train_end <- train_end + 24\n",
    "}"
   ]
  },
  {
   "cell_type": "code",
   "execution_count": 97,
   "id": "556c534c",
   "metadata": {},
   "outputs": [
    {
     "data": {
      "text/html": [
       "<table class=\"dataframe\">\n",
       "<caption>A data.frame: 1 × 10</caption>\n",
       "<thead>\n",
       "\t<tr><th scope=col>n</th><th scope=col>mean</th><th scope=col>sd</th><th scope=col>CV</th><th scope=col>FBias</th><th scope=col>MAPE</th><th scope=col>RMSE</th><th scope=col>MAD</th><th scope=col>MADP</th><th scope=col>WMAPE</th></tr>\n",
       "\t<tr><th scope=col>&lt;int&gt;</th><th scope=col>&lt;dbl&gt;</th><th scope=col>&lt;dbl&gt;</th><th scope=col>&lt;dbl&gt;</th><th scope=col>&lt;dbl&gt;</th><th scope=col>&lt;dbl&gt;</th><th scope=col>&lt;dbl&gt;</th><th scope=col>&lt;dbl&gt;</th><th scope=col>&lt;dbl&gt;</th><th scope=col>&lt;dbl&gt;</th></tr>\n",
       "</thead>\n",
       "<tbody>\n",
       "\t<tr><td>1296</td><td>45.46808</td><td>79.29</td><td>1.743861</td><td>-0.01978126</td><td>Inf</td><td>51.70043</td><td>23.52425</td><td>0.5173795</td><td>0.5173795</td></tr>\n",
       "</tbody>\n",
       "</table>\n"
      ],
      "text/latex": [
       "A data.frame: 1 × 10\n",
       "\\begin{tabular}{llllllllll}\n",
       " n & mean & sd & CV & FBias & MAPE & RMSE & MAD & MADP & WMAPE\\\\\n",
       " <int> & <dbl> & <dbl> & <dbl> & <dbl> & <dbl> & <dbl> & <dbl> & <dbl> & <dbl>\\\\\n",
       "\\hline\n",
       "\t 1296 & 45.46808 & 79.29 & 1.743861 & -0.01978126 & Inf & 51.70043 & 23.52425 & 0.5173795 & 0.5173795\\\\\n",
       "\\end{tabular}\n"
      ],
      "text/markdown": [
       "\n",
       "A data.frame: 1 × 10\n",
       "\n",
       "| n &lt;int&gt; | mean &lt;dbl&gt; | sd &lt;dbl&gt; | CV &lt;dbl&gt; | FBias &lt;dbl&gt; | MAPE &lt;dbl&gt; | RMSE &lt;dbl&gt; | MAD &lt;dbl&gt; | MADP &lt;dbl&gt; | WMAPE &lt;dbl&gt; |\n",
       "|---|---|---|---|---|---|---|---|---|---|\n",
       "| 1296 | 45.46808 | 79.29 | 1.743861 | -0.01978126 | Inf | 51.70043 | 23.52425 | 0.5173795 | 0.5173795 |\n",
       "\n"
      ],
      "text/plain": [
       "  n    mean     sd    CV       FBias       MAPE RMSE     MAD      MADP     \n",
       "1 1296 45.46808 79.29 1.743861 -0.01978126 Inf  51.70043 23.52425 0.5173795\n",
       "  WMAPE    \n",
       "1 0.5173795"
      ]
     },
     "metadata": {},
     "output_type": "display_data"
    },
    {
     "data": {
      "text/html": [
       "<table class=\"dataframe\">\n",
       "<caption>A data.frame: 1 × 10</caption>\n",
       "<thead>\n",
       "\t<tr><th scope=col>n</th><th scope=col>mean</th><th scope=col>sd</th><th scope=col>CV</th><th scope=col>FBias</th><th scope=col>MAPE</th><th scope=col>RMSE</th><th scope=col>MAD</th><th scope=col>MADP</th><th scope=col>WMAPE</th></tr>\n",
       "\t<tr><th scope=col>&lt;int&gt;</th><th scope=col>&lt;dbl&gt;</th><th scope=col>&lt;dbl&gt;</th><th scope=col>&lt;dbl&gt;</th><th scope=col>&lt;dbl&gt;</th><th scope=col>&lt;dbl&gt;</th><th scope=col>&lt;dbl&gt;</th><th scope=col>&lt;dbl&gt;</th><th scope=col>&lt;dbl&gt;</th><th scope=col>&lt;dbl&gt;</th></tr>\n",
       "</thead>\n",
       "<tbody>\n",
       "\t<tr><td>1296</td><td>45.46808</td><td>79.29</td><td>1.743861</td><td>0.1471751</td><td>Inf</td><td>38.04042</td><td>16.41105</td><td>0.3609357</td><td>0.3609357</td></tr>\n",
       "</tbody>\n",
       "</table>\n"
      ],
      "text/latex": [
       "A data.frame: 1 × 10\n",
       "\\begin{tabular}{llllllllll}\n",
       " n & mean & sd & CV & FBias & MAPE & RMSE & MAD & MADP & WMAPE\\\\\n",
       " <int> & <dbl> & <dbl> & <dbl> & <dbl> & <dbl> & <dbl> & <dbl> & <dbl> & <dbl>\\\\\n",
       "\\hline\n",
       "\t 1296 & 45.46808 & 79.29 & 1.743861 & 0.1471751 & Inf & 38.04042 & 16.41105 & 0.3609357 & 0.3609357\\\\\n",
       "\\end{tabular}\n"
      ],
      "text/markdown": [
       "\n",
       "A data.frame: 1 × 10\n",
       "\n",
       "| n &lt;int&gt; | mean &lt;dbl&gt; | sd &lt;dbl&gt; | CV &lt;dbl&gt; | FBias &lt;dbl&gt; | MAPE &lt;dbl&gt; | RMSE &lt;dbl&gt; | MAD &lt;dbl&gt; | MADP &lt;dbl&gt; | WMAPE &lt;dbl&gt; |\n",
       "|---|---|---|---|---|---|---|---|---|---|\n",
       "| 1296 | 45.46808 | 79.29 | 1.743861 | 0.1471751 | Inf | 38.04042 | 16.41105 | 0.3609357 | 0.3609357 |\n",
       "\n"
      ],
      "text/plain": [
       "  n    mean     sd    CV       FBias     MAPE RMSE     MAD      MADP     \n",
       "1 1296 45.46808 79.29 1.743861 0.1471751 Inf  38.04042 16.41105 0.3609357\n",
       "  WMAPE    \n",
       "1 0.3609357"
      ]
     },
     "metadata": {},
     "output_type": "display_data"
    }
   ],
   "source": [
    "real <- exp(dt[date %in% test_dates,production])-1\n",
    "base_sc <- exp(dt[date %in% test_dates,lag_48])\n",
    "accu(real,base_sc)\n",
    "preds_trns <- exp(preds)-1\n",
    "accu(real,preds_trns)"
   ]
  },
  {
   "cell_type": "markdown",
   "id": "fabac67d",
   "metadata": {},
   "source": [
    "Predictions are transformed to real production values by taking their exponentials. The predictions has WMAPE value of 0.3609 over the test period near 2 months. Naive forecast has the WMAPE error rate of 0.5173 which means that EBLR is approximately 30%  better than the base line forecast. Learning from the previous error is significantly improves linear regression model."
   ]
  }
 ],
 "metadata": {
  "kernelspec": {
   "display_name": "R",
   "language": "R",
   "name": "ir"
  },
  "language_info": {
   "codemirror_mode": "r",
   "file_extension": ".r",
   "mimetype": "text/x-r-source",
   "name": "R",
   "pygments_lexer": "r",
   "version": "4.1.2"
  }
 },
 "nbformat": 4,
 "nbformat_minor": 5
}
