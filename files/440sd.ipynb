{
 "cells": [
  {
   "cell_type": "markdown",
   "id": "93ed9b0f",
   "metadata": {},
   "source": [
    "The aim of this assignment is coding the steepest descent algorithm without including any additional packages. The minimum values of 2 following objective functions will be found:"
   ]
  },
  {
   "cell_type": "markdown",
   "id": "9e64cc07",
   "metadata": {},
   "source": [
    "$$f(x_1,x_2) = (5x_1-x_2)^2 + (x_1-2)^2 + x_1 - 2x_2 + 12$$"
   ]
  },
  {
   "cell_type": "markdown",
   "id": "0feaff4e",
   "metadata": {},
   "source": [
    "$$f(x_1,x_2) = 100(x_2-x_1^2)^2 + (1-x_1)^2$$"
   ]
  },
  {
   "cell_type": "code",
   "execution_count": 3,
   "id": "82676f88",
   "metadata": {},
   "outputs": [],
   "source": [
    "objective1 <- expression(\n",
    "  (5*x1 - x2)^4 + (x1 - 2)^2 + x1 -2*x2 + 12\n",
    ")\n",
    "\n",
    "objective2 <- expression(\n",
    "  100*(x2-x1^2)^2 + (1-x1)^2\n",
    ")"
   ]
  },
  {
   "cell_type": "markdown",
   "id": "7b86e146",
   "metadata": {},
   "source": [
    "Here is the function for calculating the norm of a vector."
   ]
  },
  {
   "cell_type": "code",
   "execution_count": 4,
   "id": "67d4b9e4",
   "metadata": {},
   "outputs": [],
   "source": [
    "norm_vec <- function(vec){\n",
    "  sqrt(sum(vec^2))\n",
    "}"
   ]
  },
  {
   "cell_type": "markdown",
   "id": "aef798a2",
   "metadata": {},
   "source": [
    "Golden Section Method function is used for finding the minimum of a one-dimensional function."
   ]
  },
  {
   "cell_type": "code",
   "execution_count": 5,
   "id": "ba8679a7",
   "metadata": {},
   "outputs": [],
   "source": [
    "\n",
    "GoldenSectionMethod <- function(a,b,e2,func) {\n",
    "  gamma <- 1.618\n",
    "  x <- b - (1/gamma)*(b-a)\n",
    "  y <- a + (1/gamma)*(b-a)\n",
    "  fx <- func(x)\n",
    "  fy <- func(y)\n",
    "  \n",
    "  while (b-a>=e2) {\n",
    "    if(fx > fy) {\n",
    "      a <- x\n",
    "      x <- y\n",
    "      y <- a + (1/gamma)*(b-a)\n",
    "      fx <- fy\n",
    "      fy <- func(y)\n",
    "    }\n",
    "    \n",
    "    else {\n",
    "      b <- y\n",
    "      y <- x\n",
    "      x <- b - (1/gamma)*(b-a)\n",
    "      fy <- fx\n",
    "      fx <- func(x)\n",
    "    }\n",
    "  }\n",
    "  \n",
    "  return(x)\n",
    "}"
   ]
  },
  {
   "cell_type": "markdown",
   "id": "ff629269",
   "metadata": {},
   "source": [
    "Argmin function is used to find argument minimum of the alpha parameter."
   ]
  },
  {
   "cell_type": "code",
   "execution_count": 6,
   "id": "69200397",
   "metadata": {},
   "outputs": [],
   "source": [
    "argmin <- function(objective,xk,e2,direction){\n",
    "  \n",
    "  func <- function(alpha){\n",
    "    return(objective(xk+(alpha*direction)))\n",
    "  }\n",
    "  min <- GoldenSectionMethod(-100,100,e2,func)\n",
    "  return(min)\n",
    "}"
   ]
  },
  {
   "cell_type": "markdown",
   "id": "ac618a5e",
   "metadata": {},
   "source": [
    "Steepest descent algorithm is shown below."
   ]
  },
  {
   "cell_type": "code",
   "execution_count": 7,
   "id": "e71c04a3",
   "metadata": {},
   "outputs": [],
   "source": [
    "steepest_descent <- function(e1,e2,exprs,x0){\n",
    "  \n",
    "  objective_st <- function(xvec){\n",
    "    x1_st <- xvec[1]\n",
    "    x2_st <- xvec[2]\n",
    "    return(eval(exprs,envir = list(x1=x1_st,x2=x2_st)))\n",
    "  }\n",
    "  \n",
    "  \n",
    "  k <- 0\n",
    "  x <- list()\n",
    "  alpha <- list()\n",
    "  direction_list <- list()\n",
    "  x[[as.character(k)]] <- x0\n",
    "  \n",
    "  while(TRUE){\n",
    "    \n",
    "    d1  <- eval(D(exprs,\"x1\"),envir = list(x1=x[[as.character(k)]][1],x2=x[[as.character(k)]][2]))\n",
    "    d2  <- eval(D(exprs,\"x2\"),envir = list(x1=x[[as.character(k)]][1],x2=x[[as.character(k)]][2]))\n",
    "    direction <- c(-d1,-d2)\n",
    "    direction <- direction/norm_vec(direction)\n",
    "    direction_list[[as.character(k)]] <- direction\n",
    "    alpha[[as.character(k)]] <- argmin(objective_st,x[[as.character(k)]],e2,direction)\n",
    "    x[[as.character(k+1)]] <- x[[as.character(k)]]+(alpha[[as.character(k)]]*direction)\n",
    "    k <- k + 1\n",
    "    if(abs(objective_st(x[[as.character(k)]])-objective_st(x[[as.character(k-1)]]))<e1){\n",
    "      return(list(\"x\"=x,\"alpha\"=alpha,\"direction\"=direction_list))\n",
    "    }\n",
    "  }\n",
    "}"
   ]
  },
  {
   "cell_type": "markdown",
   "id": "53a37893",
   "metadata": {},
   "source": [
    "Give result function is used for compute the results of the steepest descent algorithm with different parameters."
   ]
  },
  {
   "cell_type": "code",
   "execution_count": 8,
   "id": "a3fa2980",
   "metadata": {},
   "outputs": [],
   "source": [
    "give_result <- function(e1,e2,exprs,x0){\n",
    "  \n",
    "  objective_res <- function(xvec){\n",
    "    x1_res <- xvec[1]\n",
    "    x2_res <- xvec[2]\n",
    "    eval(exprs,envir = list(x1=x1_res,x2=x2_res))\n",
    "  }\n",
    "  \n",
    "  sol <- steepest_descent(e1,e2,exprs,x0)\n",
    "  x1 <- numeric(0)\n",
    "  x2 <- numeric(0)\n",
    "  f <- numeric(0)\n",
    "  a <- numeric(0)\n",
    "  d1 <- numeric(0)\n",
    "  d2 <- numeric(0)\n",
    "  \n",
    "  for(i in 0:length(sol$x)){\n",
    "    x1 <- c(x1,sol$x[[as.character(i)]][1])\n",
    "    x2 <- c(x2,sol$x[[as.character(i)]][2])\n",
    "    a <- c(a,sol$alpha[[as.character(i)]])\n",
    "    f <- c(f,objective_res(sol$x[[as.character(i)]]))\n",
    "    d1 <- c(d1,sol$direction[[as.character(i)]][1])\n",
    "    d2 <- c(d2,sol$direction[[as.character(i)]][2])\n",
    "  }\n",
    "  \n",
    "  x1 <- as.character(round(x1,3))\n",
    "  x2 <- as.character(round(x2,3))\n",
    "  d1 <- as.character(round(d1,3))\n",
    "  d2 <- as.character(round(d2,3))\n",
    "  f <- round(f,3)\n",
    "  X <- paste(x1,x2,sep=\" , \")\n",
    "  D <- paste(d1,d2,sep=\" , \")\n",
    "  Xk1  <- c(X[2:(length(X))],NA)\n",
    "  a[length(a)+1]=NA\n",
    "  D[length(D)+1]=NA\n",
    "  \n",
    "  results <- data.frame(\"Iteration\"=(0:(length(sol$x)-1)),\"X(k)\"=X,\"f(x1,x2)\"=f,\"d\"=D,\"alpha\"=a,\"X(k+1)\"=Xk1)\n",
    "  return(results)\n",
    "}"
   ]
  },
  {
   "cell_type": "markdown",
   "id": "f0e6a750",
   "metadata": {},
   "source": [
    "Here is the result table of objective function 1, with different epsilon values and different initial points."
   ]
  },
  {
   "cell_type": "code",
   "execution_count": 9,
   "id": "8aa43731",
   "metadata": {
    "scrolled": true
   },
   "outputs": [
    {
     "data": {
      "text/html": [
       "<table class=\"dataframe\">\n",
       "<caption>A data.frame: 17 × 6</caption>\n",
       "<thead>\n",
       "\t<tr><th scope=col>Iteration</th><th scope=col>X.k.</th><th scope=col>f.x1.x2.</th><th scope=col>d</th><th scope=col>alpha</th><th scope=col>X.k.1.</th></tr>\n",
       "\t<tr><th scope=col>&lt;int&gt;</th><th scope=col>&lt;chr&gt;</th><th scope=col>&lt;dbl&gt;</th><th scope=col>&lt;chr&gt;</th><th scope=col>&lt;dbl&gt;</th><th scope=col>&lt;chr&gt;</th></tr>\n",
       "</thead>\n",
       "<tbody>\n",
       "\t<tr><td> 0</td><td>31 , 20       </td><td>332151469.000</td><td>-0.981 , 0.196</td><td>26.613654353</td><td>4.903 , 25.219</td></tr>\n",
       "\t<tr><td> 1</td><td>4.903 , 25.219</td><td>      -24.862</td><td>0.252 , 0.968 </td><td> 1.761159400</td><td>5.348 , 26.923</td></tr>\n",
       "\t<tr><td> 2</td><td>5.348 , 26.923</td><td>      -25.291</td><td>-0.968 , 0.252</td><td> 0.106076463</td><td>5.245 , 26.95 </td></tr>\n",
       "\t<tr><td> 3</td><td>5.245 , 26.95 </td><td>      -25.849</td><td>0.261 , 0.965 </td><td> 0.772074534</td><td>5.447 , 27.695</td></tr>\n",
       "\t<tr><td> 4</td><td>5.447 , 27.695</td><td>      -26.018</td><td>-0.965 , 0.262</td><td> 0.052583651</td><td>5.396 , 27.709</td></tr>\n",
       "\t<tr><td> 5</td><td>5.396 , 27.709</td><td>      -26.207</td><td>-0.136 , 0.991</td><td> 0.024899910</td><td>5.393 , 27.734</td></tr>\n",
       "\t<tr><td> 6</td><td>5.393 , 27.734</td><td>      -26.213</td><td>0.992 , 0.128 </td><td> 0.007541442</td><td>5.4 , 27.735  </td></tr>\n",
       "\t<tr><td> 7</td><td>5.4 , 27.735  </td><td>      -26.218</td><td>0.219 , 0.976 </td><td> 2.836657527</td><td>6.022 , 30.503</td></tr>\n",
       "\t<tr><td> 8</td><td>6.022 , 30.503</td><td>      -26.786</td><td>-0.976 , 0.219</td><td> 0.072857103</td><td>5.951 , 30.519</td></tr>\n",
       "\t<tr><td> 9</td><td>5.951 , 30.519</td><td>      -27.136</td><td>0.41 , 0.912  </td><td> 0.024226233</td><td>5.96 , 30.541 </td></tr>\n",
       "\t<tr><td>10</td><td>5.96 , 30.541 </td><td>      -27.138</td><td>-0.912 , 0.41 </td><td> 0.005721033</td><td>5.955 , 30.543</td></tr>\n",
       "\t<tr><td>11</td><td>5.955 , 30.543</td><td>      -27.141</td><td>0.498 , 0.867 </td><td> 0.012607470</td><td>5.961 , 30.554</td></tr>\n",
       "\t<tr><td>12</td><td>5.961 , 30.554</td><td>      -27.142</td><td>-0.873 , 0.487</td><td> 0.003717947</td><td>5.958 , 30.556</td></tr>\n",
       "\t<tr><td>13</td><td>5.958 , 30.556</td><td>      -27.144</td><td>0.103 , 0.995 </td><td> 0.122171688</td><td>5.971 , 30.677</td></tr>\n",
       "\t<tr><td>14</td><td>5.971 , 30.677</td><td>      -27.157</td><td>0.995 , -0.103</td><td> 0.009565579</td><td>5.98 , 30.676 </td></tr>\n",
       "\t<tr><td>15</td><td>5.98 , 30.676 </td><td>      -27.169</td><td>0.917 , 0.4   </td><td> 0.002764285</td><td>5.983 , 30.677</td></tr>\n",
       "\t<tr><td>16</td><td>5.983 , 30.677</td><td>      -27.170</td><td>NA            </td><td>          NA</td><td>NA            </td></tr>\n",
       "</tbody>\n",
       "</table>\n"
      ],
      "text/latex": [
       "A data.frame: 17 × 6\n",
       "\\begin{tabular}{llllll}\n",
       " Iteration & X.k. & f.x1.x2. & d & alpha & X.k.1.\\\\\n",
       " <int> & <chr> & <dbl> & <chr> & <dbl> & <chr>\\\\\n",
       "\\hline\n",
       "\t  0 & 31 , 20        & 332151469.000 & -0.981 , 0.196 & 26.613654353 & 4.903 , 25.219\\\\\n",
       "\t  1 & 4.903 , 25.219 &       -24.862 & 0.252 , 0.968  &  1.761159400 & 5.348 , 26.923\\\\\n",
       "\t  2 & 5.348 , 26.923 &       -25.291 & -0.968 , 0.252 &  0.106076463 & 5.245 , 26.95 \\\\\n",
       "\t  3 & 5.245 , 26.95  &       -25.849 & 0.261 , 0.965  &  0.772074534 & 5.447 , 27.695\\\\\n",
       "\t  4 & 5.447 , 27.695 &       -26.018 & -0.965 , 0.262 &  0.052583651 & 5.396 , 27.709\\\\\n",
       "\t  5 & 5.396 , 27.709 &       -26.207 & -0.136 , 0.991 &  0.024899910 & 5.393 , 27.734\\\\\n",
       "\t  6 & 5.393 , 27.734 &       -26.213 & 0.992 , 0.128  &  0.007541442 & 5.4 , 27.735  \\\\\n",
       "\t  7 & 5.4 , 27.735   &       -26.218 & 0.219 , 0.976  &  2.836657527 & 6.022 , 30.503\\\\\n",
       "\t  8 & 6.022 , 30.503 &       -26.786 & -0.976 , 0.219 &  0.072857103 & 5.951 , 30.519\\\\\n",
       "\t  9 & 5.951 , 30.519 &       -27.136 & 0.41 , 0.912   &  0.024226233 & 5.96 , 30.541 \\\\\n",
       "\t 10 & 5.96 , 30.541  &       -27.138 & -0.912 , 0.41  &  0.005721033 & 5.955 , 30.543\\\\\n",
       "\t 11 & 5.955 , 30.543 &       -27.141 & 0.498 , 0.867  &  0.012607470 & 5.961 , 30.554\\\\\n",
       "\t 12 & 5.961 , 30.554 &       -27.142 & -0.873 , 0.487 &  0.003717947 & 5.958 , 30.556\\\\\n",
       "\t 13 & 5.958 , 30.556 &       -27.144 & 0.103 , 0.995  &  0.122171688 & 5.971 , 30.677\\\\\n",
       "\t 14 & 5.971 , 30.677 &       -27.157 & 0.995 , -0.103 &  0.009565579 & 5.98 , 30.676 \\\\\n",
       "\t 15 & 5.98 , 30.676  &       -27.169 & 0.917 , 0.4    &  0.002764285 & 5.983 , 30.677\\\\\n",
       "\t 16 & 5.983 , 30.677 &       -27.170 & NA             &           NA & NA            \\\\\n",
       "\\end{tabular}\n"
      ],
      "text/markdown": [
       "\n",
       "A data.frame: 17 × 6\n",
       "\n",
       "| Iteration &lt;int&gt; | X.k. &lt;chr&gt; | f.x1.x2. &lt;dbl&gt; | d &lt;chr&gt; | alpha &lt;dbl&gt; | X.k.1. &lt;chr&gt; |\n",
       "|---|---|---|---|---|---|\n",
       "|  0 | 31 , 20        | 332151469.000 | -0.981 , 0.196 | 26.613654353 | 4.903 , 25.219 |\n",
       "|  1 | 4.903 , 25.219 |       -24.862 | 0.252 , 0.968  |  1.761159400 | 5.348 , 26.923 |\n",
       "|  2 | 5.348 , 26.923 |       -25.291 | -0.968 , 0.252 |  0.106076463 | 5.245 , 26.95  |\n",
       "|  3 | 5.245 , 26.95  |       -25.849 | 0.261 , 0.965  |  0.772074534 | 5.447 , 27.695 |\n",
       "|  4 | 5.447 , 27.695 |       -26.018 | -0.965 , 0.262 |  0.052583651 | 5.396 , 27.709 |\n",
       "|  5 | 5.396 , 27.709 |       -26.207 | -0.136 , 0.991 |  0.024899910 | 5.393 , 27.734 |\n",
       "|  6 | 5.393 , 27.734 |       -26.213 | 0.992 , 0.128  |  0.007541442 | 5.4 , 27.735   |\n",
       "|  7 | 5.4 , 27.735   |       -26.218 | 0.219 , 0.976  |  2.836657527 | 6.022 , 30.503 |\n",
       "|  8 | 6.022 , 30.503 |       -26.786 | -0.976 , 0.219 |  0.072857103 | 5.951 , 30.519 |\n",
       "|  9 | 5.951 , 30.519 |       -27.136 | 0.41 , 0.912   |  0.024226233 | 5.96 , 30.541  |\n",
       "| 10 | 5.96 , 30.541  |       -27.138 | -0.912 , 0.41  |  0.005721033 | 5.955 , 30.543 |\n",
       "| 11 | 5.955 , 30.543 |       -27.141 | 0.498 , 0.867  |  0.012607470 | 5.961 , 30.554 |\n",
       "| 12 | 5.961 , 30.554 |       -27.142 | -0.873 , 0.487 |  0.003717947 | 5.958 , 30.556 |\n",
       "| 13 | 5.958 , 30.556 |       -27.144 | 0.103 , 0.995  |  0.122171688 | 5.971 , 30.677 |\n",
       "| 14 | 5.971 , 30.677 |       -27.157 | 0.995 , -0.103 |  0.009565579 | 5.98 , 30.676  |\n",
       "| 15 | 5.98 , 30.676  |       -27.169 | 0.917 , 0.4    |  0.002764285 | 5.983 , 30.677 |\n",
       "| 16 | 5.983 , 30.677 |       -27.170 | NA             |           NA | NA             |\n",
       "\n"
      ],
      "text/plain": [
       "   Iteration X.k.           f.x1.x2.      d              alpha       \n",
       "1   0        31 , 20        332151469.000 -0.981 , 0.196 26.613654353\n",
       "2   1        4.903 , 25.219       -24.862 0.252 , 0.968   1.761159400\n",
       "3   2        5.348 , 26.923       -25.291 -0.968 , 0.252  0.106076463\n",
       "4   3        5.245 , 26.95        -25.849 0.261 , 0.965   0.772074534\n",
       "5   4        5.447 , 27.695       -26.018 -0.965 , 0.262  0.052583651\n",
       "6   5        5.396 , 27.709       -26.207 -0.136 , 0.991  0.024899910\n",
       "7   6        5.393 , 27.734       -26.213 0.992 , 0.128   0.007541442\n",
       "8   7        5.4 , 27.735         -26.218 0.219 , 0.976   2.836657527\n",
       "9   8        6.022 , 30.503       -26.786 -0.976 , 0.219  0.072857103\n",
       "10  9        5.951 , 30.519       -27.136 0.41 , 0.912    0.024226233\n",
       "11 10        5.96 , 30.541        -27.138 -0.912 , 0.41   0.005721033\n",
       "12 11        5.955 , 30.543       -27.141 0.498 , 0.867   0.012607470\n",
       "13 12        5.961 , 30.554       -27.142 -0.873 , 0.487  0.003717947\n",
       "14 13        5.958 , 30.556       -27.144 0.103 , 0.995   0.122171688\n",
       "15 14        5.971 , 30.677       -27.157 0.995 , -0.103  0.009565579\n",
       "16 15        5.98 , 30.676        -27.169 0.917 , 0.4     0.002764285\n",
       "17 16        5.983 , 30.677       -27.170 NA                       NA\n",
       "   X.k.1.        \n",
       "1  4.903 , 25.219\n",
       "2  5.348 , 26.923\n",
       "3  5.245 , 26.95 \n",
       "4  5.447 , 27.695\n",
       "5  5.396 , 27.709\n",
       "6  5.393 , 27.734\n",
       "7  5.4 , 27.735  \n",
       "8  6.022 , 30.503\n",
       "9  5.951 , 30.519\n",
       "10 5.96 , 30.541 \n",
       "11 5.955 , 30.543\n",
       "12 5.961 , 30.554\n",
       "13 5.958 , 30.556\n",
       "14 5.971 , 30.677\n",
       "15 5.98 , 30.676 \n",
       "16 5.983 , 30.677\n",
       "17 NA            "
      ]
     },
     "metadata": {},
     "output_type": "display_data"
    },
    {
     "data": {
      "text/html": [
       "<table class=\"dataframe\">\n",
       "<caption>A data.frame: 15 × 6</caption>\n",
       "<thead>\n",
       "\t<tr><th scope=col>Iteration</th><th scope=col>X.k.</th><th scope=col>f.x1.x2.</th><th scope=col>d</th><th scope=col>alpha</th><th scope=col>X.k.1.</th></tr>\n",
       "\t<tr><th scope=col>&lt;int&gt;</th><th scope=col>&lt;chr&gt;</th><th scope=col>&lt;dbl&gt;</th><th scope=col>&lt;chr&gt;</th><th scope=col>&lt;dbl&gt;</th><th scope=col>&lt;chr&gt;</th></tr>\n",
       "</thead>\n",
       "<tbody>\n",
       "\t<tr><td> 0</td><td>100 , 100       </td><td> 2.560001e+10</td><td>-0.981 , 0.196 </td><td>7.869674e+01</td><td>22.831 , 115.434</td></tr>\n",
       "\t<tr><td> 1</td><td>22.831 , 115.434</td><td> 2.405680e+02</td><td>-0.17 , -0.985 </td><td>2.372981e+01</td><td>18.797 , 92.049 </td></tr>\n",
       "\t<tr><td> 2</td><td>18.797 , 92.049 </td><td> 1.427980e+02</td><td>-0.985 , 0.17  </td><td>6.096871e-01</td><td>18.196 , 92.153 </td></tr>\n",
       "\t<tr><td> 3</td><td>18.196 , 92.153 </td><td> 1.100940e+02</td><td>-0.22 , -0.975 </td><td>7.386606e+00</td><td>16.569 , 84.948 </td></tr>\n",
       "\t<tr><td> 4</td><td>16.569 , 84.948 </td><td> 9.051200e+01</td><td>0.975 , -0.22  </td><td>1.891425e-01</td><td>16.753 , 84.906 </td></tr>\n",
       "\t<tr><td> 5</td><td>16.753 , 84.906 </td><td> 7.828800e+01</td><td>-0.225 , -0.974</td><td>5.309843e+00</td><td>15.559 , 79.732 </td></tr>\n",
       "\t<tr><td> 6</td><td>15.559 , 79.732 </td><td> 6.604000e+01</td><td>0.974 , -0.225 </td><td>1.617731e-01</td><td>15.717 , 79.696 </td></tr>\n",
       "\t<tr><td> 7</td><td>15.717 , 79.696 </td><td> 5.800500e+01</td><td>-0.231 , -0.973</td><td>3.726041e+00</td><td>14.855 , 76.071 </td></tr>\n",
       "\t<tr><td> 8</td><td>14.855 , 76.071 </td><td> 5.034700e+01</td><td>0.973 , -0.231 </td><td>1.378628e-01</td><td>14.989 , 76.039 </td></tr>\n",
       "\t<tr><td> 9</td><td>14.989 , 76.039 </td><td> 4.505800e+01</td><td>-0.275 , -0.962</td><td>9.452466e-01</td><td>14.73 , 75.13   </td></tr>\n",
       "\t<tr><td>10</td><td>14.73 , 75.13   </td><td> 4.332700e+01</td><td>0.962 , -0.275 </td><td>7.664722e-02</td><td>14.804 , 75.109 </td></tr>\n",
       "\t<tr><td>11</td><td>14.804 , 75.109 </td><td> 4.193500e+01</td><td>-0.19 , -0.982 </td><td>4.278692e+01</td><td>6.665 , 33.103  </td></tr>\n",
       "\t<tr><td>12</td><td>6.665 , 33.103  </td><td>-2.577300e+01</td><td>-0.982 , 0.19  </td><td>1.979606e-01</td><td>6.471 , 33.141  </td></tr>\n",
       "\t<tr><td>13</td><td>6.471 , 33.141  </td><td>-2.743900e+01</td><td>-0.971 , 0.24  </td><td>5.668612e-04</td><td>6.471 , 33.141  </td></tr>\n",
       "\t<tr><td>14</td><td>6.471 , 33.141  </td><td>-2.744000e+01</td><td>NA             </td><td>          NA</td><td>NA              </td></tr>\n",
       "</tbody>\n",
       "</table>\n"
      ],
      "text/latex": [
       "A data.frame: 15 × 6\n",
       "\\begin{tabular}{llllll}\n",
       " Iteration & X.k. & f.x1.x2. & d & alpha & X.k.1.\\\\\n",
       " <int> & <chr> & <dbl> & <chr> & <dbl> & <chr>\\\\\n",
       "\\hline\n",
       "\t  0 & 100 , 100        &  2.560001e+10 & -0.981 , 0.196  & 7.869674e+01 & 22.831 , 115.434\\\\\n",
       "\t  1 & 22.831 , 115.434 &  2.405680e+02 & -0.17 , -0.985  & 2.372981e+01 & 18.797 , 92.049 \\\\\n",
       "\t  2 & 18.797 , 92.049  &  1.427980e+02 & -0.985 , 0.17   & 6.096871e-01 & 18.196 , 92.153 \\\\\n",
       "\t  3 & 18.196 , 92.153  &  1.100940e+02 & -0.22 , -0.975  & 7.386606e+00 & 16.569 , 84.948 \\\\\n",
       "\t  4 & 16.569 , 84.948  &  9.051200e+01 & 0.975 , -0.22   & 1.891425e-01 & 16.753 , 84.906 \\\\\n",
       "\t  5 & 16.753 , 84.906  &  7.828800e+01 & -0.225 , -0.974 & 5.309843e+00 & 15.559 , 79.732 \\\\\n",
       "\t  6 & 15.559 , 79.732  &  6.604000e+01 & 0.974 , -0.225  & 1.617731e-01 & 15.717 , 79.696 \\\\\n",
       "\t  7 & 15.717 , 79.696  &  5.800500e+01 & -0.231 , -0.973 & 3.726041e+00 & 14.855 , 76.071 \\\\\n",
       "\t  8 & 14.855 , 76.071  &  5.034700e+01 & 0.973 , -0.231  & 1.378628e-01 & 14.989 , 76.039 \\\\\n",
       "\t  9 & 14.989 , 76.039  &  4.505800e+01 & -0.275 , -0.962 & 9.452466e-01 & 14.73 , 75.13   \\\\\n",
       "\t 10 & 14.73 , 75.13    &  4.332700e+01 & 0.962 , -0.275  & 7.664722e-02 & 14.804 , 75.109 \\\\\n",
       "\t 11 & 14.804 , 75.109  &  4.193500e+01 & -0.19 , -0.982  & 4.278692e+01 & 6.665 , 33.103  \\\\\n",
       "\t 12 & 6.665 , 33.103   & -2.577300e+01 & -0.982 , 0.19   & 1.979606e-01 & 6.471 , 33.141  \\\\\n",
       "\t 13 & 6.471 , 33.141   & -2.743900e+01 & -0.971 , 0.24   & 5.668612e-04 & 6.471 , 33.141  \\\\\n",
       "\t 14 & 6.471 , 33.141   & -2.744000e+01 & NA              &           NA & NA              \\\\\n",
       "\\end{tabular}\n"
      ],
      "text/markdown": [
       "\n",
       "A data.frame: 15 × 6\n",
       "\n",
       "| Iteration &lt;int&gt; | X.k. &lt;chr&gt; | f.x1.x2. &lt;dbl&gt; | d &lt;chr&gt; | alpha &lt;dbl&gt; | X.k.1. &lt;chr&gt; |\n",
       "|---|---|---|---|---|---|\n",
       "|  0 | 100 , 100        |  2.560001e+10 | -0.981 , 0.196  | 7.869674e+01 | 22.831 , 115.434 |\n",
       "|  1 | 22.831 , 115.434 |  2.405680e+02 | -0.17 , -0.985  | 2.372981e+01 | 18.797 , 92.049  |\n",
       "|  2 | 18.797 , 92.049  |  1.427980e+02 | -0.985 , 0.17   | 6.096871e-01 | 18.196 , 92.153  |\n",
       "|  3 | 18.196 , 92.153  |  1.100940e+02 | -0.22 , -0.975  | 7.386606e+00 | 16.569 , 84.948  |\n",
       "|  4 | 16.569 , 84.948  |  9.051200e+01 | 0.975 , -0.22   | 1.891425e-01 | 16.753 , 84.906  |\n",
       "|  5 | 16.753 , 84.906  |  7.828800e+01 | -0.225 , -0.974 | 5.309843e+00 | 15.559 , 79.732  |\n",
       "|  6 | 15.559 , 79.732  |  6.604000e+01 | 0.974 , -0.225  | 1.617731e-01 | 15.717 , 79.696  |\n",
       "|  7 | 15.717 , 79.696  |  5.800500e+01 | -0.231 , -0.973 | 3.726041e+00 | 14.855 , 76.071  |\n",
       "|  8 | 14.855 , 76.071  |  5.034700e+01 | 0.973 , -0.231  | 1.378628e-01 | 14.989 , 76.039  |\n",
       "|  9 | 14.989 , 76.039  |  4.505800e+01 | -0.275 , -0.962 | 9.452466e-01 | 14.73 , 75.13    |\n",
       "| 10 | 14.73 , 75.13    |  4.332700e+01 | 0.962 , -0.275  | 7.664722e-02 | 14.804 , 75.109  |\n",
       "| 11 | 14.804 , 75.109  |  4.193500e+01 | -0.19 , -0.982  | 4.278692e+01 | 6.665 , 33.103   |\n",
       "| 12 | 6.665 , 33.103   | -2.577300e+01 | -0.982 , 0.19   | 1.979606e-01 | 6.471 , 33.141   |\n",
       "| 13 | 6.471 , 33.141   | -2.743900e+01 | -0.971 , 0.24   | 5.668612e-04 | 6.471 , 33.141   |\n",
       "| 14 | 6.471 , 33.141   | -2.744000e+01 | NA              |           NA | NA               |\n",
       "\n"
      ],
      "text/plain": [
       "   Iteration X.k.             f.x1.x2.      d               alpha       \n",
       "1   0        100 , 100         2.560001e+10 -0.981 , 0.196  7.869674e+01\n",
       "2   1        22.831 , 115.434  2.405680e+02 -0.17 , -0.985  2.372981e+01\n",
       "3   2        18.797 , 92.049   1.427980e+02 -0.985 , 0.17   6.096871e-01\n",
       "4   3        18.196 , 92.153   1.100940e+02 -0.22 , -0.975  7.386606e+00\n",
       "5   4        16.569 , 84.948   9.051200e+01 0.975 , -0.22   1.891425e-01\n",
       "6   5        16.753 , 84.906   7.828800e+01 -0.225 , -0.974 5.309843e+00\n",
       "7   6        15.559 , 79.732   6.604000e+01 0.974 , -0.225  1.617731e-01\n",
       "8   7        15.717 , 79.696   5.800500e+01 -0.231 , -0.973 3.726041e+00\n",
       "9   8        14.855 , 76.071   5.034700e+01 0.973 , -0.231  1.378628e-01\n",
       "10  9        14.989 , 76.039   4.505800e+01 -0.275 , -0.962 9.452466e-01\n",
       "11 10        14.73 , 75.13     4.332700e+01 0.962 , -0.275  7.664722e-02\n",
       "12 11        14.804 , 75.109   4.193500e+01 -0.19 , -0.982  4.278692e+01\n",
       "13 12        6.665 , 33.103   -2.577300e+01 -0.982 , 0.19   1.979606e-01\n",
       "14 13        6.471 , 33.141   -2.743900e+01 -0.971 , 0.24   5.668612e-04\n",
       "15 14        6.471 , 33.141   -2.744000e+01 NA                        NA\n",
       "   X.k.1.          \n",
       "1  22.831 , 115.434\n",
       "2  18.797 , 92.049 \n",
       "3  18.196 , 92.153 \n",
       "4  16.569 , 84.948 \n",
       "5  16.753 , 84.906 \n",
       "6  15.559 , 79.732 \n",
       "7  15.717 , 79.696 \n",
       "8  14.855 , 76.071 \n",
       "9  14.989 , 76.039 \n",
       "10 14.73 , 75.13   \n",
       "11 14.804 , 75.109 \n",
       "12 6.665 , 33.103  \n",
       "13 6.471 , 33.141  \n",
       "14 6.471 , 33.141  \n",
       "15 NA              "
      ]
     },
     "metadata": {},
     "output_type": "display_data"
    }
   ],
   "source": [
    "give_result(0.001,0.005,objective1,c(31,20))\n",
    "give_result(0.005,0.005,objective1,c(100,100))"
   ]
  },
  {
   "cell_type": "markdown",
   "id": "0c2f4d4b",
   "metadata": {},
   "source": [
    "Here is the result table of objective function 2, with different epsilon values and different initial points. However, objective function 2 is the Rosenbrock's curved valley function and it doesn't have a symmetric shape. Steepest descent algortihm couldn't approach the optimum sollution in such non-symmetric functions."
   ]
  },
  {
   "cell_type": "code",
   "execution_count": 10,
   "id": "575d3452",
   "metadata": {
    "scrolled": true
   },
   "outputs": [
    {
     "data": {
      "text/html": [
       "<table class=\"dataframe\">\n",
       "<caption>A data.frame: 7 × 6</caption>\n",
       "<thead>\n",
       "\t<tr><th scope=col>Iteration</th><th scope=col>X.k.</th><th scope=col>f.x1.x2.</th><th scope=col>d</th><th scope=col>alpha</th><th scope=col>X.k.1.</th></tr>\n",
       "\t<tr><th scope=col>&lt;int&gt;</th><th scope=col>&lt;chr&gt;</th><th scope=col>&lt;dbl&gt;</th><th scope=col>&lt;chr&gt;</th><th scope=col>&lt;dbl&gt;</th><th scope=col>&lt;chr&gt;</th></tr>\n",
       "</thead>\n",
       "<tbody>\n",
       "\t<tr><td>0</td><td>5 , 5         </td><td>40016.000</td><td>-0.995 , 0.099 </td><td> 7.4292126350</td><td>-2.392 , 5.739</td></tr>\n",
       "\t<tr><td>1</td><td>-2.392 , 5.739</td><td>   11.533</td><td>-0.935 , -0.356</td><td>-5.5289392787</td><td>2.775 , 7.707 </td></tr>\n",
       "\t<tr><td>2</td><td>2.775 , 7.707 </td><td>    3.156</td><td>0.961 , -0.277 </td><td>-6.0763630954</td><td>-3.064 , 9.389</td></tr>\n",
       "\t<tr><td>3</td><td>-3.064 , 9.389</td><td>   16.518</td><td>1 , 0.005      </td><td> 6.1334203142</td><td>3.069 , 9.421 </td></tr>\n",
       "\t<tr><td>4</td><td>3.069 , 9.421 </td><td>    4.281</td><td>-0.99 , -0.139 </td><td> 6.0555567850</td><td>-2.928 , 8.58 </td></tr>\n",
       "\t<tr><td>5</td><td>-2.928 , 8.58 </td><td>   15.434</td><td>-0.745 , -0.667</td><td> 0.0005668612</td><td>-2.928 , 8.58 </td></tr>\n",
       "\t<tr><td>6</td><td>-2.928 , 8.58 </td><td>   15.434</td><td>NA             </td><td>           NA</td><td>NA            </td></tr>\n",
       "</tbody>\n",
       "</table>\n"
      ],
      "text/latex": [
       "A data.frame: 7 × 6\n",
       "\\begin{tabular}{llllll}\n",
       " Iteration & X.k. & f.x1.x2. & d & alpha & X.k.1.\\\\\n",
       " <int> & <chr> & <dbl> & <chr> & <dbl> & <chr>\\\\\n",
       "\\hline\n",
       "\t 0 & 5 , 5          & 40016.000 & -0.995 , 0.099  &  7.4292126350 & -2.392 , 5.739\\\\\n",
       "\t 1 & -2.392 , 5.739 &    11.533 & -0.935 , -0.356 & -5.5289392787 & 2.775 , 7.707 \\\\\n",
       "\t 2 & 2.775 , 7.707  &     3.156 & 0.961 , -0.277  & -6.0763630954 & -3.064 , 9.389\\\\\n",
       "\t 3 & -3.064 , 9.389 &    16.518 & 1 , 0.005       &  6.1334203142 & 3.069 , 9.421 \\\\\n",
       "\t 4 & 3.069 , 9.421  &     4.281 & -0.99 , -0.139  &  6.0555567850 & -2.928 , 8.58 \\\\\n",
       "\t 5 & -2.928 , 8.58  &    15.434 & -0.745 , -0.667 &  0.0005668612 & -2.928 , 8.58 \\\\\n",
       "\t 6 & -2.928 , 8.58  &    15.434 & NA              &            NA & NA            \\\\\n",
       "\\end{tabular}\n"
      ],
      "text/markdown": [
       "\n",
       "A data.frame: 7 × 6\n",
       "\n",
       "| Iteration &lt;int&gt; | X.k. &lt;chr&gt; | f.x1.x2. &lt;dbl&gt; | d &lt;chr&gt; | alpha &lt;dbl&gt; | X.k.1. &lt;chr&gt; |\n",
       "|---|---|---|---|---|---|\n",
       "| 0 | 5 , 5          | 40016.000 | -0.995 , 0.099  |  7.4292126350 | -2.392 , 5.739 |\n",
       "| 1 | -2.392 , 5.739 |    11.533 | -0.935 , -0.356 | -5.5289392787 | 2.775 , 7.707  |\n",
       "| 2 | 2.775 , 7.707  |     3.156 | 0.961 , -0.277  | -6.0763630954 | -3.064 , 9.389 |\n",
       "| 3 | -3.064 , 9.389 |    16.518 | 1 , 0.005       |  6.1334203142 | 3.069 , 9.421  |\n",
       "| 4 | 3.069 , 9.421  |     4.281 | -0.99 , -0.139  |  6.0555567850 | -2.928 , 8.58  |\n",
       "| 5 | -2.928 , 8.58  |    15.434 | -0.745 , -0.667 |  0.0005668612 | -2.928 , 8.58  |\n",
       "| 6 | -2.928 , 8.58  |    15.434 | NA              |            NA | NA             |\n",
       "\n"
      ],
      "text/plain": [
       "  Iteration X.k.           f.x1.x2.  d               alpha        \n",
       "1 0         5 , 5          40016.000 -0.995 , 0.099   7.4292126350\n",
       "2 1         -2.392 , 5.739    11.533 -0.935 , -0.356 -5.5289392787\n",
       "3 2         2.775 , 7.707      3.156 0.961 , -0.277  -6.0763630954\n",
       "4 3         -3.064 , 9.389    16.518 1 , 0.005        6.1334203142\n",
       "5 4         3.069 , 9.421      4.281 -0.99 , -0.139   6.0555567850\n",
       "6 5         -2.928 , 8.58     15.434 -0.745 , -0.667  0.0005668612\n",
       "7 6         -2.928 , 8.58     15.434 NA                         NA\n",
       "  X.k.1.        \n",
       "1 -2.392 , 5.739\n",
       "2 2.775 , 7.707 \n",
       "3 -3.064 , 9.389\n",
       "4 3.069 , 9.421 \n",
       "5 -2.928 , 8.58 \n",
       "6 -2.928 , 8.58 \n",
       "7 NA            "
      ]
     },
     "metadata": {},
     "output_type": "display_data"
    },
    {
     "data": {
      "text/html": [
       "<table class=\"dataframe\">\n",
       "<caption>A data.frame: 3 × 6</caption>\n",
       "<thead>\n",
       "\t<tr><th scope=col>Iteration</th><th scope=col>X.k.</th><th scope=col>f.x1.x2.</th><th scope=col>d</th><th scope=col>alpha</th><th scope=col>X.k.1.</th></tr>\n",
       "\t<tr><th scope=col>&lt;int&gt;</th><th scope=col>&lt;chr&gt;</th><th scope=col>&lt;dbl&gt;</th><th scope=col>&lt;chr&gt;</th><th scope=col>&lt;dbl&gt;</th><th scope=col>&lt;chr&gt;</th></tr>\n",
       "</thead>\n",
       "<tbody>\n",
       "\t<tr><td>0</td><td>100 , 100      </td><td>9.80101e+09</td><td>-1 , 0.005</td><td>8.997853e+01</td><td>10.023 , 100.45</td></tr>\n",
       "\t<tr><td>1</td><td>10.023 , 100.45</td><td>8.14080e+01</td><td>-1 , 0.018</td><td>7.950133e-04</td><td>10.022 , 100.45</td></tr>\n",
       "\t<tr><td>2</td><td>10.022 , 100.45</td><td>8.14110e+01</td><td>NA        </td><td>          NA</td><td>NA             </td></tr>\n",
       "</tbody>\n",
       "</table>\n"
      ],
      "text/latex": [
       "A data.frame: 3 × 6\n",
       "\\begin{tabular}{llllll}\n",
       " Iteration & X.k. & f.x1.x2. & d & alpha & X.k.1.\\\\\n",
       " <int> & <chr> & <dbl> & <chr> & <dbl> & <chr>\\\\\n",
       "\\hline\n",
       "\t 0 & 100 , 100       & 9.80101e+09 & -1 , 0.005 & 8.997853e+01 & 10.023 , 100.45\\\\\n",
       "\t 1 & 10.023 , 100.45 & 8.14080e+01 & -1 , 0.018 & 7.950133e-04 & 10.022 , 100.45\\\\\n",
       "\t 2 & 10.022 , 100.45 & 8.14110e+01 & NA         &           NA & NA             \\\\\n",
       "\\end{tabular}\n"
      ],
      "text/markdown": [
       "\n",
       "A data.frame: 3 × 6\n",
       "\n",
       "| Iteration &lt;int&gt; | X.k. &lt;chr&gt; | f.x1.x2. &lt;dbl&gt; | d &lt;chr&gt; | alpha &lt;dbl&gt; | X.k.1. &lt;chr&gt; |\n",
       "|---|---|---|---|---|---|\n",
       "| 0 | 100 , 100       | 9.80101e+09 | -1 , 0.005 | 8.997853e+01 | 10.023 , 100.45 |\n",
       "| 1 | 10.023 , 100.45 | 8.14080e+01 | -1 , 0.018 | 7.950133e-04 | 10.022 , 100.45 |\n",
       "| 2 | 10.022 , 100.45 | 8.14110e+01 | NA         |           NA | NA              |\n",
       "\n"
      ],
      "text/plain": [
       "  Iteration X.k.            f.x1.x2.    d          alpha        X.k.1.         \n",
       "1 0         100 , 100       9.80101e+09 -1 , 0.005 8.997853e+01 10.023 , 100.45\n",
       "2 1         10.023 , 100.45 8.14080e+01 -1 , 0.018 7.950133e-04 10.022 , 100.45\n",
       "3 2         10.022 , 100.45 8.14110e+01 NA                   NA NA             "
      ]
     },
     "metadata": {},
     "output_type": "display_data"
    }
   ],
   "source": [
    "give_result(0.001,0.005,objective2,c(5,5))\n",
    "give_result(0.005,0.005,objective2,c(100,100))"
   ]
  }
 ],
 "metadata": {
  "kernelspec": {
   "display_name": "R",
   "language": "R",
   "name": "ir"
  },
  "language_info": {
   "codemirror_mode": "r",
   "file_extension": ".r",
   "mimetype": "text/x-r-source",
   "name": "R",
   "pygments_lexer": "r",
   "version": "4.1.2"
  }
 },
 "nbformat": 4,
 "nbformat_minor": 5
}
