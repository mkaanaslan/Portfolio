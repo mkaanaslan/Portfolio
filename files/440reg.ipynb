{
 "cells": [
  {
   "cell_type": "markdown",
   "id": "72ab9f77",
   "metadata": {},
   "source": [
    "### Importing the Data"
   ]
  },
  {
   "cell_type": "code",
   "execution_count": 1,
   "id": "ee30c2e6",
   "metadata": {
    "scrolled": true
   },
   "outputs": [
    {
     "data": {
      "text/html": [
       "<table class=\"dataframe\">\n",
       "<caption>A data.table: 6 × 2</caption>\n",
       "<thead>\n",
       "\t<tr><th scope=col>x</th><th scope=col>y</th></tr>\n",
       "\t<tr><th scope=col>&lt;dbl&gt;</th><th scope=col>&lt;dbl&gt;</th></tr>\n",
       "</thead>\n",
       "<tbody>\n",
       "\t<tr><td>202.2445</td><td>205.9120</td></tr>\n",
       "\t<tr><td>246.0861</td><td>131.7401</td></tr>\n",
       "\t<tr><td>217.7339</td><td>154.8883</td></tr>\n",
       "\t<tr><td>207.7652</td><td>209.4287</td></tr>\n",
       "\t<tr><td>247.5324</td><td>203.2680</td></tr>\n",
       "\t<tr><td>248.2110</td><td>186.0544</td></tr>\n",
       "</tbody>\n",
       "</table>\n"
      ],
      "text/latex": [
       "A data.table: 6 × 2\n",
       "\\begin{tabular}{ll}\n",
       " x & y\\\\\n",
       " <dbl> & <dbl>\\\\\n",
       "\\hline\n",
       "\t 202.2445 & 205.9120\\\\\n",
       "\t 246.0861 & 131.7401\\\\\n",
       "\t 217.7339 & 154.8883\\\\\n",
       "\t 207.7652 & 209.4287\\\\\n",
       "\t 247.5324 & 203.2680\\\\\n",
       "\t 248.2110 & 186.0544\\\\\n",
       "\\end{tabular}\n"
      ],
      "text/markdown": [
       "\n",
       "A data.table: 6 × 2\n",
       "\n",
       "| x &lt;dbl&gt; | y &lt;dbl&gt; |\n",
       "|---|---|\n",
       "| 202.2445 | 205.9120 |\n",
       "| 246.0861 | 131.7401 |\n",
       "| 217.7339 | 154.8883 |\n",
       "| 207.7652 | 209.4287 |\n",
       "| 247.5324 | 203.2680 |\n",
       "| 248.2110 | 186.0544 |\n",
       "\n"
      ],
      "text/plain": [
       "  x        y       \n",
       "1 202.2445 205.9120\n",
       "2 246.0861 131.7401\n",
       "3 217.7339 154.8883\n",
       "4 207.7652 209.4287\n",
       "5 247.5324 203.2680\n",
       "6 248.2110 186.0544"
      ]
     },
     "metadata": {},
     "output_type": "display_data"
    }
   ],
   "source": [
    "library(data.table)\n",
    "library(ggplot2)\n",
    "train_dt <- fread(\"C:/Users/kaan9/OneDrive/Masaüstü/IE440Final21Training.txt\")\n",
    "colnames(train_dt) <- c(\"x\",\"y\")\n",
    "test_dt <- fread(\"C:/Users/kaan9/OneDrive/Masaüstü/IE440Final21Test.txt\")\n",
    "colnames(test_dt) <- c(\"x\",\"y\")\n",
    "head(train_dt)\n",
    "options(repr.plot.width=6, repr.plot.height=6)"
   ]
  },
  {
   "cell_type": "markdown",
   "id": "bb3ee811",
   "metadata": {},
   "source": [
    "### Defining Error Functions"
   ]
  },
  {
   "cell_type": "markdown",
   "id": "2a6039e4",
   "metadata": {},
   "source": [
    "While defining the functions, the x and y values of the data is minimised with the division all data points by minimum value. This is neceassary because with the normal data, some matrix values are getting too big to compute."
   ]
  },
  {
   "cell_type": "code",
   "execution_count": 2,
   "id": "2c447295",
   "metadata": {},
   "outputs": [],
   "source": [
    "x <- train_dt$x \n",
    "y <- train_dt$y \n",
    "\n",
    "x_test <- test_dt$x\n",
    "y_test <- test_dt$y\n",
    "\n",
    "objective1 <- expression(\n",
    "  (y-w0-w1*x)^2\n",
    ")\n",
    "\n",
    "objective1_test <- expression(\n",
    "  (y_test-w0-w1*x_test)^2\n",
    ")\n",
    "\n",
    "objective2 <- expression(\n",
    "  (y-w0-w1*x-w2*x^2-w3*x^3)^2\n",
    ")\n",
    "\n",
    "objective2_test <- expression(\n",
    "  (y_test-w0-w1*x_test-w2*x_test^2-w3*x_test^3)^2\n",
    ")"
   ]
  },
  {
   "cell_type": "markdown",
   "id": "b2575cd4",
   "metadata": {},
   "source": [
    "### Necessary Functions"
   ]
  },
  {
   "cell_type": "markdown",
   "id": "1cfa613b",
   "metadata": {},
   "source": [
    "The \"norm_vec\" function calculates the norm of a given vector"
   ]
  },
  {
   "cell_type": "code",
   "execution_count": 3,
   "id": "22cdbe8f",
   "metadata": {},
   "outputs": [],
   "source": [
    "norm_vec <- function(vec){\n",
    "  sqrt(sum(vec^2))\n",
    "}"
   ]
  },
  {
   "cell_type": "markdown",
   "id": "9da6a8ff",
   "metadata": {},
   "source": [
    "The \"get_hessian\" function calculates the Hessian matrix of a given funciton"
   ]
  },
  {
   "cell_type": "code",
   "execution_count": 4,
   "id": "b619eca5",
   "metadata": {},
   "outputs": [],
   "source": [
    "get_hessian <- function(exprs,wk,y_values,x_values){\n",
    "  wk0 <- wk[1]\n",
    "  wk1 <- wk[2]\n",
    "  h1 <- sum(eval(D(D(exprs,\"w0\"),\"w0\"),envir=list(w0=wk0,w1=wk1)))\n",
    "  h2 <- sum(eval(D(D(exprs,\"w0\"),\"w1\"),envir=list(w0=wk0,w1=wk1)))\n",
    "  h3 <- sum(eval(D(D(exprs,\"w1\"),\"w0\"),envir=list(w0=wk0,w1=wk1)))\n",
    "  h4 <- sum(eval(D(D(exprs,\"w1\"),\"w1\"),envir=list(w0=wk0,w1=wk1)))\n",
    "  hes <- matrix(c(h1,h3,h2,h4),nrow=2,ncol=2)\n",
    "  return(hes)\n",
    "}"
   ]
  },
  {
   "cell_type": "code",
   "execution_count": 5,
   "id": "615b0c68",
   "metadata": {},
   "outputs": [],
   "source": [
    "get_hessian_4d <- function(exprs,wk,y_values,x_values){\n",
    "  wk0 <- wk[1]\n",
    "  wk1 <- wk[2]\n",
    "  wk2 <- wk[3]\n",
    "  wk3 <- wk[4]  \n",
    "  h1 <- sum(eval(D(D(exprs,\"w0\"),\"w0\"),envir=list(w0=wk0,w1=wk1,w2=wk2,w3=wk3)))\n",
    "  h2 <- sum(eval(D(D(exprs,\"w0\"),\"w1\"),envir=list(w0=wk0,w1=wk1,w2=wk2,w3=wk3)))\n",
    "  h3 <- sum(eval(D(D(exprs,\"w0\"),\"w2\"),envir=list(w0=wk0,w1=wk1,w2=wk2,w3=wk3)))\n",
    "  h4 <- sum(eval(D(D(exprs,\"w0\"),\"w3\"),envir=list(w0=wk0,w1=wk1,w2=wk2,w3=wk3)))  \n",
    "  h5 <- sum(eval(D(D(exprs,\"w1\"),\"w0\"),envir=list(w0=wk0,w1=wk1,w2=wk2,w3=wk3)))\n",
    "  h6 <- sum(eval(D(D(exprs,\"w1\"),\"w1\"),envir=list(w0=wk0,w1=wk1,w2=wk2,w3=wk3)))\n",
    "  h7 <- sum(eval(D(D(exprs,\"w1\"),\"w2\"),envir=list(w0=wk0,w1=wk1,w2=wk2,w3=wk3)))\n",
    "  h8 <- sum(eval(D(D(exprs,\"w1\"),\"w3\"),envir=list(w0=wk0,w1=wk1,w2=wk2,w3=wk3)))\n",
    "  h9 <- sum(eval(D(D(exprs,\"w2\"),\"w0\"),envir=list(w0=wk0,w1=wk1,w2=wk2,w3=wk3)))\n",
    "  h10 <- sum(eval(D(D(exprs,\"w2\"),\"w1\"),envir=list(w0=wk0,w1=wk1,w2=wk2,w3=wk3)))\n",
    "  h11 <- sum(eval(D(D(exprs,\"w2\"),\"w2\"),envir=list(w0=wk0,w1=wk1,w2=wk2,w3=wk3)))\n",
    "  h12 <- sum(eval(D(D(exprs,\"w2\"),\"w3\"),envir=list(w0=wk0,w1=wk1,w2=wk2,w3=wk3)))\n",
    "  h13 <- sum(eval(D(D(exprs,\"w3\"),\"w0\"),envir=list(w0=wk0,w1=wk1,w2=wk2,w3=wk3)))\n",
    "  h14 <- sum(eval(D(D(exprs,\"w3\"),\"w1\"),envir=list(w0=wk0,w1=wk1,w2=wk2,w3=wk3)))\n",
    "  h15 <- sum(eval(D(D(exprs,\"w3\"),\"w2\"),envir=list(w0=wk0,w1=wk1,w2=wk2,w3=wk3)))\n",
    "  h16 <- sum(eval(D(D(exprs,\"w3\"),\"w3\"),envir=list(w0=wk0,w1=wk1,w2=wk2,w3=wk3)))  \n",
    "  hes <- matrix(c(h1,h5,h9,h13,h2,h6,h10,h14,h3,h7,h11,h15,h4,h8,h12,h16),nrow=4,ncol=4)\n",
    "  return(hes)\n",
    "}"
   ]
  },
  {
   "cell_type": "markdown",
   "id": "65a56503",
   "metadata": {},
   "source": [
    "The \"GoldenSectionMethod\" function returns minimum of a one dimensional function on a given range from \"a\" to \"b\""
   ]
  },
  {
   "cell_type": "code",
   "execution_count": 6,
   "id": "da42702e",
   "metadata": {},
   "outputs": [],
   "source": [
    "GoldenSectionMethod <- function(a,b,e2,func) {\n",
    "  gamma <- 1.618\n",
    "  x <- b - (1/gamma)*(b-a)\n",
    "  y <- a + (1/gamma)*(b-a)\n",
    "  fx <- func(x)\n",
    "  fy <- func(y)  \n",
    "  while (b-a>=e2) {\n",
    "    if(fx > fy) {\n",
    "      a <- x\n",
    "      x <- y\n",
    "      y <- a + (1/gamma)*(b-a)\n",
    "      fx <- fy\n",
    "      fy <- func(y)\n",
    "    }   \n",
    "    else {\n",
    "      b <- y\n",
    "      y <- x\n",
    "      x <- b - (1/gamma)*(b-a)\n",
    "      fy <- fx\n",
    "      fx <- func(x)\n",
    "    }\n",
    "  } \n",
    "  return(x)\n",
    "}"
   ]
  },
  {
   "cell_type": "markdown",
   "id": "5d3e62e1",
   "metadata": {},
   "source": [
    "The \"argmin\" function returns argmin of a given function on a specific direction, with the help of Golden Section Method"
   ]
  },
  {
   "cell_type": "code",
   "execution_count": 7,
   "id": "fe58eb28",
   "metadata": {},
   "outputs": [],
   "source": [
    "argmin <- function(objective,xk,e2,direction){\n",
    "  \n",
    "  func <- function(alpha){\n",
    "    return(objective(xk+(alpha*direction)))\n",
    "  }\n",
    "  min <- GoldenSectionMethod(-100,100,e2,func)\n",
    "  return(min)\n",
    "}"
   ]
  },
  {
   "cell_type": "markdown",
   "id": "81513f04",
   "metadata": {},
   "source": [
    "### 1) Least Square Method"
   ]
  },
  {
   "cell_type": "markdown",
   "id": "37eb967c",
   "metadata": {},
   "source": [
    "#### a) Linear Regression"
   ]
  },
  {
   "cell_type": "markdown",
   "id": "463f514d",
   "metadata": {},
   "source": [
    "Newton's algorithm for the non-linear functions is used for finding the optimum \"w\" values in the error functions. Shown below is the algortihm for 2-dimensional functions. However,  data is pre-processed in the defined function by dividing to minimum value, because some matrices are getting too big to compute. The final values are multiplied again by the minimum value to find the best sollution."
   ]
  },
  {
   "cell_type": "code",
   "execution_count": 8,
   "id": "4947bc6d",
   "metadata": {},
   "outputs": [],
   "source": [
    "linearRegression_newton <- function(e1,e2,data,w0){\n",
    "    \n",
    "    x_values <- data$x / min(data$x,data$y)\n",
    "    y_values <- data$y / min(data$x,data$y)\n",
    "\n",
    "    exprs <- expression(\n",
    "      (y_values-w0-w1*x_values)^2\n",
    "    )\n",
    "  \n",
    "  objective_st <- function(wvec){\n",
    "    w0_st <- wvec[1]\n",
    "    w1_st <- wvec[2]\n",
    "    return(sum(eval(exprs,envir = list(w0=w0_st,w1=w1_st))))\n",
    "  }\n",
    "  k <- 0\n",
    "  w <- list()\n",
    "  w[[as.character(k)]] <- w0\n",
    "  ctrl <- TRUE  \n",
    "  \n",
    "  while(ctrl==TRUE){\n",
    "    hes <- get_hessian(exprs,w[[as.character(k)]],y_values,x_values)\n",
    "    g1  <- sum(eval(D(exprs,\"w0\"),envir = list(w0=w[[as.character(k)]][1],w1=w[[as.character(k)]][2])))\n",
    "    g2  <- sum(eval(D(exprs,\"w1\"),envir = list(w0=w[[as.character(k)]][1],w1=w[[as.character(k)]][2])))\n",
    "    grad <- c(-g1,-g2)\n",
    "    direction <- solve(hes) %*% grad  \n",
    "    alpha <- argmin(objective_st,w[[as.character(k)]],e2,direction)\n",
    "    w[[as.character(k+1)]] <- w[[as.character(k)]]+(alpha*direction)\n",
    "    k <- k + 1\n",
    "    if(norm_vec(grad)<e1){\n",
    "      ctrl <- FALSE\n",
    "    }\n",
    "  }\n",
    "  w0 <- w[[length(w)]][1]*min(data$x,data$y)\n",
    "  w1 <- w[[length(w)]][2]\n",
    "  it <- length(w)  \n",
    "  return(data.table(\"Number of iterations\"=it,\"w0\"=w0,\"w1\"=w1))\n",
    "}"
   ]
  },
  {
   "cell_type": "code",
   "execution_count": 9,
   "id": "83717a08",
   "metadata": {},
   "outputs": [
    {
     "data": {
      "text/html": [
       "<table class=\"dataframe\">\n",
       "<caption>A data.table: 1 × 3</caption>\n",
       "<thead>\n",
       "\t<tr><th scope=col>Number of iterations</th><th scope=col>w0</th><th scope=col>w1</th></tr>\n",
       "\t<tr><th scope=col>&lt;int&gt;</th><th scope=col>&lt;dbl&gt;</th><th scope=col>&lt;dbl&gt;</th></tr>\n",
       "</thead>\n",
       "<tbody>\n",
       "\t<tr><td>11</td><td>103.9086</td><td>0.7403813</td></tr>\n",
       "</tbody>\n",
       "</table>\n"
      ],
      "text/latex": [
       "A data.table: 1 × 3\n",
       "\\begin{tabular}{lll}\n",
       " Number of iterations & w0 & w1\\\\\n",
       " <int> & <dbl> & <dbl>\\\\\n",
       "\\hline\n",
       "\t 11 & 103.9086 & 0.7403813\\\\\n",
       "\\end{tabular}\n"
      ],
      "text/markdown": [
       "\n",
       "A data.table: 1 × 3\n",
       "\n",
       "| Number of iterations &lt;int&gt; | w0 &lt;dbl&gt; | w1 &lt;dbl&gt; |\n",
       "|---|---|---|\n",
       "| 11 | 103.9086 | 0.7403813 |\n",
       "\n"
      ],
      "text/plain": [
       "  Number of iterations w0       w1       \n",
       "1 11                   103.9086 0.7403813"
      ]
     },
     "metadata": {},
     "output_type": "display_data"
    }
   ],
   "source": [
    "res_a <- linearRegression_newton(0.00001,0.00001,train_dt,c(1,1))\n",
    "res_a"
   ]
  },
  {
   "cell_type": "markdown",
   "id": "44c5cd63",
   "metadata": {},
   "source": [
    "The function found the best \"w\" parameters after 11 iterations. Best values of \"w\" parameters are w0=103.90, w1=0.74 So, the linear regression model is y=103.90+(0.74*x). The results could be compared to the R's \"lm\" function."
   ]
  },
  {
   "cell_type": "code",
   "execution_count": 10,
   "id": "96a4a50d",
   "metadata": {
    "scrolled": true
   },
   "outputs": [
    {
     "data": {
      "text/plain": [
       "\n",
       "Call:\n",
       "lm(formula = y ~ x, data = train_dt)\n",
       "\n",
       "Coefficients:\n",
       "(Intercept)            x  \n",
       "   103.9086       0.7404  \n"
      ]
     },
     "metadata": {},
     "output_type": "display_data"
    }
   ],
   "source": [
    "model_lm <- lm(y~x,train_dt)\n",
    "model_lm"
   ]
  },
  {
   "cell_type": "markdown",
   "id": "dfc2dbe0",
   "metadata": {},
   "source": [
    "The \"lm\" function's results are w0=103.91 and w1=0.74. Results are very similar, that means best solution is found."
   ]
  },
  {
   "cell_type": "markdown",
   "id": "82b382be",
   "metadata": {},
   "source": [
    "Performance measures of the linear regression with least squares method is shown below"
   ]
  },
  {
   "cell_type": "code",
   "execution_count": 11,
   "id": "bf01b7f2",
   "metadata": {},
   "outputs": [],
   "source": [
    "train_sse_a <- sum(eval(objective1,envir = list(w0=res_a$w0,w1=res_a$w1)))\n",
    "test_mse_a <-  sum(eval(objective1_test,envir = list(w0=res_a$w0,w1=res_a$w1)))/length(x_test)\n",
    "test_s2_a <- sum((test_mse_a-eval(objective1_test,envir = list(w0=res_a$w0,w1=res_a$w1)))^2)/(length(x_test)-1)"
   ]
  },
  {
   "cell_type": "code",
   "execution_count": 12,
   "id": "ca57c04e",
   "metadata": {},
   "outputs": [
    {
     "data": {
      "text/html": [
       "3834771.39122891"
      ],
      "text/latex": [
       "3834771.39122891"
      ],
      "text/markdown": [
       "3834771.39122891"
      ],
      "text/plain": [
       "[1] 3834771"
      ]
     },
     "metadata": {},
     "output_type": "display_data"
    }
   ],
   "source": [
    "train_sse_a"
   ]
  },
  {
   "cell_type": "code",
   "execution_count": 13,
   "id": "b97b96ab",
   "metadata": {},
   "outputs": [
    {
     "data": {
      "text/html": [
       "50217.3032285847"
      ],
      "text/latex": [
       "50217.3032285847"
      ],
      "text/markdown": [
       "50217.3032285847"
      ],
      "text/plain": [
       "[1] 50217.3"
      ]
     },
     "metadata": {},
     "output_type": "display_data"
    }
   ],
   "source": [
    "test_mse_a"
   ]
  },
  {
   "cell_type": "code",
   "execution_count": 14,
   "id": "3cada502",
   "metadata": {},
   "outputs": [
    {
     "data": {
      "text/html": [
       "10655325396.8468"
      ],
      "text/latex": [
       "10655325396.8468"
      ],
      "text/markdown": [
       "10655325396.8468"
      ],
      "text/plain": [
       "[1] 10655325397"
      ]
     },
     "metadata": {},
     "output_type": "display_data"
    }
   ],
   "source": [
    "test_s2_a"
   ]
  },
  {
   "cell_type": "code",
   "execution_count": 15,
   "id": "c3e07f7d",
   "metadata": {},
   "outputs": [],
   "source": [
    "predict_lm <- function(x,res){\n",
    "    y = res$w0 + res$w1*x\n",
    "    return(y)\n",
    "}"
   ]
  },
  {
   "cell_type": "code",
   "execution_count": 16,
   "id": "48104985",
   "metadata": {},
   "outputs": [],
   "source": [
    "train_pred <- predict_lm(train_dt$x,res_a)\n",
    "test_pred <- predict_lm(test_dt$x,res_a)"
   ]
  },
  {
   "cell_type": "markdown",
   "id": "0f669ce5",
   "metadata": {},
   "source": [
    "##### Graph of Training Predictions and Actual Y Values"
   ]
  },
  {
   "cell_type": "code",
   "execution_count": 38,
   "id": "0e2313cd",
   "metadata": {},
   "outputs": [
    {
     "data": {
      "image/png": "[encoded data removed]",
      "text/plain": [
       "plot without title"
      ]
     },
     "metadata": {
      "image/png": {
       "height": 360,
       "width": 360
      }
     },
     "output_type": "display_data"
    }
   ],
   "source": [
    "ggplot(train_dt,aes(x=train_dt$x)) + geom_point(aes(y=train_dt$y,col=\"actual\")) + geom_point(aes(y=train_pred,col=\"prediction\"))"
   ]
  },
  {
   "cell_type": "markdown",
   "id": "f29b450a",
   "metadata": {},
   "source": [
    "##### Graph of Test Predictions and Actual Y Values"
   ]
  },
  {
   "cell_type": "code",
   "execution_count": 39,
   "id": "d0f7111d",
   "metadata": {},
   "outputs": [
    {
     "data": {
      "image/png": "[encoded data removed]",
      "text/plain": [
       "plot without title"
      ]
     },
     "metadata": {
      "image/png": {
       "height": 360,
       "width": 360
      }
     },
     "output_type": "display_data"
    }
   ],
   "source": [
    "ggplot(test_dt,aes(x=test_dt$x)) + geom_point(aes(y=test_dt$y,col=\"actual\")) + geom_point(aes(y=test_pred,col=\"prediction\"))"
   ]
  },
  {
   "cell_type": "markdown",
   "id": "9c26118f",
   "metadata": {},
   "source": [
    "#### b) Polynomial Regression"
   ]
  },
  {
   "cell_type": "markdown",
   "id": "00d15da3",
   "metadata": {},
   "source": [
    "Again, the data is minimized with division every data point by the min value in the defined function."
   ]
  },
  {
   "cell_type": "code",
   "execution_count": 19,
   "id": "a5e688de",
   "metadata": {},
   "outputs": [],
   "source": [
    "polynomialRegression_newton <- function(e1,e2,data,w0){\n",
    "    \n",
    "    x_values <- data$x / min(data$x,data$y)\n",
    "    y_values <- data$y / min(data$x,data$y)\n",
    "    \n",
    "    exprs <- expression(\n",
    "      (y_values-w0-w1*x_values-w2*(x_values^2)-w3*(x_values^3))^2\n",
    "    )\n",
    "  \n",
    "  objective_st <- function(wvec){\n",
    "    w0_st <- wvec[1]\n",
    "    w1_st <- wvec[2]\n",
    "    w2_st <- wvec[3]\n",
    "    w3_st <- wvec[4]  \n",
    "    return(sum(eval(exprs,envir = list(w0=w0_st,w1=w1_st,w2=w2_st,w3=w3_st))))\n",
    "  }\n",
    "  k <- 0\n",
    "  w <- list()\n",
    "  w[[as.character(k)]] <- w0\n",
    "  ctrl <- TRUE  \n",
    "  \n",
    "  while(ctrl==TRUE){\n",
    "    hes <- get_hessian_4d(exprs,w[[as.character(k)]],y_values,x_values)\n",
    "    g1  <- sum(eval(D(exprs,\"w0\"),envir = list(w0=w[[as.character(k)]][1],w1=w[[as.character(k)]][2],\n",
    "                                               w2=w[[as.character(k)]][3],w3=w[[as.character(k)]][4])))\n",
    "    g2  <- sum(eval(D(exprs,\"w1\"),envir = list(w0=w[[as.character(k)]][1],w1=w[[as.character(k)]][2],\n",
    "                                               w2=w[[as.character(k)]][3],w3=w[[as.character(k)]][4])))\n",
    "    g3  <- sum(eval(D(exprs,\"w2\"),envir = list(w0=w[[as.character(k)]][1],w1=w[[as.character(k)]][2],\n",
    "                                               w2=w[[as.character(k)]][3],w3=w[[as.character(k)]][4])))\n",
    "    g4  <- sum(eval(D(exprs,\"w3\"),envir = list(w0=w[[as.character(k)]][1],w1=w[[as.character(k)]][2],\n",
    "                                               w2=w[[as.character(k)]][3],w3=w[[as.character(k)]][4])))\n",
    "    grad <- c(-g1,-g2,-g3,-g4)\n",
    "    direction <- solve(hes) %*% grad  \n",
    "    alpha <- argmin(objective_st,w[[as.character(k)]],e2,direction)\n",
    "    w[[as.character(k+1)]] <- w[[as.character(k)]]+(alpha*direction)\n",
    "    k <- k + 1 \n",
    "    if(norm_vec(grad)<e1){\n",
    "      ctrl <- FALSE\n",
    "    }\n",
    "  }\n",
    "  w0 <- w[[length(w)]][1]*min(data$x,data$y)\n",
    "  w1 <- w[[length(w)]][2]\n",
    "  w2 <- w[[length(w)]][3]/min(data$x,data$y)\n",
    "  w3 <- w[[length(w)]][4]/(min(data$x,data$y)^2) \n",
    "  it <- length(w)  \n",
    "  return(data.table(\"Number of iterations\"=it,\"w0\"=w0,\"w1\"=w1,\"w2\"=w2,\"w3\"=w3))  \n",
    "}"
   ]
  },
  {
   "cell_type": "code",
   "execution_count": 20,
   "id": "3be40a36",
   "metadata": {
    "scrolled": true
   },
   "outputs": [],
   "source": [
    "res_b <- polynomialRegression_newton(0.00001,0.00001,train_dt,c(1,1,1,1))"
   ]
  },
  {
   "cell_type": "code",
   "execution_count": 21,
   "id": "839d79dd",
   "metadata": {},
   "outputs": [
    {
     "data": {
      "text/html": [
       "<table class=\"dataframe\">\n",
       "<caption>A data.table: 1 × 5</caption>\n",
       "<thead>\n",
       "\t<tr><th scope=col>Number of iterations</th><th scope=col>w0</th><th scope=col>w1</th><th scope=col>w2</th><th scope=col>w3</th></tr>\n",
       "\t<tr><th scope=col>&lt;int&gt;</th><th scope=col>&lt;dbl&gt;</th><th scope=col>&lt;dbl&gt;</th><th scope=col>&lt;dbl&gt;</th><th scope=col>&lt;dbl&gt;</th></tr>\n",
       "</thead>\n",
       "<tbody>\n",
       "\t<tr><td>375</td><td>-561.0178</td><td>5.357579</td><td>-0.008001828</td><td>3.951136e-06</td></tr>\n",
       "</tbody>\n",
       "</table>\n"
      ],
      "text/latex": [
       "A data.table: 1 × 5\n",
       "\\begin{tabular}{lllll}\n",
       " Number of iterations & w0 & w1 & w2 & w3\\\\\n",
       " <int> & <dbl> & <dbl> & <dbl> & <dbl>\\\\\n",
       "\\hline\n",
       "\t 375 & -561.0178 & 5.357579 & -0.008001828 & 3.951136e-06\\\\\n",
       "\\end{tabular}\n"
      ],
      "text/markdown": [
       "\n",
       "A data.table: 1 × 5\n",
       "\n",
       "| Number of iterations &lt;int&gt; | w0 &lt;dbl&gt; | w1 &lt;dbl&gt; | w2 &lt;dbl&gt; | w3 &lt;dbl&gt; |\n",
       "|---|---|---|---|---|\n",
       "| 375 | -561.0178 | 5.357579 | -0.008001828 | 3.951136e-06 |\n",
       "\n"
      ],
      "text/plain": [
       "  Number of iterations w0        w1       w2           w3          \n",
       "1 375                  -561.0178 5.357579 -0.008001828 3.951136e-06"
      ]
     },
     "metadata": {},
     "output_type": "display_data"
    }
   ],
   "source": [
    "res_b"
   ]
  },
  {
   "cell_type": "markdown",
   "id": "aab0daca",
   "metadata": {},
   "source": [
    "The best \"w\" parameters are found after 325 iterations. The formula of the polynomial regression is y=-561.02+(5.35x)-(0.008x^2)+(0.0000039x^3). Again, results are compared to \"lm\" function. The results are again very close."
   ]
  },
  {
   "cell_type": "code",
   "execution_count": 22,
   "id": "36976f2d",
   "metadata": {},
   "outputs": [
    {
     "data": {
      "text/plain": [
       "\n",
       "Call:\n",
       "lm(formula = y ~ x + I(x^2) + I(x^3), data = train_dt)\n",
       "\n",
       "Coefficients:\n",
       "(Intercept)            x       I(x^2)       I(x^3)  \n",
       " -5.610e+02    5.358e+00   -8.002e-03    3.951e-06  \n"
      ]
     },
     "metadata": {},
     "output_type": "display_data"
    }
   ],
   "source": [
    "model_pm <- lm(y~x + I(x^2) + I(x^3),train_dt)\n",
    "model_pm"
   ]
  },
  {
   "cell_type": "code",
   "execution_count": 23,
   "id": "9aa0711e",
   "metadata": {},
   "outputs": [],
   "source": [
    "train_sse_b <- sum(eval(objective2,envir = list(w0=res_b$w0,w1=res_b$w1,w2=res_b$w2,w3=res_b$w3)))\n",
    "test_mse_b <-  sum(eval(objective2_test,envir = list(w0=res_b$w0,w1=res_b$w1,w2=res_b$w2,w3=res_b$w3)))/length(x_test)\n",
    "test_s2_b <- sum((test_mse_b-eval(objective2_test,envir = list(w0=res_b$w0,w1=res_b$w1,w2=res_b$w2,w3=res_b$w3)))^2)/(length(x_test)-1)"
   ]
  },
  {
   "cell_type": "code",
   "execution_count": 24,
   "id": "86e5da6c",
   "metadata": {},
   "outputs": [
    {
     "data": {
      "text/html": [
       "3146364.35252372"
      ],
      "text/latex": [
       "3146364.35252372"
      ],
      "text/markdown": [
       "3146364.35252372"
      ],
      "text/plain": [
       "[1] 3146364"
      ]
     },
     "metadata": {},
     "output_type": "display_data"
    }
   ],
   "source": [
    "train_sse_b"
   ]
  },
  {
   "cell_type": "code",
   "execution_count": 25,
   "id": "6e95d13f",
   "metadata": {},
   "outputs": [
    {
     "data": {
      "text/html": [
       "42182.3146948937"
      ],
      "text/latex": [
       "42182.3146948937"
      ],
      "text/markdown": [
       "42182.3146948937"
      ],
      "text/plain": [
       "[1] 42182.31"
      ]
     },
     "metadata": {},
     "output_type": "display_data"
    }
   ],
   "source": [
    "test_mse_b"
   ]
  },
  {
   "cell_type": "code",
   "execution_count": 26,
   "id": "05088d82",
   "metadata": {},
   "outputs": [
    {
     "data": {
      "text/html": [
       "8360713123.51611"
      ],
      "text/latex": [
       "8360713123.51611"
      ],
      "text/markdown": [
       "8360713123.51611"
      ],
      "text/plain": [
       "[1] 8360713124"
      ]
     },
     "metadata": {},
     "output_type": "display_data"
    }
   ],
   "source": [
    "test_s2_b"
   ]
  },
  {
   "cell_type": "code",
   "execution_count": 27,
   "id": "a1eb492a",
   "metadata": {},
   "outputs": [],
   "source": [
    "predict_pm <- function(x,res){\n",
    "    y = res$w0 + res$w1*x + res$w2*x^2 + res$w3*x^3\n",
    "    return(y)\n",
    "}"
   ]
  },
  {
   "cell_type": "code",
   "execution_count": 28,
   "id": "a0d4f3e2",
   "metadata": {},
   "outputs": [],
   "source": [
    "train_pred_b <- predict_pm(train_dt$x,res_b)\n",
    "test_pred_b <- predict_pm(test_dt$x,res_b)"
   ]
  },
  {
   "cell_type": "markdown",
   "id": "92762465",
   "metadata": {},
   "source": [
    "##### Graph of Training Predictions and Actual Y Values"
   ]
  },
  {
   "cell_type": "code",
   "execution_count": 40,
   "id": "725a4e4a",
   "metadata": {},
   "outputs": [
    {
     "data": {
      "image/png": "[encoded data removed]",
      "text/plain": [
       "plot without title"
      ]
     },
     "metadata": {
      "image/png": {
       "height": 360,
       "width": 360
      }
     },
     "output_type": "display_data"
    }
   ],
   "source": [
    "ggplot(train_dt,aes(x=train_dt$x)) + geom_point(aes(y=train_dt$y,col=\"actual\")) + geom_point(aes(y=train_pred_b,col=\"prediction\"))"
   ]
  },
  {
   "cell_type": "markdown",
   "id": "17ef971a",
   "metadata": {},
   "source": [
    "##### Graph of Test Predictions and Actual Y Values"
   ]
  },
  {
   "cell_type": "code",
   "execution_count": 41,
   "id": "a73f3056",
   "metadata": {
    "scrolled": false
   },
   "outputs": [
    {
     "data": {
      "image/png": "[encoded data removed]",
      "text/plain": [
       "plot without title"
      ]
     },
     "metadata": {
      "image/png": {
       "height": 360,
       "width": 360
      }
     },
     "output_type": "display_data"
    }
   ],
   "source": [
    "ggplot(test_dt,aes(x=test_dt$x)) + geom_point(aes(y=test_dt$y,col=\"actual\")) + geom_point(aes(y=test_pred_b,col=\"prediction\"))"
   ]
  },
  {
   "cell_type": "markdown",
   "id": "6e394561",
   "metadata": {},
   "source": [
    "#### Performance Measures LinearRegression vs PolynomialRegression"
   ]
  },
  {
   "cell_type": "code",
   "execution_count": 31,
   "id": "28b33677",
   "metadata": {},
   "outputs": [
    {
     "data": {
      "text/html": [
       "<table class=\"dataframe\">\n",
       "<caption>A data.table: 2 × 4</caption>\n",
       "<thead>\n",
       "\t<tr><th scope=col>Model</th><th scope=col>Training SSE</th><th scope=col>Test MSE</th><th scope=col>Variance for Test MSE</th></tr>\n",
       "\t<tr><th scope=col>&lt;chr&gt;</th><th scope=col>&lt;dbl&gt;</th><th scope=col>&lt;dbl&gt;</th><th scope=col>&lt;dbl&gt;</th></tr>\n",
       "</thead>\n",
       "<tbody>\n",
       "\t<tr><td>a) LinearRegression    </td><td>3834771</td><td>50217.30</td><td>10655325397</td></tr>\n",
       "\t<tr><td>b) PolynomialRegression</td><td>3146364</td><td>42182.31</td><td> 8360713124</td></tr>\n",
       "</tbody>\n",
       "</table>\n"
      ],
      "text/latex": [
       "A data.table: 2 × 4\n",
       "\\begin{tabular}{llll}\n",
       " Model & Training SSE & Test MSE & Variance for Test MSE\\\\\n",
       " <chr> & <dbl> & <dbl> & <dbl>\\\\\n",
       "\\hline\n",
       "\t a) LinearRegression     & 3834771 & 50217.30 & 10655325397\\\\\n",
       "\t b) PolynomialRegression & 3146364 & 42182.31 &  8360713124\\\\\n",
       "\\end{tabular}\n"
      ],
      "text/markdown": [
       "\n",
       "A data.table: 2 × 4\n",
       "\n",
       "| Model &lt;chr&gt; | Training SSE &lt;dbl&gt; | Test MSE &lt;dbl&gt; | Variance for Test MSE &lt;dbl&gt; |\n",
       "|---|---|---|---|\n",
       "| a) LinearRegression     | 3834771 | 50217.30 | 10655325397 |\n",
       "| b) PolynomialRegression | 3146364 | 42182.31 |  8360713124 |\n",
       "\n"
      ],
      "text/plain": [
       "  Model                   Training SSE Test MSE Variance for Test MSE\n",
       "1 a) LinearRegression     3834771      50217.30 10655325397          \n",
       "2 b) PolynomialRegression 3146364      42182.31  8360713124          "
      ]
     },
     "metadata": {},
     "output_type": "display_data"
    }
   ],
   "source": [
    "compare <- data.table(\"Model\"=c(\"a) LinearRegression\",\"b) PolynomialRegression\"),\"Training SSE\"=c(train_sse_a,train_sse_b),\n",
    "                      \"Test MSE\"=c(test_mse_a,test_mse_b),\"Variance for Test MSE\"=c(test_s2_a,test_s2_b))\n",
    "compare"
   ]
  }
 ],
 "metadata": {
  "kernelspec": {
   "display_name": "R",
   "language": "R",
   "name": "ir"
  },
  "language_info": {
   "codemirror_mode": "r",
   "file_extension": ".r",
   "mimetype": "text/x-r-source",
   "name": "R",
   "pygments_lexer": "r",
   "version": "4.1.2"
  }
 },
 "nbformat": 4,
 "nbformat_minor": 5
}
